{
 "metadata": {
  "language_info": {
   "codemirror_mode": {
    "name": "ipython",
    "version": 3
   },
   "file_extension": ".py",
   "mimetype": "text/x-python",
   "name": "python",
   "nbconvert_exporter": "python",
   "pygments_lexer": "ipython3",
   "version": "3.8.6"
  },
  "orig_nbformat": 2,
  "kernelspec": {
   "name": "python3",
   "display_name": "Python 3.8.6 64-bit ('maps_env': conda)",
   "metadata": {
    "interpreter": {
     "hash": "835460a5a53b7de835beab5a12ef9ce0e6feab786c68abd0099c4703ceac1391"
    }
   }
  }
 },
 "nbformat": 4,
 "nbformat_minor": 2,
 "cells": [
  {
   "cell_type": "code",
   "execution_count": 3,
   "metadata": {},
   "outputs": [],
   "source": [
    "import os\n",
    "import requests\n",
    "import rasterio as rio\n",
    "import rioxarray as rxr\n",
    "import pandas as pd\n",
    "\n",
    "\n",
    "\"\"\" Prepare files\n",
    "    1. Make file belgium.csv a dataframe, so we can use a loc method to get the cooridantes\n",
    "    2. Make a dataframe with the bounds per tiff file, so que can use a loc mehtod to select only \n",
    "    the desired file\"\"\"\n",
    "\n",
    "\n",
    "\n",
    "\"\"\" 2.A: Files for DSM\"\"\"\n",
    "dsm_files = os.listdir(\"DSM\")\n",
    "dsm_bounds_lst = []\n",
    "for lst in dsm_files:\n",
    "    file = rxr.open_rasterio(\"DSM/\" + lst, masked=True).squeeze()\n",
    "    dsm_bounds = file.rio.bounds()\n",
    "    dsm_bounds_lst.append(\n",
    "        [lst, dsm_bounds[0], dsm_bounds[1], dsm_bounds[2], dsm_bounds[3]]\n",
    "    )\n",
    "\n",
    "dsm_df = pd.DataFrame(dsm_bounds_lst, columns=[\"file\", \"xmin\", \"ymin\", \"xmax\", \"ymax\"])\n",
    "\n",
    "dsm_df.set_index(\"file\", inplace=True)\n",
    "\n",
    "\"\"\" 2.B: Files for DTM\"\"\"\n",
    "dtm_files = os.listdir(\"DTM\")\n",
    "dtm_bounds_lst = []\n",
    "for lst in dtm_files:\n",
    "    file = rxr.open_rasterio(\"DTM/\" + lst, masked=True).squeeze()\n",
    "    dtm_bounds = file.rio.bounds()\n",
    "    dtm_bounds_lst.append(\n",
    "        [lst, dtm_bounds[0], dtm_bounds[1], dtm_bounds[2], dtm_bounds[3]]\n",
    "    )\n",
    "\n",
    "dtm_df = pd.DataFrame(dtm_bounds_lst, columns=[\"file\", \"xmin\", \"ymin\", \"xmax\", \"ymax\"])\n",
    "\n",
    "dtm_df.set_index(\"file\", inplace=True)\n"
   ]
  },
  {
   "cell_type": "code",
   "execution_count": 5,
   "metadata": {},
   "outputs": [
    {
     "output_type": "execute_result",
     "data": {
      "text/plain": [
       "                            xmin      ymin      xmax      ymax\n",
       "file                                                          \n",
       "DHMVIIDTMRAS1m_k01.tif  145000.0  238000.0  162000.0  247000.0\n",
       "DHMVIIDTMRAS1m_k07.tif  130000.0  218000.0  162000.0  238000.0\n",
       "DHMVIIDTMRAS1m_k15.tif  130000.0  198000.0  162000.0  218000.0\n",
       "DHMVIIDTMRAS1m_k31.tif  130000.0  158000.0  162000.0  178000.0\n",
       "DHMVIIDTMRAS1m_k35.tif  258000.0  158000.0  264000.0  169000.0"
      ],
      "text/html": "<div>\n<style scoped>\n    .dataframe tbody tr th:only-of-type {\n        vertical-align: middle;\n    }\n\n    .dataframe tbody tr th {\n        vertical-align: top;\n    }\n\n    .dataframe thead th {\n        text-align: right;\n    }\n</style>\n<table border=\"1\" class=\"dataframe\">\n  <thead>\n    <tr style=\"text-align: right;\">\n      <th></th>\n      <th>xmin</th>\n      <th>ymin</th>\n      <th>xmax</th>\n      <th>ymax</th>\n    </tr>\n    <tr>\n      <th>file</th>\n      <th></th>\n      <th></th>\n      <th></th>\n      <th></th>\n    </tr>\n  </thead>\n  <tbody>\n    <tr>\n      <th>DHMVIIDTMRAS1m_k01.tif</th>\n      <td>145000.0</td>\n      <td>238000.0</td>\n      <td>162000.0</td>\n      <td>247000.0</td>\n    </tr>\n    <tr>\n      <th>DHMVIIDTMRAS1m_k07.tif</th>\n      <td>130000.0</td>\n      <td>218000.0</td>\n      <td>162000.0</td>\n      <td>238000.0</td>\n    </tr>\n    <tr>\n      <th>DHMVIIDTMRAS1m_k15.tif</th>\n      <td>130000.0</td>\n      <td>198000.0</td>\n      <td>162000.0</td>\n      <td>218000.0</td>\n    </tr>\n    <tr>\n      <th>DHMVIIDTMRAS1m_k31.tif</th>\n      <td>130000.0</td>\n      <td>158000.0</td>\n      <td>162000.0</td>\n      <td>178000.0</td>\n    </tr>\n    <tr>\n      <th>DHMVIIDTMRAS1m_k35.tif</th>\n      <td>258000.0</td>\n      <td>158000.0</td>\n      <td>264000.0</td>\n      <td>169000.0</td>\n    </tr>\n  </tbody>\n</table>\n</div>"
     },
     "metadata": {},
     "execution_count": 5
    }
   ],
   "source": [
    "dtm_df.head()"
   ]
  },
  {
   "cell_type": "code",
   "execution_count": 7,
   "metadata": {},
   "outputs": [
    {
     "output_type": "execute_result",
     "data": {
      "text/plain": [
       "                            xmin      ymin      xmax      ymax\n",
       "file                                                          \n",
       "DHMVIIDSMRAS1m_k01.tif  145000.0  238000.0  162000.0  247000.0\n",
       "DHMVIIDSMRAS1m_k03.tif  194000.0  238000.0  206000.0  248000.0\n",
       "DHMVIIDSMRAS1m_k04.tif   53000.0  218000.0   66000.0  225500.0\n",
       "DHMVIIDSMRAS1m_k05.tif   66000.0  218000.0   98000.0  232000.0\n",
       "DHMVIIDSMRAS1m_k06.tif   98000.0  218000.0  130000.0  227000.0"
      ],
      "text/html": "<div>\n<style scoped>\n    .dataframe tbody tr th:only-of-type {\n        vertical-align: middle;\n    }\n\n    .dataframe tbody tr th {\n        vertical-align: top;\n    }\n\n    .dataframe thead th {\n        text-align: right;\n    }\n</style>\n<table border=\"1\" class=\"dataframe\">\n  <thead>\n    <tr style=\"text-align: right;\">\n      <th></th>\n      <th>xmin</th>\n      <th>ymin</th>\n      <th>xmax</th>\n      <th>ymax</th>\n    </tr>\n    <tr>\n      <th>file</th>\n      <th></th>\n      <th></th>\n      <th></th>\n      <th></th>\n    </tr>\n  </thead>\n  <tbody>\n    <tr>\n      <th>DHMVIIDSMRAS1m_k01.tif</th>\n      <td>145000.0</td>\n      <td>238000.0</td>\n      <td>162000.0</td>\n      <td>247000.0</td>\n    </tr>\n    <tr>\n      <th>DHMVIIDSMRAS1m_k03.tif</th>\n      <td>194000.0</td>\n      <td>238000.0</td>\n      <td>206000.0</td>\n      <td>248000.0</td>\n    </tr>\n    <tr>\n      <th>DHMVIIDSMRAS1m_k04.tif</th>\n      <td>53000.0</td>\n      <td>218000.0</td>\n      <td>66000.0</td>\n      <td>225500.0</td>\n    </tr>\n    <tr>\n      <th>DHMVIIDSMRAS1m_k05.tif</th>\n      <td>66000.0</td>\n      <td>218000.0</td>\n      <td>98000.0</td>\n      <td>232000.0</td>\n    </tr>\n    <tr>\n      <th>DHMVIIDSMRAS1m_k06.tif</th>\n      <td>98000.0</td>\n      <td>218000.0</td>\n      <td>130000.0</td>\n      <td>227000.0</td>\n    </tr>\n  </tbody>\n</table>\n</div>"
     },
     "metadata": {},
     "execution_count": 7
    }
   ],
   "source": [
    "dsm_df.head()"
   ]
  },
  {
   "cell_type": "code",
   "execution_count": null,
   "metadata": {},
   "outputs": [],
   "source": []
  }
 ]
}