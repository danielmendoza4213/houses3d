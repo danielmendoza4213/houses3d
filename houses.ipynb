{
 "cells": [
  {
   "cell_type": "code",
   "execution_count": 1,
   "metadata": {},
   "outputs": [],
   "source": [
    "import requests\n",
    "import json\n",
    "import rasterio as rio\n",
    "import rioxarray as rxr\n",
    "import pandas as pd\n",
    "from files import dsm_df\n",
    "from files import dtm_df\n",
    "\n",
    "import matplotlib.pyplot as plt\n",
    "import earthpy.plot as ep\n",
    "from mpl_toolkits.mplot3d import Axes3D\n",
    "import seaborn as sns\n",
    "\n",
    "import geopandas as gpd\n",
    "\n",
    "import plotly.graph_objects as go\n",
    "\n",
    "import numpy as np\n"
   ]
  },
  {
   "cell_type": "code",
   "execution_count": 6,
   "metadata": {},
   "outputs": [],
   "source": [
    "# street='Sint-Pietersvliet'\n",
    "# number='7'\n",
    "# post='2000'"
   ]
  },
  {
   "cell_type": "code",
   "execution_count": 46,
   "metadata": {},
   "outputs": [],
   "source": [
    "street='Vleeshouwersstraat'\n",
    "number='38'\n",
    "post='2000'"
   ]
  },
  {
   "cell_type": "code",
   "execution_count": 47,
   "metadata": {},
   "outputs": [],
   "source": [
    "polygone=[]"
   ]
  },
  {
   "cell_type": "code",
   "execution_count": 84,
   "metadata": {},
   "outputs": [],
   "source": [
    "def house_info(street, number, post):\n",
    "    a=requests.get('https://api.basisregisters.dev-vlaanderen.be/v1/adressen?'+'straatnaam='+street+'&huisnummer='+number+'&postcode='+post+'&limit=1')\n",
    "    b=a.json()\n",
    "    id1= b['adressen'][0]['identificator']['objectId']\n",
    "    print('Address found: Id1 is',id1)\n",
    "    c=requests.get('https://api.basisregisters.vlaanderen.be/v1/gebouweenheden?adresObjectId='+id1)\n",
    "    d=c.json()\n",
    "    id2= d['gebouweenheden'][0]['identificator']['objectId']\n",
    "    print('Building units found: Id2 is',id2)\n",
    "    e=requests.get('https://api.basisregisters.vlaanderen.be/v1/gebouweenheden/'+id2)\n",
    "    f=e.json()\n",
    "    id3= f['gebouw']['objectId']\n",
    "    print('Building found: Id3 is',id3)\n",
    "    g=requests.get('https://api.basisregisters.vlaanderen.be/v1/gebouwen/'+id3)\n",
    "    h=g.json()\n",
    "    poly=h['geometriePolygoon']['polygon']['coordinates'][0]\n",
    "    polygone.append(poly)"
   ]
  },
  {
   "cell_type": "code",
   "execution_count": 85,
   "metadata": {},
   "outputs": [
    {
     "output_type": "stream",
     "name": "stdout",
     "text": [
      "Address found: Id1 is 1951291\n",
      "Building units found: Id2 is 15779926\n",
      "Building found: Id3 is 15778838\n"
     ]
    }
   ],
   "source": [
    "house_info(street, number, post)"
   ]
  },
  {
   "cell_type": "code",
   "execution_count": 82,
   "metadata": {},
   "outputs": [],
   "source": [
    "x=polygone[0][0][0]\n",
    "y=polygone[0][0][1]\n"
   ]
  },
  {
   "cell_type": "code",
   "execution_count": 13,
   "metadata": {},
   "outputs": [],
   "source": [
    "file_dsm_selected = dsm_df.loc[\n",
    "    (x < dsm_df.xmax) & (x > dsm_df.xmin) & (y < dsm_df.ymax) & (y > dsm_df.ymin)\n",
    "]\n",
    "\n",
    "dsm_selected = file_dsm_selected.index.format()[0]\n"
   ]
  },
  {
   "cell_type": "code",
   "execution_count": 15,
   "metadata": {},
   "outputs": [],
   "source": [
    "file_dtm_selected = dtm_df.loc[\n",
    "    (x < dtm_df.xmax) & (x > dtm_df.xmin) & (y < dtm_df.ymax) & (y > dtm_df.ymin)\n",
    "]\n",
    "dtm_selected = file_dtm_selected.index.format()[0]"
   ]
  },
  {
   "cell_type": "code",
   "execution_count": 16,
   "metadata": {},
   "outputs": [],
   "source": [
    "read_dsm = rxr.open_rasterio(\"DSM/\" + dsm_selected, masked=True).squeeze()\n",
    "read_dtm = rxr.open_rasterio(\"DTM/\" + dtm_selected, masked=True).squeeze()"
   ]
  },
  {
   "cell_type": "code",
   "execution_count": 17,
   "metadata": {},
   "outputs": [
    {
     "output_type": "stream",
     "name": "stdout",
     "text": [
      "Is the spatial extent the same? True\n"
     ]
    }
   ],
   "source": [
    "print(\"Is the spatial extent the same?\", read_dsm.rio.bounds() == read_dtm.rio.bounds())"
   ]
  },
  {
   "cell_type": "code",
   "execution_count": 19,
   "metadata": {},
   "outputs": [],
   "source": [
    "k15=  read_dsm - read_dtm"
   ]
  },
  {
   "cell_type": "code",
   "execution_count": 15,
   "metadata": {},
   "outputs": [],
   "source": [
    "k15.rio.to_raster(\"k15.tif\")"
   ]
  },
  {
   "cell_type": "code",
   "execution_count": 50,
   "metadata": {},
   "outputs": [],
   "source": [
    "geometries = [\n",
    "    {\n",
    "        'type': 'Polygon',\n",
    "        'coordinates': polygone\n",
    "    }\n",
    "]"
   ]
  },
  {
   "cell_type": "code",
   "execution_count": 58,
   "metadata": {},
   "outputs": [],
   "source": [
    "clipped = rxr.open_rasterio(\"k15.tif\", masked=True).rio.clip(geometries, from_disk=True)"
   ]
  },
  {
   "cell_type": "code",
   "execution_count": 59,
   "metadata": {},
   "outputs": [
    {
     "output_type": "execute_result",
     "data": {
      "text/plain": [
       "(array([879.,   1.,   3.,   8.,   9., 119., 164., 140., 152.,  65.]),\n",
       " array([ 0.        ,  3.22247314,  6.44494629,  9.66741943, 12.88989258,\n",
       "        16.11236572, 19.33483887, 22.55731201, 25.77978516, 29.0022583 ,\n",
       "        32.22473145]),\n",
       " <BarContainer object of 10 artists>)"
      ]
     },
     "metadata": {},
     "execution_count": 59
    },
    {
     "output_type": "display_data",
     "data": {
      "text/plain": "<Figure size 432x288 with 1 Axes>",
      "image/svg+xml": "<?xml version=\"1.0\" encoding=\"utf-8\" standalone=\"no\"?>\r\n<!DOCTYPE svg PUBLIC \"-//W3C//DTD SVG 1.1//EN\"\r\n  \"http://www.w3.org/Graphics/SVG/1.1/DTD/svg11.dtd\">\r\n<!-- Created with matplotlib (https://matplotlib.org/) -->\r\n<svg height=\"263.63625pt\" version=\"1.1\" viewBox=\"0 0 375.2875 263.63625\" width=\"375.2875pt\" xmlns=\"http://www.w3.org/2000/svg\" xmlns:xlink=\"http://www.w3.org/1999/xlink\">\r\n <metadata>\r\n  <rdf:RDF xmlns:cc=\"http://creativecommons.org/ns#\" xmlns:dc=\"http://purl.org/dc/elements/1.1/\" xmlns:rdf=\"http://www.w3.org/1999/02/22-rdf-syntax-ns#\">\r\n   <cc:Work>\r\n    <dc:type rdf:resource=\"http://purl.org/dc/dcmitype/StillImage\"/>\r\n    <dc:date>2021-02-23T10:57:19.266977</dc:date>\r\n    <dc:format>image/svg+xml</dc:format>\r\n    <dc:creator>\r\n     <cc:Agent>\r\n      <dc:title>Matplotlib v3.3.4, https://matplotlib.org/</dc:title>\r\n     </cc:Agent>\r\n    </dc:creator>\r\n   </cc:Work>\r\n  </rdf:RDF>\r\n </metadata>\r\n <defs>\r\n  <style type=\"text/css\">*{stroke-linecap:butt;stroke-linejoin:round;}</style>\r\n </defs>\r\n <g id=\"figure_1\">\r\n  <g id=\"patch_1\">\r\n   <path d=\"M 0 263.63625 \r\nL 375.2875 263.63625 \r\nL 375.2875 0 \r\nL 0 0 \r\nz\r\n\" style=\"fill:none;\"/>\r\n  </g>\r\n  <g id=\"axes_1\">\r\n   <g id=\"patch_2\">\r\n    <path d=\"M 33.2875 239.758125 \r\nL 368.0875 239.758125 \r\nL 368.0875 22.318125 \r\nL 33.2875 22.318125 \r\nz\r\n\" style=\"fill:#ffffff;\"/>\r\n   </g>\r\n   <g id=\"patch_3\">\r\n    <path clip-path=\"url(#p6fda0ace44)\" d=\"M 48.505682 239.758125 \r\nL 78.942045 239.758125 \r\nL 78.942045 32.672411 \r\nL 48.505682 32.672411 \r\nz\r\n\" style=\"fill:#1f77b4;\"/>\r\n   </g>\r\n   <g id=\"patch_4\">\r\n    <path clip-path=\"url(#p6fda0ace44)\" d=\"M 78.942045 239.758125 \r\nL 109.378409 239.758125 \r\nL 109.378409 239.522533 \r\nL 78.942045 239.522533 \r\nz\r\n\" style=\"fill:#1f77b4;\"/>\r\n   </g>\r\n   <g id=\"patch_5\">\r\n    <path clip-path=\"url(#p6fda0ace44)\" d=\"M 109.378409 239.758125 \r\nL 139.814773 239.758125 \r\nL 139.814773 239.051348 \r\nL 109.378409 239.051348 \r\nz\r\n\" style=\"fill:#1f77b4;\"/>\r\n   </g>\r\n   <g id=\"patch_6\">\r\n    <path clip-path=\"url(#p6fda0ace44)\" d=\"M 139.814773 239.758125 \r\nL 170.251136 239.758125 \r\nL 170.251136 237.873386 \r\nL 139.814773 237.873386 \r\nz\r\n\" style=\"fill:#1f77b4;\"/>\r\n   </g>\r\n   <g id=\"patch_7\">\r\n    <path clip-path=\"url(#p6fda0ace44)\" d=\"M 170.251136 239.758125 \r\nL 200.6875 239.758125 \r\nL 200.6875 237.637793 \r\nL 170.251136 237.637793 \r\nz\r\n\" style=\"fill:#1f77b4;\"/>\r\n   </g>\r\n   <g id=\"patch_8\">\r\n    <path clip-path=\"url(#p6fda0ace44)\" d=\"M 200.6875 239.758125 \r\nL 231.123864 239.758125 \r\nL 231.123864 211.72263 \r\nL 200.6875 211.72263 \r\nz\r\n\" style=\"fill:#1f77b4;\"/>\r\n   </g>\r\n   <g id=\"patch_9\">\r\n    <path clip-path=\"url(#p6fda0ace44)\" d=\"M 231.123864 239.758125 \r\nL 261.560227 239.758125 \r\nL 261.560227 201.120972 \r\nL 231.123864 201.120972 \r\nz\r\n\" style=\"fill:#1f77b4;\"/>\r\n   </g>\r\n   <g id=\"patch_10\">\r\n    <path clip-path=\"url(#p6fda0ace44)\" d=\"M 261.560227 239.758125 \r\nL 291.996591 239.758125 \r\nL 291.996591 206.77519 \r\nL 261.560227 206.77519 \r\nz\r\n\" style=\"fill:#1f77b4;\"/>\r\n   </g>\r\n   <g id=\"patch_11\">\r\n    <path clip-path=\"url(#p6fda0ace44)\" d=\"M 291.996591 239.758125 \r\nL 322.432955 239.758125 \r\nL 322.432955 203.948081 \r\nL 291.996591 203.948081 \r\nz\r\n\" style=\"fill:#1f77b4;\"/>\r\n   </g>\r\n   <g id=\"patch_12\">\r\n    <path clip-path=\"url(#p6fda0ace44)\" d=\"M 322.432955 239.758125 \r\nL 352.869318 239.758125 \r\nL 352.869318 224.444619 \r\nL 322.432955 224.444619 \r\nz\r\n\" style=\"fill:#1f77b4;\"/>\r\n   </g>\r\n   <g id=\"matplotlib.axis_1\">\r\n    <g id=\"xtick_1\">\r\n     <g id=\"line2d_1\">\r\n      <defs>\r\n       <path d=\"M 0 0 \r\nL 0 3.5 \r\n\" id=\"m8104d611f4\" style=\"stroke:#000000;stroke-width:0.8;\"/>\r\n      </defs>\r\n      <g>\r\n       <use style=\"stroke:#000000;stroke-width:0.8;\" x=\"48.505682\" xlink:href=\"#m8104d611f4\" y=\"239.758125\"/>\r\n      </g>\r\n     </g>\r\n     <g id=\"text_1\">\r\n      <!-- 0 -->\r\n      <g transform=\"translate(45.324432 254.356563)scale(0.1 -0.1)\">\r\n       <defs>\r\n        <path d=\"M 31.78125 66.40625 \r\nQ 24.171875 66.40625 20.328125 58.90625 \r\nQ 16.5 51.421875 16.5 36.375 \r\nQ 16.5 21.390625 20.328125 13.890625 \r\nQ 24.171875 6.390625 31.78125 6.390625 \r\nQ 39.453125 6.390625 43.28125 13.890625 \r\nQ 47.125 21.390625 47.125 36.375 \r\nQ 47.125 51.421875 43.28125 58.90625 \r\nQ 39.453125 66.40625 31.78125 66.40625 \r\nz\r\nM 31.78125 74.21875 \r\nQ 44.046875 74.21875 50.515625 64.515625 \r\nQ 56.984375 54.828125 56.984375 36.375 \r\nQ 56.984375 17.96875 50.515625 8.265625 \r\nQ 44.046875 -1.421875 31.78125 -1.421875 \r\nQ 19.53125 -1.421875 13.0625 8.265625 \r\nQ 6.59375 17.96875 6.59375 36.375 \r\nQ 6.59375 54.828125 13.0625 64.515625 \r\nQ 19.53125 74.21875 31.78125 74.21875 \r\nz\r\n\" id=\"DejaVuSans-48\"/>\r\n       </defs>\r\n       <use xlink:href=\"#DejaVuSans-48\"/>\r\n      </g>\r\n     </g>\r\n    </g>\r\n    <g id=\"xtick_2\">\r\n     <g id=\"line2d_2\">\r\n      <g>\r\n       <use style=\"stroke:#000000;stroke-width:0.8;\" x=\"95.730844\" xlink:href=\"#m8104d611f4\" y=\"239.758125\"/>\r\n      </g>\r\n     </g>\r\n     <g id=\"text_2\">\r\n      <!-- 5 -->\r\n      <g transform=\"translate(92.549594 254.356563)scale(0.1 -0.1)\">\r\n       <defs>\r\n        <path d=\"M 10.796875 72.90625 \r\nL 49.515625 72.90625 \r\nL 49.515625 64.59375 \r\nL 19.828125 64.59375 \r\nL 19.828125 46.734375 \r\nQ 21.96875 47.46875 24.109375 47.828125 \r\nQ 26.265625 48.1875 28.421875 48.1875 \r\nQ 40.625 48.1875 47.75 41.5 \r\nQ 54.890625 34.8125 54.890625 23.390625 \r\nQ 54.890625 11.625 47.5625 5.09375 \r\nQ 40.234375 -1.421875 26.90625 -1.421875 \r\nQ 22.3125 -1.421875 17.546875 -0.640625 \r\nQ 12.796875 0.140625 7.71875 1.703125 \r\nL 7.71875 11.625 \r\nQ 12.109375 9.234375 16.796875 8.0625 \r\nQ 21.484375 6.890625 26.703125 6.890625 \r\nQ 35.15625 6.890625 40.078125 11.328125 \r\nQ 45.015625 15.765625 45.015625 23.390625 \r\nQ 45.015625 31 40.078125 35.4375 \r\nQ 35.15625 39.890625 26.703125 39.890625 \r\nQ 22.75 39.890625 18.8125 39.015625 \r\nQ 14.890625 38.140625 10.796875 36.28125 \r\nz\r\n\" id=\"DejaVuSans-53\"/>\r\n       </defs>\r\n       <use xlink:href=\"#DejaVuSans-53\"/>\r\n      </g>\r\n     </g>\r\n    </g>\r\n    <g id=\"xtick_3\">\r\n     <g id=\"line2d_3\">\r\n      <g>\r\n       <use style=\"stroke:#000000;stroke-width:0.8;\" x=\"142.956007\" xlink:href=\"#m8104d611f4\" y=\"239.758125\"/>\r\n      </g>\r\n     </g>\r\n     <g id=\"text_3\">\r\n      <!-- 10 -->\r\n      <g transform=\"translate(136.593507 254.356563)scale(0.1 -0.1)\">\r\n       <defs>\r\n        <path d=\"M 12.40625 8.296875 \r\nL 28.515625 8.296875 \r\nL 28.515625 63.921875 \r\nL 10.984375 60.40625 \r\nL 10.984375 69.390625 \r\nL 28.421875 72.90625 \r\nL 38.28125 72.90625 \r\nL 38.28125 8.296875 \r\nL 54.390625 8.296875 \r\nL 54.390625 0 \r\nL 12.40625 0 \r\nz\r\n\" id=\"DejaVuSans-49\"/>\r\n       </defs>\r\n       <use xlink:href=\"#DejaVuSans-49\"/>\r\n       <use x=\"63.623047\" xlink:href=\"#DejaVuSans-48\"/>\r\n      </g>\r\n     </g>\r\n    </g>\r\n    <g id=\"xtick_4\">\r\n     <g id=\"line2d_4\">\r\n      <g>\r\n       <use style=\"stroke:#000000;stroke-width:0.8;\" x=\"190.18117\" xlink:href=\"#m8104d611f4\" y=\"239.758125\"/>\r\n      </g>\r\n     </g>\r\n     <g id=\"text_4\">\r\n      <!-- 15 -->\r\n      <g transform=\"translate(183.81867 254.356563)scale(0.1 -0.1)\">\r\n       <use xlink:href=\"#DejaVuSans-49\"/>\r\n       <use x=\"63.623047\" xlink:href=\"#DejaVuSans-53\"/>\r\n      </g>\r\n     </g>\r\n    </g>\r\n    <g id=\"xtick_5\">\r\n     <g id=\"line2d_5\">\r\n      <g>\r\n       <use style=\"stroke:#000000;stroke-width:0.8;\" x=\"237.406332\" xlink:href=\"#m8104d611f4\" y=\"239.758125\"/>\r\n      </g>\r\n     </g>\r\n     <g id=\"text_5\">\r\n      <!-- 20 -->\r\n      <g transform=\"translate(231.043832 254.356563)scale(0.1 -0.1)\">\r\n       <defs>\r\n        <path d=\"M 19.1875 8.296875 \r\nL 53.609375 8.296875 \r\nL 53.609375 0 \r\nL 7.328125 0 \r\nL 7.328125 8.296875 \r\nQ 12.9375 14.109375 22.625 23.890625 \r\nQ 32.328125 33.6875 34.8125 36.53125 \r\nQ 39.546875 41.84375 41.421875 45.53125 \r\nQ 43.3125 49.21875 43.3125 52.78125 \r\nQ 43.3125 58.59375 39.234375 62.25 \r\nQ 35.15625 65.921875 28.609375 65.921875 \r\nQ 23.96875 65.921875 18.8125 64.3125 \r\nQ 13.671875 62.703125 7.8125 59.421875 \r\nL 7.8125 69.390625 \r\nQ 13.765625 71.78125 18.9375 73 \r\nQ 24.125 74.21875 28.421875 74.21875 \r\nQ 39.75 74.21875 46.484375 68.546875 \r\nQ 53.21875 62.890625 53.21875 53.421875 \r\nQ 53.21875 48.921875 51.53125 44.890625 \r\nQ 49.859375 40.875 45.40625 35.40625 \r\nQ 44.1875 33.984375 37.640625 27.21875 \r\nQ 31.109375 20.453125 19.1875 8.296875 \r\nz\r\n\" id=\"DejaVuSans-50\"/>\r\n       </defs>\r\n       <use xlink:href=\"#DejaVuSans-50\"/>\r\n       <use x=\"63.623047\" xlink:href=\"#DejaVuSans-48\"/>\r\n      </g>\r\n     </g>\r\n    </g>\r\n    <g id=\"xtick_6\">\r\n     <g id=\"line2d_6\">\r\n      <g>\r\n       <use style=\"stroke:#000000;stroke-width:0.8;\" x=\"284.631495\" xlink:href=\"#m8104d611f4\" y=\"239.758125\"/>\r\n      </g>\r\n     </g>\r\n     <g id=\"text_6\">\r\n      <!-- 25 -->\r\n      <g transform=\"translate(278.268995 254.356563)scale(0.1 -0.1)\">\r\n       <use xlink:href=\"#DejaVuSans-50\"/>\r\n       <use x=\"63.623047\" xlink:href=\"#DejaVuSans-53\"/>\r\n      </g>\r\n     </g>\r\n    </g>\r\n    <g id=\"xtick_7\">\r\n     <g id=\"line2d_7\">\r\n      <g>\r\n       <use style=\"stroke:#000000;stroke-width:0.8;\" x=\"331.856657\" xlink:href=\"#m8104d611f4\" y=\"239.758125\"/>\r\n      </g>\r\n     </g>\r\n     <g id=\"text_7\">\r\n      <!-- 30 -->\r\n      <g transform=\"translate(325.494157 254.356563)scale(0.1 -0.1)\">\r\n       <defs>\r\n        <path d=\"M 40.578125 39.3125 \r\nQ 47.65625 37.796875 51.625 33 \r\nQ 55.609375 28.21875 55.609375 21.1875 \r\nQ 55.609375 10.40625 48.1875 4.484375 \r\nQ 40.765625 -1.421875 27.09375 -1.421875 \r\nQ 22.515625 -1.421875 17.65625 -0.515625 \r\nQ 12.796875 0.390625 7.625 2.203125 \r\nL 7.625 11.71875 \r\nQ 11.71875 9.328125 16.59375 8.109375 \r\nQ 21.484375 6.890625 26.8125 6.890625 \r\nQ 36.078125 6.890625 40.9375 10.546875 \r\nQ 45.796875 14.203125 45.796875 21.1875 \r\nQ 45.796875 27.640625 41.28125 31.265625 \r\nQ 36.765625 34.90625 28.71875 34.90625 \r\nL 20.21875 34.90625 \r\nL 20.21875 43.015625 \r\nL 29.109375 43.015625 \r\nQ 36.375 43.015625 40.234375 45.921875 \r\nQ 44.09375 48.828125 44.09375 54.296875 \r\nQ 44.09375 59.90625 40.109375 62.90625 \r\nQ 36.140625 65.921875 28.71875 65.921875 \r\nQ 24.65625 65.921875 20.015625 65.03125 \r\nQ 15.375 64.15625 9.8125 62.3125 \r\nL 9.8125 71.09375 \r\nQ 15.4375 72.65625 20.34375 73.4375 \r\nQ 25.25 74.21875 29.59375 74.21875 \r\nQ 40.828125 74.21875 47.359375 69.109375 \r\nQ 53.90625 64.015625 53.90625 55.328125 \r\nQ 53.90625 49.265625 50.4375 45.09375 \r\nQ 46.96875 40.921875 40.578125 39.3125 \r\nz\r\n\" id=\"DejaVuSans-51\"/>\r\n       </defs>\r\n       <use xlink:href=\"#DejaVuSans-51\"/>\r\n       <use x=\"63.623047\" xlink:href=\"#DejaVuSans-48\"/>\r\n      </g>\r\n     </g>\r\n    </g>\r\n   </g>\r\n   <g id=\"matplotlib.axis_2\">\r\n    <g id=\"ytick_1\">\r\n     <g id=\"line2d_8\">\r\n      <defs>\r\n       <path d=\"M 0 0 \r\nL -3.5 0 \r\n\" id=\"madc1e74e1c\" style=\"stroke:#000000;stroke-width:0.8;\"/>\r\n      </defs>\r\n      <g>\r\n       <use style=\"stroke:#000000;stroke-width:0.8;\" x=\"33.2875\" xlink:href=\"#madc1e74e1c\" y=\"239.758125\"/>\r\n      </g>\r\n     </g>\r\n     <g id=\"text_8\">\r\n      <!-- 0 -->\r\n      <g transform=\"translate(19.925 243.557344)scale(0.1 -0.1)\">\r\n       <use xlink:href=\"#DejaVuSans-48\"/>\r\n      </g>\r\n     </g>\r\n    </g>\r\n    <g id=\"ytick_2\">\r\n     <g id=\"line2d_9\">\r\n      <g>\r\n       <use style=\"stroke:#000000;stroke-width:0.8;\" x=\"33.2875\" xlink:href=\"#madc1e74e1c\" y=\"192.639646\"/>\r\n      </g>\r\n     </g>\r\n     <g id=\"text_9\">\r\n      <!-- 200 -->\r\n      <g transform=\"translate(7.2 196.438865)scale(0.1 -0.1)\">\r\n       <use xlink:href=\"#DejaVuSans-50\"/>\r\n       <use x=\"63.623047\" xlink:href=\"#DejaVuSans-48\"/>\r\n       <use x=\"127.246094\" xlink:href=\"#DejaVuSans-48\"/>\r\n      </g>\r\n     </g>\r\n    </g>\r\n    <g id=\"ytick_3\">\r\n     <g id=\"line2d_10\">\r\n      <g>\r\n       <use style=\"stroke:#000000;stroke-width:0.8;\" x=\"33.2875\" xlink:href=\"#madc1e74e1c\" y=\"145.521167\"/>\r\n      </g>\r\n     </g>\r\n     <g id=\"text_10\">\r\n      <!-- 400 -->\r\n      <g transform=\"translate(7.2 149.320386)scale(0.1 -0.1)\">\r\n       <defs>\r\n        <path d=\"M 37.796875 64.3125 \r\nL 12.890625 25.390625 \r\nL 37.796875 25.390625 \r\nz\r\nM 35.203125 72.90625 \r\nL 47.609375 72.90625 \r\nL 47.609375 25.390625 \r\nL 58.015625 25.390625 \r\nL 58.015625 17.1875 \r\nL 47.609375 17.1875 \r\nL 47.609375 0 \r\nL 37.796875 0 \r\nL 37.796875 17.1875 \r\nL 4.890625 17.1875 \r\nL 4.890625 26.703125 \r\nz\r\n\" id=\"DejaVuSans-52\"/>\r\n       </defs>\r\n       <use xlink:href=\"#DejaVuSans-52\"/>\r\n       <use x=\"63.623047\" xlink:href=\"#DejaVuSans-48\"/>\r\n       <use x=\"127.246094\" xlink:href=\"#DejaVuSans-48\"/>\r\n      </g>\r\n     </g>\r\n    </g>\r\n    <g id=\"ytick_4\">\r\n     <g id=\"line2d_11\">\r\n      <g>\r\n       <use style=\"stroke:#000000;stroke-width:0.8;\" x=\"33.2875\" xlink:href=\"#madc1e74e1c\" y=\"98.402689\"/>\r\n      </g>\r\n     </g>\r\n     <g id=\"text_11\">\r\n      <!-- 600 -->\r\n      <g transform=\"translate(7.2 102.201907)scale(0.1 -0.1)\">\r\n       <defs>\r\n        <path d=\"M 33.015625 40.375 \r\nQ 26.375 40.375 22.484375 35.828125 \r\nQ 18.609375 31.296875 18.609375 23.390625 \r\nQ 18.609375 15.53125 22.484375 10.953125 \r\nQ 26.375 6.390625 33.015625 6.390625 \r\nQ 39.65625 6.390625 43.53125 10.953125 \r\nQ 47.40625 15.53125 47.40625 23.390625 \r\nQ 47.40625 31.296875 43.53125 35.828125 \r\nQ 39.65625 40.375 33.015625 40.375 \r\nz\r\nM 52.59375 71.296875 \r\nL 52.59375 62.3125 \r\nQ 48.875 64.0625 45.09375 64.984375 \r\nQ 41.3125 65.921875 37.59375 65.921875 \r\nQ 27.828125 65.921875 22.671875 59.328125 \r\nQ 17.53125 52.734375 16.796875 39.40625 \r\nQ 19.671875 43.65625 24.015625 45.921875 \r\nQ 28.375 48.1875 33.59375 48.1875 \r\nQ 44.578125 48.1875 50.953125 41.515625 \r\nQ 57.328125 34.859375 57.328125 23.390625 \r\nQ 57.328125 12.15625 50.6875 5.359375 \r\nQ 44.046875 -1.421875 33.015625 -1.421875 \r\nQ 20.359375 -1.421875 13.671875 8.265625 \r\nQ 6.984375 17.96875 6.984375 36.375 \r\nQ 6.984375 53.65625 15.1875 63.9375 \r\nQ 23.390625 74.21875 37.203125 74.21875 \r\nQ 40.921875 74.21875 44.703125 73.484375 \r\nQ 48.484375 72.75 52.59375 71.296875 \r\nz\r\n\" id=\"DejaVuSans-54\"/>\r\n       </defs>\r\n       <use xlink:href=\"#DejaVuSans-54\"/>\r\n       <use x=\"63.623047\" xlink:href=\"#DejaVuSans-48\"/>\r\n       <use x=\"127.246094\" xlink:href=\"#DejaVuSans-48\"/>\r\n      </g>\r\n     </g>\r\n    </g>\r\n    <g id=\"ytick_5\">\r\n     <g id=\"line2d_12\">\r\n      <g>\r\n       <use style=\"stroke:#000000;stroke-width:0.8;\" x=\"33.2875\" xlink:href=\"#madc1e74e1c\" y=\"51.28421\"/>\r\n      </g>\r\n     </g>\r\n     <g id=\"text_12\">\r\n      <!-- 800 -->\r\n      <g transform=\"translate(7.2 55.083429)scale(0.1 -0.1)\">\r\n       <defs>\r\n        <path d=\"M 31.78125 34.625 \r\nQ 24.75 34.625 20.71875 30.859375 \r\nQ 16.703125 27.09375 16.703125 20.515625 \r\nQ 16.703125 13.921875 20.71875 10.15625 \r\nQ 24.75 6.390625 31.78125 6.390625 \r\nQ 38.8125 6.390625 42.859375 10.171875 \r\nQ 46.921875 13.96875 46.921875 20.515625 \r\nQ 46.921875 27.09375 42.890625 30.859375 \r\nQ 38.875 34.625 31.78125 34.625 \r\nz\r\nM 21.921875 38.8125 \r\nQ 15.578125 40.375 12.03125 44.71875 \r\nQ 8.5 49.078125 8.5 55.328125 \r\nQ 8.5 64.0625 14.71875 69.140625 \r\nQ 20.953125 74.21875 31.78125 74.21875 \r\nQ 42.671875 74.21875 48.875 69.140625 \r\nQ 55.078125 64.0625 55.078125 55.328125 \r\nQ 55.078125 49.078125 51.53125 44.71875 \r\nQ 48 40.375 41.703125 38.8125 \r\nQ 48.828125 37.15625 52.796875 32.3125 \r\nQ 56.78125 27.484375 56.78125 20.515625 \r\nQ 56.78125 9.90625 50.3125 4.234375 \r\nQ 43.84375 -1.421875 31.78125 -1.421875 \r\nQ 19.734375 -1.421875 13.25 4.234375 \r\nQ 6.78125 9.90625 6.78125 20.515625 \r\nQ 6.78125 27.484375 10.78125 32.3125 \r\nQ 14.796875 37.15625 21.921875 38.8125 \r\nz\r\nM 18.3125 54.390625 \r\nQ 18.3125 48.734375 21.84375 45.5625 \r\nQ 25.390625 42.390625 31.78125 42.390625 \r\nQ 38.140625 42.390625 41.71875 45.5625 \r\nQ 45.3125 48.734375 45.3125 54.390625 \r\nQ 45.3125 60.0625 41.71875 63.234375 \r\nQ 38.140625 66.40625 31.78125 66.40625 \r\nQ 25.390625 66.40625 21.84375 63.234375 \r\nQ 18.3125 60.0625 18.3125 54.390625 \r\nz\r\n\" id=\"DejaVuSans-56\"/>\r\n       </defs>\r\n       <use xlink:href=\"#DejaVuSans-56\"/>\r\n       <use x=\"63.623047\" xlink:href=\"#DejaVuSans-48\"/>\r\n       <use x=\"127.246094\" xlink:href=\"#DejaVuSans-48\"/>\r\n      </g>\r\n     </g>\r\n    </g>\r\n   </g>\r\n   <g id=\"patch_13\">\r\n    <path d=\"M 33.2875 239.758125 \r\nL 33.2875 22.318125 \r\n\" style=\"fill:none;stroke:#000000;stroke-linecap:square;stroke-linejoin:miter;stroke-width:0.8;\"/>\r\n   </g>\r\n   <g id=\"patch_14\">\r\n    <path d=\"M 368.0875 239.758125 \r\nL 368.0875 22.318125 \r\n\" style=\"fill:none;stroke:#000000;stroke-linecap:square;stroke-linejoin:miter;stroke-width:0.8;\"/>\r\n   </g>\r\n   <g id=\"patch_15\">\r\n    <path d=\"M 33.2875 239.758125 \r\nL 368.0875 239.758125 \r\n\" style=\"fill:none;stroke:#000000;stroke-linecap:square;stroke-linejoin:miter;stroke-width:0.8;\"/>\r\n   </g>\r\n   <g id=\"patch_16\">\r\n    <path d=\"M 33.2875 22.318125 \r\nL 368.0875 22.318125 \r\n\" style=\"fill:none;stroke:#000000;stroke-linecap:square;stroke-linejoin:miter;stroke-width:0.8;\"/>\r\n   </g>\r\n   <g id=\"text_13\">\r\n    <!-- Histogram -->\r\n    <g transform=\"translate(169.5625 16.318125)scale(0.12 -0.12)\">\r\n     <defs>\r\n      <path d=\"M 9.8125 72.90625 \r\nL 19.671875 72.90625 \r\nL 19.671875 43.015625 \r\nL 55.515625 43.015625 \r\nL 55.515625 72.90625 \r\nL 65.375 72.90625 \r\nL 65.375 0 \r\nL 55.515625 0 \r\nL 55.515625 34.71875 \r\nL 19.671875 34.71875 \r\nL 19.671875 0 \r\nL 9.8125 0 \r\nz\r\n\" id=\"DejaVuSans-72\"/>\r\n      <path d=\"M 9.421875 54.6875 \r\nL 18.40625 54.6875 \r\nL 18.40625 0 \r\nL 9.421875 0 \r\nz\r\nM 9.421875 75.984375 \r\nL 18.40625 75.984375 \r\nL 18.40625 64.59375 \r\nL 9.421875 64.59375 \r\nz\r\n\" id=\"DejaVuSans-105\"/>\r\n      <path d=\"M 44.28125 53.078125 \r\nL 44.28125 44.578125 \r\nQ 40.484375 46.53125 36.375 47.5 \r\nQ 32.28125 48.484375 27.875 48.484375 \r\nQ 21.1875 48.484375 17.84375 46.4375 \r\nQ 14.5 44.390625 14.5 40.28125 \r\nQ 14.5 37.15625 16.890625 35.375 \r\nQ 19.28125 33.59375 26.515625 31.984375 \r\nL 29.59375 31.296875 \r\nQ 39.15625 29.25 43.1875 25.515625 \r\nQ 47.21875 21.78125 47.21875 15.09375 \r\nQ 47.21875 7.46875 41.1875 3.015625 \r\nQ 35.15625 -1.421875 24.609375 -1.421875 \r\nQ 20.21875 -1.421875 15.453125 -0.5625 \r\nQ 10.6875 0.296875 5.421875 2 \r\nL 5.421875 11.28125 \r\nQ 10.40625 8.6875 15.234375 7.390625 \r\nQ 20.0625 6.109375 24.8125 6.109375 \r\nQ 31.15625 6.109375 34.5625 8.28125 \r\nQ 37.984375 10.453125 37.984375 14.40625 \r\nQ 37.984375 18.0625 35.515625 20.015625 \r\nQ 33.0625 21.96875 24.703125 23.78125 \r\nL 21.578125 24.515625 \r\nQ 13.234375 26.265625 9.515625 29.90625 \r\nQ 5.8125 33.546875 5.8125 39.890625 \r\nQ 5.8125 47.609375 11.28125 51.796875 \r\nQ 16.75 56 26.8125 56 \r\nQ 31.78125 56 36.171875 55.265625 \r\nQ 40.578125 54.546875 44.28125 53.078125 \r\nz\r\n\" id=\"DejaVuSans-115\"/>\r\n      <path d=\"M 18.3125 70.21875 \r\nL 18.3125 54.6875 \r\nL 36.8125 54.6875 \r\nL 36.8125 47.703125 \r\nL 18.3125 47.703125 \r\nL 18.3125 18.015625 \r\nQ 18.3125 11.328125 20.140625 9.421875 \r\nQ 21.96875 7.515625 27.59375 7.515625 \r\nL 36.8125 7.515625 \r\nL 36.8125 0 \r\nL 27.59375 0 \r\nQ 17.1875 0 13.234375 3.875 \r\nQ 9.28125 7.765625 9.28125 18.015625 \r\nL 9.28125 47.703125 \r\nL 2.6875 47.703125 \r\nL 2.6875 54.6875 \r\nL 9.28125 54.6875 \r\nL 9.28125 70.21875 \r\nz\r\n\" id=\"DejaVuSans-116\"/>\r\n      <path d=\"M 30.609375 48.390625 \r\nQ 23.390625 48.390625 19.1875 42.75 \r\nQ 14.984375 37.109375 14.984375 27.296875 \r\nQ 14.984375 17.484375 19.15625 11.84375 \r\nQ 23.34375 6.203125 30.609375 6.203125 \r\nQ 37.796875 6.203125 41.984375 11.859375 \r\nQ 46.1875 17.53125 46.1875 27.296875 \r\nQ 46.1875 37.015625 41.984375 42.703125 \r\nQ 37.796875 48.390625 30.609375 48.390625 \r\nz\r\nM 30.609375 56 \r\nQ 42.328125 56 49.015625 48.375 \r\nQ 55.71875 40.765625 55.71875 27.296875 \r\nQ 55.71875 13.875 49.015625 6.21875 \r\nQ 42.328125 -1.421875 30.609375 -1.421875 \r\nQ 18.84375 -1.421875 12.171875 6.21875 \r\nQ 5.515625 13.875 5.515625 27.296875 \r\nQ 5.515625 40.765625 12.171875 48.375 \r\nQ 18.84375 56 30.609375 56 \r\nz\r\n\" id=\"DejaVuSans-111\"/>\r\n      <path d=\"M 45.40625 27.984375 \r\nQ 45.40625 37.75 41.375 43.109375 \r\nQ 37.359375 48.484375 30.078125 48.484375 \r\nQ 22.859375 48.484375 18.828125 43.109375 \r\nQ 14.796875 37.75 14.796875 27.984375 \r\nQ 14.796875 18.265625 18.828125 12.890625 \r\nQ 22.859375 7.515625 30.078125 7.515625 \r\nQ 37.359375 7.515625 41.375 12.890625 \r\nQ 45.40625 18.265625 45.40625 27.984375 \r\nz\r\nM 54.390625 6.78125 \r\nQ 54.390625 -7.171875 48.1875 -13.984375 \r\nQ 42 -20.796875 29.203125 -20.796875 \r\nQ 24.46875 -20.796875 20.265625 -20.09375 \r\nQ 16.0625 -19.390625 12.109375 -17.921875 \r\nL 12.109375 -9.1875 \r\nQ 16.0625 -11.328125 19.921875 -12.34375 \r\nQ 23.78125 -13.375 27.78125 -13.375 \r\nQ 36.625 -13.375 41.015625 -8.765625 \r\nQ 45.40625 -4.15625 45.40625 5.171875 \r\nL 45.40625 9.625 \r\nQ 42.625 4.78125 38.28125 2.390625 \r\nQ 33.9375 0 27.875 0 \r\nQ 17.828125 0 11.671875 7.65625 \r\nQ 5.515625 15.328125 5.515625 27.984375 \r\nQ 5.515625 40.671875 11.671875 48.328125 \r\nQ 17.828125 56 27.875 56 \r\nQ 33.9375 56 38.28125 53.609375 \r\nQ 42.625 51.21875 45.40625 46.390625 \r\nL 45.40625 54.6875 \r\nL 54.390625 54.6875 \r\nz\r\n\" id=\"DejaVuSans-103\"/>\r\n      <path d=\"M 41.109375 46.296875 \r\nQ 39.59375 47.171875 37.8125 47.578125 \r\nQ 36.03125 48 33.890625 48 \r\nQ 26.265625 48 22.1875 43.046875 \r\nQ 18.109375 38.09375 18.109375 28.8125 \r\nL 18.109375 0 \r\nL 9.078125 0 \r\nL 9.078125 54.6875 \r\nL 18.109375 54.6875 \r\nL 18.109375 46.1875 \r\nQ 20.953125 51.171875 25.484375 53.578125 \r\nQ 30.03125 56 36.53125 56 \r\nQ 37.453125 56 38.578125 55.875 \r\nQ 39.703125 55.765625 41.0625 55.515625 \r\nz\r\n\" id=\"DejaVuSans-114\"/>\r\n      <path d=\"M 34.28125 27.484375 \r\nQ 23.390625 27.484375 19.1875 25 \r\nQ 14.984375 22.515625 14.984375 16.5 \r\nQ 14.984375 11.71875 18.140625 8.90625 \r\nQ 21.296875 6.109375 26.703125 6.109375 \r\nQ 34.1875 6.109375 38.703125 11.40625 \r\nQ 43.21875 16.703125 43.21875 25.484375 \r\nL 43.21875 27.484375 \r\nz\r\nM 52.203125 31.203125 \r\nL 52.203125 0 \r\nL 43.21875 0 \r\nL 43.21875 8.296875 \r\nQ 40.140625 3.328125 35.546875 0.953125 \r\nQ 30.953125 -1.421875 24.3125 -1.421875 \r\nQ 15.921875 -1.421875 10.953125 3.296875 \r\nQ 6 8.015625 6 15.921875 \r\nQ 6 25.140625 12.171875 29.828125 \r\nQ 18.359375 34.515625 30.609375 34.515625 \r\nL 43.21875 34.515625 \r\nL 43.21875 35.40625 \r\nQ 43.21875 41.609375 39.140625 45 \r\nQ 35.0625 48.390625 27.6875 48.390625 \r\nQ 23 48.390625 18.546875 47.265625 \r\nQ 14.109375 46.140625 10.015625 43.890625 \r\nL 10.015625 52.203125 \r\nQ 14.9375 54.109375 19.578125 55.046875 \r\nQ 24.21875 56 28.609375 56 \r\nQ 40.484375 56 46.34375 49.84375 \r\nQ 52.203125 43.703125 52.203125 31.203125 \r\nz\r\n\" id=\"DejaVuSans-97\"/>\r\n      <path d=\"M 52 44.1875 \r\nQ 55.375 50.25 60.0625 53.125 \r\nQ 64.75 56 71.09375 56 \r\nQ 79.640625 56 84.28125 50.015625 \r\nQ 88.921875 44.046875 88.921875 33.015625 \r\nL 88.921875 0 \r\nL 79.890625 0 \r\nL 79.890625 32.71875 \r\nQ 79.890625 40.578125 77.09375 44.375 \r\nQ 74.3125 48.1875 68.609375 48.1875 \r\nQ 61.625 48.1875 57.5625 43.546875 \r\nQ 53.515625 38.921875 53.515625 30.90625 \r\nL 53.515625 0 \r\nL 44.484375 0 \r\nL 44.484375 32.71875 \r\nQ 44.484375 40.625 41.703125 44.40625 \r\nQ 38.921875 48.1875 33.109375 48.1875 \r\nQ 26.21875 48.1875 22.15625 43.53125 \r\nQ 18.109375 38.875 18.109375 30.90625 \r\nL 18.109375 0 \r\nL 9.078125 0 \r\nL 9.078125 54.6875 \r\nL 18.109375 54.6875 \r\nL 18.109375 46.1875 \r\nQ 21.1875 51.21875 25.484375 53.609375 \r\nQ 29.78125 56 35.6875 56 \r\nQ 41.65625 56 45.828125 52.96875 \r\nQ 50 49.953125 52 44.1875 \r\nz\r\n\" id=\"DejaVuSans-109\"/>\r\n     </defs>\r\n     <use xlink:href=\"#DejaVuSans-72\"/>\r\n     <use x=\"75.195312\" xlink:href=\"#DejaVuSans-105\"/>\r\n     <use x=\"102.978516\" xlink:href=\"#DejaVuSans-115\"/>\r\n     <use x=\"155.078125\" xlink:href=\"#DejaVuSans-116\"/>\r\n     <use x=\"194.287109\" xlink:href=\"#DejaVuSans-111\"/>\r\n     <use x=\"255.46875\" xlink:href=\"#DejaVuSans-103\"/>\r\n     <use x=\"318.945312\" xlink:href=\"#DejaVuSans-114\"/>\r\n     <use x=\"360.058594\" xlink:href=\"#DejaVuSans-97\"/>\r\n     <use x=\"421.337891\" xlink:href=\"#DejaVuSans-109\"/>\r\n    </g>\r\n   </g>\r\n  </g>\r\n </g>\r\n <defs>\r\n  <clipPath id=\"p6fda0ace44\">\r\n   <rect height=\"217.44\" width=\"334.8\" x=\"33.2875\" y=\"22.318125\"/>\r\n  </clipPath>\r\n </defs>\r\n</svg>\r\n",
      "image/png": "[encoded data removed]"
     },
     "metadata": {
      "needs_background": "light"
     }
    }
   ],
   "source": [
    "clipped.plot.hist()"
   ]
  },
  {
   "cell_type": "code",
   "execution_count": 86,
   "metadata": {},
   "outputs": [],
   "source": [
    "clipped.rio.to_raster(\"clipped.tif\")"
   ]
  },
  {
   "cell_type": "code",
   "execution_count": 62,
   "metadata": {},
   "outputs": [],
   "source": [
    "with rio.open(\"clipped.tif\") as img:\n",
    "    chm = img.read(1)"
   ]
  },
  {
   "cell_type": "code",
   "execution_count": 69,
   "metadata": {},
   "outputs": [
    {
     "output_type": "display_data",
     "data": {
      "text/plain": "<Figure size 720x432 with 2 Axes>",
      "image/svg+xml": "<?xml version=\"1.0\" encoding=\"utf-8\" standalone=\"no\"?>\r\n<!DOCTYPE svg PUBLIC \"-//W3C//DTD SVG 1.1//EN\"\r\n  \"http://www.w3.org/Graphics/SVG/1.1/DTD/svg11.dtd\">\r\n<!-- Created with matplotlib (https://matplotlib.org/) -->\r\n<svg height=\"361.557031pt\" version=\"1.1\" viewBox=\"0 0 466.435606 361.557031\" width=\"466.435606pt\" xmlns=\"http://www.w3.org/2000/svg\" xmlns:xlink=\"http://www.w3.org/1999/xlink\">\r\n <metadata>\r\n  <rdf:RDF xmlns:cc=\"http://creativecommons.org/ns#\" xmlns:dc=\"http://purl.org/dc/elements/1.1/\" xmlns:rdf=\"http://www.w3.org/1999/02/22-rdf-syntax-ns#\">\r\n   <cc:Work>\r\n    <dc:type rdf:resource=\"http://purl.org/dc/dcmitype/StillImage\"/>\r\n    <dc:date>2021-02-23T11:01:35.618936</dc:date>\r\n    <dc:format>image/svg+xml</dc:format>\r\n    <dc:creator>\r\n     <cc:Agent>\r\n      <dc:title>Matplotlib v3.3.4, https://matplotlib.org/</dc:title>\r\n     </cc:Agent>\r\n    </dc:creator>\r\n   </cc:Work>\r\n  </rdf:RDF>\r\n </metadata>\r\n <defs>\r\n  <style type=\"text/css\">*{stroke-linecap:butt;stroke-linejoin:round;}</style>\r\n </defs>\r\n <g id=\"figure_1\">\r\n  <g id=\"patch_1\">\r\n   <path d=\"M 0 361.557031 \r\nL 466.435606 361.557031 \r\nL 466.435606 0 \r\nL 0 0 \r\nz\r\n\" style=\"fill:none;\"/>\r\n  </g>\r\n  <g id=\"axes_1\">\r\n   <g id=\"patch_2\">\r\n    <path d=\"M 10.7 348.478125 \r\nL 420.729714 348.478125 \r\nL 420.729714 22.318125 \r\nL 10.7 22.318125 \r\nz\r\n\" style=\"fill:#ffffff;\"/>\r\n   </g>\r\n   <g clip-path=\"url(#pdb827ab47d)\">\r\n    <image height=\"327\" id=\"image4004e5659a\" transform=\"scale(1 -1)translate(0 -327)\" width=\"411\" x=\"11\" xlink:href=\"data:image/png;base64,\r\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\" y=\"-21.557031\"/>\r\n   </g>\r\n   <g id=\"matplotlib.axis_1\"/>\r\n   <g id=\"matplotlib.axis_2\"/>\r\n   <g id=\"patch_3\">\r\n    <path d=\"M 10.7 348.478125 \r\nL 10.7 22.318125 \r\n\" style=\"fill:none;stroke:#000000;stroke-linecap:square;stroke-linejoin:miter;stroke-width:0.8;\"/>\r\n   </g>\r\n   <g id=\"patch_4\">\r\n    <path d=\"M 420.729714 348.478125 \r\nL 420.729714 22.318125 \r\n\" style=\"fill:none;stroke:#000000;stroke-linecap:square;stroke-linejoin:miter;stroke-width:0.8;\"/>\r\n   </g>\r\n   <g id=\"patch_5\">\r\n    <path d=\"M 10.7 348.478125 \r\nL 420.729714 348.478125 \r\n\" style=\"fill:none;stroke:#000000;stroke-linecap:square;stroke-linejoin:miter;stroke-width:0.8;\"/>\r\n   </g>\r\n   <g id=\"patch_6\">\r\n    <path d=\"M 10.7 22.318125 \r\nL 420.729714 22.318125 \r\n\" style=\"fill:none;stroke:#000000;stroke-linecap:square;stroke-linejoin:miter;stroke-width:0.8;\"/>\r\n   </g>\r\n   <g id=\"text_1\">\r\n    <!-- Overlay Hillshade &amp; DSM -->\r\n    <g transform=\"translate(140.76267 16.318125)scale(0.12 -0.12)\">\r\n     <defs>\r\n      <path d=\"M 39.40625 66.21875 \r\nQ 28.65625 66.21875 22.328125 58.203125 \r\nQ 16.015625 50.203125 16.015625 36.375 \r\nQ 16.015625 22.609375 22.328125 14.59375 \r\nQ 28.65625 6.59375 39.40625 6.59375 \r\nQ 50.140625 6.59375 56.421875 14.59375 \r\nQ 62.703125 22.609375 62.703125 36.375 \r\nQ 62.703125 50.203125 56.421875 58.203125 \r\nQ 50.140625 66.21875 39.40625 66.21875 \r\nz\r\nM 39.40625 74.21875 \r\nQ 54.734375 74.21875 63.90625 63.9375 \r\nQ 73.09375 53.65625 73.09375 36.375 \r\nQ 73.09375 19.140625 63.90625 8.859375 \r\nQ 54.734375 -1.421875 39.40625 -1.421875 \r\nQ 24.03125 -1.421875 14.8125 8.828125 \r\nQ 5.609375 19.09375 5.609375 36.375 \r\nQ 5.609375 53.65625 14.8125 63.9375 \r\nQ 24.03125 74.21875 39.40625 74.21875 \r\nz\r\n\" id=\"DejaVuSans-79\"/>\r\n      <path d=\"M 2.984375 54.6875 \r\nL 12.5 54.6875 \r\nL 29.59375 8.796875 \r\nL 46.6875 54.6875 \r\nL 56.203125 54.6875 \r\nL 35.6875 0 \r\nL 23.484375 0 \r\nz\r\n\" id=\"DejaVuSans-118\"/>\r\n      <path d=\"M 56.203125 29.59375 \r\nL 56.203125 25.203125 \r\nL 14.890625 25.203125 \r\nQ 15.484375 15.921875 20.484375 11.0625 \r\nQ 25.484375 6.203125 34.421875 6.203125 \r\nQ 39.59375 6.203125 44.453125 7.46875 \r\nQ 49.3125 8.734375 54.109375 11.28125 \r\nL 54.109375 2.78125 \r\nQ 49.265625 0.734375 44.1875 -0.34375 \r\nQ 39.109375 -1.421875 33.890625 -1.421875 \r\nQ 20.796875 -1.421875 13.15625 6.1875 \r\nQ 5.515625 13.8125 5.515625 26.8125 \r\nQ 5.515625 40.234375 12.765625 48.109375 \r\nQ 20.015625 56 32.328125 56 \r\nQ 43.359375 56 49.78125 48.890625 \r\nQ 56.203125 41.796875 56.203125 29.59375 \r\nz\r\nM 47.21875 32.234375 \r\nQ 47.125 39.59375 43.09375 43.984375 \r\nQ 39.0625 48.390625 32.421875 48.390625 \r\nQ 24.90625 48.390625 20.390625 44.140625 \r\nQ 15.875 39.890625 15.1875 32.171875 \r\nz\r\n\" id=\"DejaVuSans-101\"/>\r\n      <path d=\"M 41.109375 46.296875 \r\nQ 39.59375 47.171875 37.8125 47.578125 \r\nQ 36.03125 48 33.890625 48 \r\nQ 26.265625 48 22.1875 43.046875 \r\nQ 18.109375 38.09375 18.109375 28.8125 \r\nL 18.109375 0 \r\nL 9.078125 0 \r\nL 9.078125 54.6875 \r\nL 18.109375 54.6875 \r\nL 18.109375 46.1875 \r\nQ 20.953125 51.171875 25.484375 53.578125 \r\nQ 30.03125 56 36.53125 56 \r\nQ 37.453125 56 38.578125 55.875 \r\nQ 39.703125 55.765625 41.0625 55.515625 \r\nz\r\n\" id=\"DejaVuSans-114\"/>\r\n      <path d=\"M 9.421875 75.984375 \r\nL 18.40625 75.984375 \r\nL 18.40625 0 \r\nL 9.421875 0 \r\nz\r\n\" id=\"DejaVuSans-108\"/>\r\n      <path d=\"M 34.28125 27.484375 \r\nQ 23.390625 27.484375 19.1875 25 \r\nQ 14.984375 22.515625 14.984375 16.5 \r\nQ 14.984375 11.71875 18.140625 8.90625 \r\nQ 21.296875 6.109375 26.703125 6.109375 \r\nQ 34.1875 6.109375 38.703125 11.40625 \r\nQ 43.21875 16.703125 43.21875 25.484375 \r\nL 43.21875 27.484375 \r\nz\r\nM 52.203125 31.203125 \r\nL 52.203125 0 \r\nL 43.21875 0 \r\nL 43.21875 8.296875 \r\nQ 40.140625 3.328125 35.546875 0.953125 \r\nQ 30.953125 -1.421875 24.3125 -1.421875 \r\nQ 15.921875 -1.421875 10.953125 3.296875 \r\nQ 6 8.015625 6 15.921875 \r\nQ 6 25.140625 12.171875 29.828125 \r\nQ 18.359375 34.515625 30.609375 34.515625 \r\nL 43.21875 34.515625 \r\nL 43.21875 35.40625 \r\nQ 43.21875 41.609375 39.140625 45 \r\nQ 35.0625 48.390625 27.6875 48.390625 \r\nQ 23 48.390625 18.546875 47.265625 \r\nQ 14.109375 46.140625 10.015625 43.890625 \r\nL 10.015625 52.203125 \r\nQ 14.9375 54.109375 19.578125 55.046875 \r\nQ 24.21875 56 28.609375 56 \r\nQ 40.484375 56 46.34375 49.84375 \r\nQ 52.203125 43.703125 52.203125 31.203125 \r\nz\r\n\" id=\"DejaVuSans-97\"/>\r\n      <path d=\"M 32.171875 -5.078125 \r\nQ 28.375 -14.84375 24.75 -17.8125 \r\nQ 21.140625 -20.796875 15.09375 -20.796875 \r\nL 7.90625 -20.796875 \r\nL 7.90625 -13.28125 \r\nL 13.1875 -13.28125 \r\nQ 16.890625 -13.28125 18.9375 -11.515625 \r\nQ 21 -9.765625 23.484375 -3.21875 \r\nL 25.09375 0.875 \r\nL 2.984375 54.6875 \r\nL 12.5 54.6875 \r\nL 29.59375 11.921875 \r\nL 46.6875 54.6875 \r\nL 56.203125 54.6875 \r\nz\r\n\" id=\"DejaVuSans-121\"/>\r\n      <path id=\"DejaVuSans-32\"/>\r\n      <path d=\"M 9.8125 72.90625 \r\nL 19.671875 72.90625 \r\nL 19.671875 43.015625 \r\nL 55.515625 43.015625 \r\nL 55.515625 72.90625 \r\nL 65.375 72.90625 \r\nL 65.375 0 \r\nL 55.515625 0 \r\nL 55.515625 34.71875 \r\nL 19.671875 34.71875 \r\nL 19.671875 0 \r\nL 9.8125 0 \r\nz\r\n\" id=\"DejaVuSans-72\"/>\r\n      <path d=\"M 9.421875 54.6875 \r\nL 18.40625 54.6875 \r\nL 18.40625 0 \r\nL 9.421875 0 \r\nz\r\nM 9.421875 75.984375 \r\nL 18.40625 75.984375 \r\nL 18.40625 64.59375 \r\nL 9.421875 64.59375 \r\nz\r\n\" id=\"DejaVuSans-105\"/>\r\n      <path d=\"M 44.28125 53.078125 \r\nL 44.28125 44.578125 \r\nQ 40.484375 46.53125 36.375 47.5 \r\nQ 32.28125 48.484375 27.875 48.484375 \r\nQ 21.1875 48.484375 17.84375 46.4375 \r\nQ 14.5 44.390625 14.5 40.28125 \r\nQ 14.5 37.15625 16.890625 35.375 \r\nQ 19.28125 33.59375 26.515625 31.984375 \r\nL 29.59375 31.296875 \r\nQ 39.15625 29.25 43.1875 25.515625 \r\nQ 47.21875 21.78125 47.21875 15.09375 \r\nQ 47.21875 7.46875 41.1875 3.015625 \r\nQ 35.15625 -1.421875 24.609375 -1.421875 \r\nQ 20.21875 -1.421875 15.453125 -0.5625 \r\nQ 10.6875 0.296875 5.421875 2 \r\nL 5.421875 11.28125 \r\nQ 10.40625 8.6875 15.234375 7.390625 \r\nQ 20.0625 6.109375 24.8125 6.109375 \r\nQ 31.15625 6.109375 34.5625 8.28125 \r\nQ 37.984375 10.453125 37.984375 14.40625 \r\nQ 37.984375 18.0625 35.515625 20.015625 \r\nQ 33.0625 21.96875 24.703125 23.78125 \r\nL 21.578125 24.515625 \r\nQ 13.234375 26.265625 9.515625 29.90625 \r\nQ 5.8125 33.546875 5.8125 39.890625 \r\nQ 5.8125 47.609375 11.28125 51.796875 \r\nQ 16.75 56 26.8125 56 \r\nQ 31.78125 56 36.171875 55.265625 \r\nQ 40.578125 54.546875 44.28125 53.078125 \r\nz\r\n\" id=\"DejaVuSans-115\"/>\r\n      <path d=\"M 54.890625 33.015625 \r\nL 54.890625 0 \r\nL 45.90625 0 \r\nL 45.90625 32.71875 \r\nQ 45.90625 40.484375 42.875 44.328125 \r\nQ 39.84375 48.1875 33.796875 48.1875 \r\nQ 26.515625 48.1875 22.3125 43.546875 \r\nQ 18.109375 38.921875 18.109375 30.90625 \r\nL 18.109375 0 \r\nL 9.078125 0 \r\nL 9.078125 75.984375 \r\nL 18.109375 75.984375 \r\nL 18.109375 46.1875 \r\nQ 21.34375 51.125 25.703125 53.5625 \r\nQ 30.078125 56 35.796875 56 \r\nQ 45.21875 56 50.046875 50.171875 \r\nQ 54.890625 44.34375 54.890625 33.015625 \r\nz\r\n\" id=\"DejaVuSans-104\"/>\r\n      <path d=\"M 45.40625 46.390625 \r\nL 45.40625 75.984375 \r\nL 54.390625 75.984375 \r\nL 54.390625 0 \r\nL 45.40625 0 \r\nL 45.40625 8.203125 \r\nQ 42.578125 3.328125 38.25 0.953125 \r\nQ 33.9375 -1.421875 27.875 -1.421875 \r\nQ 17.96875 -1.421875 11.734375 6.484375 \r\nQ 5.515625 14.40625 5.515625 27.296875 \r\nQ 5.515625 40.1875 11.734375 48.09375 \r\nQ 17.96875 56 27.875 56 \r\nQ 33.9375 56 38.25 53.625 \r\nQ 42.578125 51.265625 45.40625 46.390625 \r\nz\r\nM 14.796875 27.296875 \r\nQ 14.796875 17.390625 18.875 11.75 \r\nQ 22.953125 6.109375 30.078125 6.109375 \r\nQ 37.203125 6.109375 41.296875 11.75 \r\nQ 45.40625 17.390625 45.40625 27.296875 \r\nQ 45.40625 37.203125 41.296875 42.84375 \r\nQ 37.203125 48.484375 30.078125 48.484375 \r\nQ 22.953125 48.484375 18.875 42.84375 \r\nQ 14.796875 37.203125 14.796875 27.296875 \r\nz\r\n\" id=\"DejaVuSans-100\"/>\r\n      <path d=\"M 24.3125 39.203125 \r\nQ 19.875 35.25 17.796875 31.3125 \r\nQ 15.71875 27.390625 15.71875 23.09375 \r\nQ 15.71875 15.96875 20.890625 11.234375 \r\nQ 26.078125 6.5 33.890625 6.5 \r\nQ 38.53125 6.5 42.578125 8.03125 \r\nQ 46.625 9.578125 50.203125 12.703125 \r\nz\r\nM 31.203125 44.671875 \r\nL 56 19.28125 \r\nQ 58.890625 23.640625 60.5 28.59375 \r\nQ 62.109375 33.546875 62.40625 39.109375 \r\nL 71.484375 39.109375 \r\nQ 70.90625 32.671875 68.359375 26.359375 \r\nQ 65.828125 20.0625 61.28125 13.921875 \r\nL 74.90625 0 \r\nL 62.59375 0 \r\nL 55.609375 7.171875 \r\nQ 50.53125 2.828125 44.96875 0.703125 \r\nQ 39.40625 -1.421875 33.015625 -1.421875 \r\nQ 21.234375 -1.421875 13.765625 5.296875 \r\nQ 6.296875 12.015625 6.296875 22.515625 \r\nQ 6.296875 28.765625 9.5625 34.25 \r\nQ 12.84375 39.75 19.390625 44.578125 \r\nQ 17.046875 47.65625 15.8125 50.703125 \r\nQ 14.59375 53.765625 14.59375 56.6875 \r\nQ 14.59375 64.59375 20.015625 69.40625 \r\nQ 25.4375 74.21875 34.421875 74.21875 \r\nQ 38.484375 74.21875 42.5 73.34375 \r\nQ 46.53125 72.46875 50.6875 70.703125 \r\nL 50.6875 61.8125 \r\nQ 46.4375 64.109375 42.578125 65.296875 \r\nQ 38.71875 66.5 35.40625 66.5 \r\nQ 30.28125 66.5 27.078125 63.78125 \r\nQ 23.875 61.078125 23.875 56.78125 \r\nQ 23.875 54.296875 25.3125 51.78125 \r\nQ 26.765625 49.265625 31.203125 44.671875 \r\nz\r\n\" id=\"DejaVuSans-38\"/>\r\n      <path d=\"M 19.671875 64.796875 \r\nL 19.671875 8.109375 \r\nL 31.59375 8.109375 \r\nQ 46.6875 8.109375 53.6875 14.9375 \r\nQ 60.6875 21.78125 60.6875 36.53125 \r\nQ 60.6875 51.171875 53.6875 57.984375 \r\nQ 46.6875 64.796875 31.59375 64.796875 \r\nz\r\nM 9.8125 72.90625 \r\nL 30.078125 72.90625 \r\nQ 51.265625 72.90625 61.171875 64.09375 \r\nQ 71.09375 55.28125 71.09375 36.53125 \r\nQ 71.09375 17.671875 61.125 8.828125 \r\nQ 51.171875 0 30.078125 0 \r\nL 9.8125 0 \r\nz\r\n\" id=\"DejaVuSans-68\"/>\r\n      <path d=\"M 53.515625 70.515625 \r\nL 53.515625 60.890625 \r\nQ 47.90625 63.578125 42.921875 64.890625 \r\nQ 37.9375 66.21875 33.296875 66.21875 \r\nQ 25.25 66.21875 20.875 63.09375 \r\nQ 16.5 59.96875 16.5 54.203125 \r\nQ 16.5 49.359375 19.40625 46.890625 \r\nQ 22.3125 44.4375 30.421875 42.921875 \r\nL 36.375 41.703125 \r\nQ 47.40625 39.59375 52.65625 34.296875 \r\nQ 57.90625 29 57.90625 20.125 \r\nQ 57.90625 9.515625 50.796875 4.046875 \r\nQ 43.703125 -1.421875 29.984375 -1.421875 \r\nQ 24.8125 -1.421875 18.96875 -0.25 \r\nQ 13.140625 0.921875 6.890625 3.21875 \r\nL 6.890625 13.375 \r\nQ 12.890625 10.015625 18.65625 8.296875 \r\nQ 24.421875 6.59375 29.984375 6.59375 \r\nQ 38.421875 6.59375 43.015625 9.90625 \r\nQ 47.609375 13.234375 47.609375 19.390625 \r\nQ 47.609375 24.75 44.3125 27.78125 \r\nQ 41.015625 30.8125 33.5 32.328125 \r\nL 27.484375 33.5 \r\nQ 16.453125 35.6875 11.515625 40.375 \r\nQ 6.59375 45.0625 6.59375 53.421875 \r\nQ 6.59375 63.09375 13.40625 68.65625 \r\nQ 20.21875 74.21875 32.171875 74.21875 \r\nQ 37.3125 74.21875 42.625 73.28125 \r\nQ 47.953125 72.359375 53.515625 70.515625 \r\nz\r\n\" id=\"DejaVuSans-83\"/>\r\n      <path d=\"M 9.8125 72.90625 \r\nL 24.515625 72.90625 \r\nL 43.109375 23.296875 \r\nL 61.8125 72.90625 \r\nL 76.515625 72.90625 \r\nL 76.515625 0 \r\nL 66.890625 0 \r\nL 66.890625 64.015625 \r\nL 48.09375 14.015625 \r\nL 38.1875 14.015625 \r\nL 19.390625 64.015625 \r\nL 19.390625 0 \r\nL 9.8125 0 \r\nz\r\n\" id=\"DejaVuSans-77\"/>\r\n     </defs>\r\n     <use xlink:href=\"#DejaVuSans-79\"/>\r\n     <use x=\"78.710938\" xlink:href=\"#DejaVuSans-118\"/>\r\n     <use x=\"137.890625\" xlink:href=\"#DejaVuSans-101\"/>\r\n     <use x=\"199.414062\" xlink:href=\"#DejaVuSans-114\"/>\r\n     <use x=\"240.527344\" xlink:href=\"#DejaVuSans-108\"/>\r\n     <use x=\"268.310547\" xlink:href=\"#DejaVuSans-97\"/>\r\n     <use x=\"329.589844\" xlink:href=\"#DejaVuSans-121\"/>\r\n     <use x=\"388.769531\" xlink:href=\"#DejaVuSans-32\"/>\r\n     <use x=\"420.556641\" xlink:href=\"#DejaVuSans-72\"/>\r\n     <use x=\"495.751953\" xlink:href=\"#DejaVuSans-105\"/>\r\n     <use x=\"523.535156\" xlink:href=\"#DejaVuSans-108\"/>\r\n     <use x=\"551.318359\" xlink:href=\"#DejaVuSans-108\"/>\r\n     <use x=\"579.101562\" xlink:href=\"#DejaVuSans-115\"/>\r\n     <use x=\"631.201172\" xlink:href=\"#DejaVuSans-104\"/>\r\n     <use x=\"694.580078\" xlink:href=\"#DejaVuSans-97\"/>\r\n     <use x=\"755.859375\" xlink:href=\"#DejaVuSans-100\"/>\r\n     <use x=\"819.335938\" xlink:href=\"#DejaVuSans-101\"/>\r\n     <use x=\"880.859375\" xlink:href=\"#DejaVuSans-32\"/>\r\n     <use x=\"912.646484\" xlink:href=\"#DejaVuSans-38\"/>\r\n     <use x=\"990.625\" xlink:href=\"#DejaVuSans-32\"/>\r\n     <use x=\"1022.412109\" xlink:href=\"#DejaVuSans-68\"/>\r\n     <use x=\"1099.414062\" xlink:href=\"#DejaVuSans-83\"/>\r\n     <use x=\"1162.890625\" xlink:href=\"#DejaVuSans-77\"/>\r\n    </g>\r\n   </g>\r\n  </g>\r\n  <g id=\"axes_2\">\r\n   <g id=\"patch_7\">\r\n    <path clip-path=\"url(#p2d0e943ae5)\" d=\"M 427.209714 348.478125 \r\nL 427.209714 347.204063 \r\nL 427.209714 23.592187 \r\nL 427.209714 22.318125 \r\nL 439.510606 22.318125 \r\nL 439.510606 23.592187 \r\nL 439.510606 347.204063 \r\nL 439.510606 348.478125 \r\nz\r\n\" style=\"fill:#ffffff;stroke:#ffffff;stroke-linejoin:miter;stroke-width:0.01;\"/>\r\n   </g>\r\n   <image height=\"326\" id=\"imagee2bc9d0d3e\" transform=\"scale(1 -1)translate(0 -326)\" width=\"13\" x=\"427\" xlink:href=\"data:image/png;base64,\r\niVBORw0KGgoAAAANSUhEUgAAAA0AAAFGCAYAAACxAxVnAAABYklEQVR4nO2aTarDMBCDPY5v1NP2qi2xu4jpfhQQE6HsP1Rp/h48x+v1Xi35jXUcWaaN2XseQpTyMqgSzxMxCHvaEM0T9POIXW5PG/IKu6Pkcb8+RU8e9ztK1ce9HWcawjy1+ABQR6CDpAQGAXmC0lMMggWV98TqiPJBuCNwqLqniG8eGhFpCAsCUQKhNKIaBM8TBCkG4YalQ2lENQiPe2vtAcVNI6pBeNxxSPE+lQ+idHrlg/B9wiGP+/7Kd3kaeYCn2sWNlX690cY8EWiSlMB/jyl6Yv080SAmApHSc5f/ldzluFJ5T7PyELq4d5QUgyi/wqCj5uLiSopBKHqCTo1mEIp7z5OLKzGDQO5TIG8Se2e9s+zIO8sOeaK9Ha3tiVpcUu/xImd2hKInrLheYbCSoicX9w4EBiFZXN+nS6n0faJ2ue/TBXmFbYj4Z45gEIqeWDuCusJIOyLWyr+qgIL4ATurC4ZZ4mpuAAAAAElFTkSuQmCC\" y=\"-22\"/>\r\n   <g id=\"matplotlib.axis_3\"/>\r\n   <g id=\"matplotlib.axis_4\">\r\n    <g id=\"ytick_1\">\r\n     <g id=\"line2d_1\">\r\n      <defs>\r\n       <path d=\"M 0 0 \r\nL 3.5 0 \r\n\" id=\"m62147ec3ac\" style=\"stroke:#000000;stroke-width:0.8;\"/>\r\n      </defs>\r\n      <g>\r\n       <use style=\"stroke:#000000;stroke-width:0.8;\" x=\"439.510606\" xlink:href=\"#m62147ec3ac\" y=\"348.478125\"/>\r\n      </g>\r\n     </g>\r\n     <g id=\"text_2\">\r\n      <!-- 0 -->\r\n      <g transform=\"translate(446.510606 352.277344)scale(0.1 -0.1)\">\r\n       <defs>\r\n        <path d=\"M 31.78125 66.40625 \r\nQ 24.171875 66.40625 20.328125 58.90625 \r\nQ 16.5 51.421875 16.5 36.375 \r\nQ 16.5 21.390625 20.328125 13.890625 \r\nQ 24.171875 6.390625 31.78125 6.390625 \r\nQ 39.453125 6.390625 43.28125 13.890625 \r\nQ 47.125 21.390625 47.125 36.375 \r\nQ 47.125 51.421875 43.28125 58.90625 \r\nQ 39.453125 66.40625 31.78125 66.40625 \r\nz\r\nM 31.78125 74.21875 \r\nQ 44.046875 74.21875 50.515625 64.515625 \r\nQ 56.984375 54.828125 56.984375 36.375 \r\nQ 56.984375 17.96875 50.515625 8.265625 \r\nQ 44.046875 -1.421875 31.78125 -1.421875 \r\nQ 19.53125 -1.421875 13.0625 8.265625 \r\nQ 6.59375 17.96875 6.59375 36.375 \r\nQ 6.59375 54.828125 13.0625 64.515625 \r\nQ 19.53125 74.21875 31.78125 74.21875 \r\nz\r\n\" id=\"DejaVuSans-48\"/>\r\n       </defs>\r\n       <use xlink:href=\"#DejaVuSans-48\"/>\r\n      </g>\r\n     </g>\r\n    </g>\r\n    <g id=\"ytick_2\">\r\n     <g id=\"line2d_2\">\r\n      <g>\r\n       <use style=\"stroke:#000000;stroke-width:0.8;\" x=\"439.510606\" xlink:href=\"#m62147ec3ac\" y=\"297.871031\"/>\r\n      </g>\r\n     </g>\r\n     <g id=\"text_3\">\r\n      <!-- 5 -->\r\n      <g transform=\"translate(446.510606 301.67025)scale(0.1 -0.1)\">\r\n       <defs>\r\n        <path d=\"M 10.796875 72.90625 \r\nL 49.515625 72.90625 \r\nL 49.515625 64.59375 \r\nL 19.828125 64.59375 \r\nL 19.828125 46.734375 \r\nQ 21.96875 47.46875 24.109375 47.828125 \r\nQ 26.265625 48.1875 28.421875 48.1875 \r\nQ 40.625 48.1875 47.75 41.5 \r\nQ 54.890625 34.8125 54.890625 23.390625 \r\nQ 54.890625 11.625 47.5625 5.09375 \r\nQ 40.234375 -1.421875 26.90625 -1.421875 \r\nQ 22.3125 -1.421875 17.546875 -0.640625 \r\nQ 12.796875 0.140625 7.71875 1.703125 \r\nL 7.71875 11.625 \r\nQ 12.109375 9.234375 16.796875 8.0625 \r\nQ 21.484375 6.890625 26.703125 6.890625 \r\nQ 35.15625 6.890625 40.078125 11.328125 \r\nQ 45.015625 15.765625 45.015625 23.390625 \r\nQ 45.015625 31 40.078125 35.4375 \r\nQ 35.15625 39.890625 26.703125 39.890625 \r\nQ 22.75 39.890625 18.8125 39.015625 \r\nQ 14.890625 38.140625 10.796875 36.28125 \r\nz\r\n\" id=\"DejaVuSans-53\"/>\r\n       </defs>\r\n       <use xlink:href=\"#DejaVuSans-53\"/>\r\n      </g>\r\n     </g>\r\n    </g>\r\n    <g id=\"ytick_3\">\r\n     <g id=\"line2d_3\">\r\n      <g>\r\n       <use style=\"stroke:#000000;stroke-width:0.8;\" x=\"439.510606\" xlink:href=\"#m62147ec3ac\" y=\"247.263938\"/>\r\n      </g>\r\n     </g>\r\n     <g id=\"text_4\">\r\n      <!-- 10 -->\r\n      <g transform=\"translate(446.510606 251.063157)scale(0.1 -0.1)\">\r\n       <defs>\r\n        <path d=\"M 12.40625 8.296875 \r\nL 28.515625 8.296875 \r\nL 28.515625 63.921875 \r\nL 10.984375 60.40625 \r\nL 10.984375 69.390625 \r\nL 28.421875 72.90625 \r\nL 38.28125 72.90625 \r\nL 38.28125 8.296875 \r\nL 54.390625 8.296875 \r\nL 54.390625 0 \r\nL 12.40625 0 \r\nz\r\n\" id=\"DejaVuSans-49\"/>\r\n       </defs>\r\n       <use xlink:href=\"#DejaVuSans-49\"/>\r\n       <use x=\"63.623047\" xlink:href=\"#DejaVuSans-48\"/>\r\n      </g>\r\n     </g>\r\n    </g>\r\n    <g id=\"ytick_4\">\r\n     <g id=\"line2d_4\">\r\n      <g>\r\n       <use style=\"stroke:#000000;stroke-width:0.8;\" x=\"439.510606\" xlink:href=\"#m62147ec3ac\" y=\"196.656844\"/>\r\n      </g>\r\n     </g>\r\n     <g id=\"text_5\">\r\n      <!-- 15 -->\r\n      <g transform=\"translate(446.510606 200.456063)scale(0.1 -0.1)\">\r\n       <use xlink:href=\"#DejaVuSans-49\"/>\r\n       <use x=\"63.623047\" xlink:href=\"#DejaVuSans-53\"/>\r\n      </g>\r\n     </g>\r\n    </g>\r\n    <g id=\"ytick_5\">\r\n     <g id=\"line2d_5\">\r\n      <g>\r\n       <use style=\"stroke:#000000;stroke-width:0.8;\" x=\"439.510606\" xlink:href=\"#m62147ec3ac\" y=\"146.049751\"/>\r\n      </g>\r\n     </g>\r\n     <g id=\"text_6\">\r\n      <!-- 20 -->\r\n      <g transform=\"translate(446.510606 149.848969)scale(0.1 -0.1)\">\r\n       <defs>\r\n        <path d=\"M 19.1875 8.296875 \r\nL 53.609375 8.296875 \r\nL 53.609375 0 \r\nL 7.328125 0 \r\nL 7.328125 8.296875 \r\nQ 12.9375 14.109375 22.625 23.890625 \r\nQ 32.328125 33.6875 34.8125 36.53125 \r\nQ 39.546875 41.84375 41.421875 45.53125 \r\nQ 43.3125 49.21875 43.3125 52.78125 \r\nQ 43.3125 58.59375 39.234375 62.25 \r\nQ 35.15625 65.921875 28.609375 65.921875 \r\nQ 23.96875 65.921875 18.8125 64.3125 \r\nQ 13.671875 62.703125 7.8125 59.421875 \r\nL 7.8125 69.390625 \r\nQ 13.765625 71.78125 18.9375 73 \r\nQ 24.125 74.21875 28.421875 74.21875 \r\nQ 39.75 74.21875 46.484375 68.546875 \r\nQ 53.21875 62.890625 53.21875 53.421875 \r\nQ 53.21875 48.921875 51.53125 44.890625 \r\nQ 49.859375 40.875 45.40625 35.40625 \r\nQ 44.1875 33.984375 37.640625 27.21875 \r\nQ 31.109375 20.453125 19.1875 8.296875 \r\nz\r\n\" id=\"DejaVuSans-50\"/>\r\n       </defs>\r\n       <use xlink:href=\"#DejaVuSans-50\"/>\r\n       <use x=\"63.623047\" xlink:href=\"#DejaVuSans-48\"/>\r\n      </g>\r\n     </g>\r\n    </g>\r\n    <g id=\"ytick_6\">\r\n     <g id=\"line2d_6\">\r\n      <g>\r\n       <use style=\"stroke:#000000;stroke-width:0.8;\" x=\"439.510606\" xlink:href=\"#m62147ec3ac\" y=\"95.442657\"/>\r\n      </g>\r\n     </g>\r\n     <g id=\"text_7\">\r\n      <!-- 25 -->\r\n      <g transform=\"translate(446.510606 99.241876)scale(0.1 -0.1)\">\r\n       <use xlink:href=\"#DejaVuSans-50\"/>\r\n       <use x=\"63.623047\" xlink:href=\"#DejaVuSans-53\"/>\r\n      </g>\r\n     </g>\r\n    </g>\r\n    <g id=\"ytick_7\">\r\n     <g id=\"line2d_7\">\r\n      <g>\r\n       <use style=\"stroke:#000000;stroke-width:0.8;\" x=\"439.510606\" xlink:href=\"#m62147ec3ac\" y=\"44.835563\"/>\r\n      </g>\r\n     </g>\r\n     <g id=\"text_8\">\r\n      <!-- 30 -->\r\n      <g transform=\"translate(446.510606 48.634782)scale(0.1 -0.1)\">\r\n       <defs>\r\n        <path d=\"M 40.578125 39.3125 \r\nQ 47.65625 37.796875 51.625 33 \r\nQ 55.609375 28.21875 55.609375 21.1875 \r\nQ 55.609375 10.40625 48.1875 4.484375 \r\nQ 40.765625 -1.421875 27.09375 -1.421875 \r\nQ 22.515625 -1.421875 17.65625 -0.515625 \r\nQ 12.796875 0.390625 7.625 2.203125 \r\nL 7.625 11.71875 \r\nQ 11.71875 9.328125 16.59375 8.109375 \r\nQ 21.484375 6.890625 26.8125 6.890625 \r\nQ 36.078125 6.890625 40.9375 10.546875 \r\nQ 45.796875 14.203125 45.796875 21.1875 \r\nQ 45.796875 27.640625 41.28125 31.265625 \r\nQ 36.765625 34.90625 28.71875 34.90625 \r\nL 20.21875 34.90625 \r\nL 20.21875 43.015625 \r\nL 29.109375 43.015625 \r\nQ 36.375 43.015625 40.234375 45.921875 \r\nQ 44.09375 48.828125 44.09375 54.296875 \r\nQ 44.09375 59.90625 40.109375 62.90625 \r\nQ 36.140625 65.921875 28.71875 65.921875 \r\nQ 24.65625 65.921875 20.015625 65.03125 \r\nQ 15.375 64.15625 9.8125 62.3125 \r\nL 9.8125 71.09375 \r\nQ 15.4375 72.65625 20.34375 73.4375 \r\nQ 25.25 74.21875 29.59375 74.21875 \r\nQ 40.828125 74.21875 47.359375 69.109375 \r\nQ 53.90625 64.015625 53.90625 55.328125 \r\nQ 53.90625 49.265625 50.4375 45.09375 \r\nQ 46.96875 40.921875 40.578125 39.3125 \r\nz\r\n\" id=\"DejaVuSans-51\"/>\r\n       </defs>\r\n       <use xlink:href=\"#DejaVuSans-51\"/>\r\n       <use x=\"63.623047\" xlink:href=\"#DejaVuSans-48\"/>\r\n      </g>\r\n     </g>\r\n    </g>\r\n   </g>\r\n   <g id=\"patch_8\">\r\n    <path d=\"M 427.209714 348.478125 \r\nL 427.209714 347.204063 \r\nL 427.209714 23.592187 \r\nL 427.209714 22.318125 \r\nL 439.510606 22.318125 \r\nL 439.510606 23.592187 \r\nL 439.510606 347.204063 \r\nL 439.510606 348.478125 \r\nz\r\n\" style=\"fill:none;stroke:#000000;stroke-linejoin:miter;stroke-width:0.8;\"/>\r\n   </g>\r\n  </g>\r\n </g>\r\n <defs>\r\n  <clipPath id=\"pdb827ab47d\">\r\n   <rect height=\"326.16\" width=\"410.029714\" x=\"10.7\" y=\"22.318125\"/>\r\n  </clipPath>\r\n  <clipPath id=\"p2d0e943ae5\">\r\n   <rect height=\"326.16\" width=\"12.300891\" x=\"427.209714\" y=\"22.318125\"/>\r\n  </clipPath>\r\n </defs>\r\n</svg>\r\n",
      "image/png": "[encoded data removed]"
     },
     "metadata": {
      "needs_background": "light"
     }
    }
   ],
   "source": [
    "fig, ax = plt.subplots(figsize=(10, 6))\n",
    "ep.plot_bands(\n",
    "    chm, ax=ax, cmap=\"terrain\", title=\"Overlay Hillshade & DSM\",\n",
    ")\n",
    "ax.imshow(chm, cmap=\"Greys\", alpha=0.5)\n",
    "plt.show()\n"
   ]
  },
  {
   "cell_type": "code",
   "execution_count": 56,
   "metadata": {},
   "outputs": [],
   "source": [
    "chm_gdp = gpd.GeoDataFrame(chm)\n"
   ]
  },
  {
   "cell_type": "code",
   "execution_count": 57,
   "metadata": {},
   "outputs": [
    {
     "output_type": "display_data",
     "data": {
      "application/vnd.plotly.v1+json": {
       "config": {
        "plotlyServerURL": "https://plot.ly"
       },
       "data": [
        {
         "type": "surface",
         "x": [
          0,
          0.029411764705882353,
          0.058823529411764705,
          0.08823529411764705,
          0.11764705882352941,
          0.14705882352941177,
          0.1764705882352941,
          0.20588235294117646,
          0.23529411764705882,
          0.2647058823529412,
          0.29411764705882354,
          0.3235294117647059,
          0.3529411764705882,
          0.38235294117647056,
          0.4117647058823529,
          0.4411764705882353,
          0.47058823529411764,
          0.5,
          0.5294117647058824,
          0.5588235294117647,
          0.5882352941176471,
          0.6176470588235294,
          0.6470588235294118,
          0.6764705882352942,
          0.7058823529411764,
          0.7352941176470588,
          0.7647058823529411,
          0.7941176470588235,
          0.8235294117647058,
          0.8529411764705882,
          0.8823529411764706,
          0.9117647058823529,
          0.9411764705882353,
          0.9705882352941176,
          1
         ],
         "y": [
          0,
          0.023255813953488372,
          0.046511627906976744,
          0.06976744186046512,
          0.09302325581395349,
          0.11627906976744186,
          0.13953488372093023,
          0.16279069767441862,
          0.18604651162790697,
          0.20930232558139533,
          0.23255813953488372,
          0.2558139534883721,
          0.27906976744186046,
          0.3023255813953488,
          0.32558139534883723,
          0.3488372093023256,
          0.37209302325581395,
          0.3953488372093023,
          0.41860465116279066,
          0.4418604651162791,
          0.46511627906976744,
          0.4883720930232558,
          0.5116279069767442,
          0.5348837209302325,
          0.5581395348837209,
          0.5813953488372093,
          0.6046511627906976,
          0.627906976744186,
          0.6511627906976745,
          0.6744186046511628,
          0.6976744186046512,
          0.7209302325581395,
          0.7441860465116279,
          0.7674418604651163,
          0.7906976744186046,
          0.813953488372093,
          0.8372093023255813,
          0.8604651162790697,
          0.8837209302325582,
          0.9069767441860465,
          0.9302325581395349,
          0.9534883720930233,
          0.9767441860465116,
          1
         ],
         "z": [
          [
           0,
           0,
           0,
           0,
           0,
           0,
           0,
           0,
           0,
           0,
           0,
           0,
           0,
           0,
           0,
           0,
           0,
           0,
           0,
           0,
           0,
           0,
           0,
           0,
           0,
           0,
           0,
           0,
           0,
           0,
           0,
           0,
           0,
           0,
           0,
           0,
           0,
           0,
           0,
           0,
           0,
           0,
           0,
           0
          ],
          [
           0,
           0,
           0,
           0,
           0,
           0,
           0,
           0,
           0,
           18.350000381469727,
           0,
           0,
           0,
           0,
           0,
           0,
           0,
           0,
           0,
           0,
           0,
           0,
           0,
           0,
           0,
           0,
           0,
           0,
           0,
           0,
           0,
           0,
           0,
           0,
           0,
           0,
           0,
           0,
           0,
           0,
           0,
           0,
           0,
           0
          ],
          [
           0,
           0,
           0,
           0,
           0,
           0,
           0,
           0,
           19.461783409118652,
           18.08547878265381,
           0,
           0,
           0,
           0,
           0,
           0,
           0,
           0,
           0,
           0,
           0,
           0,
           0,
           0,
           0,
           0,
           0,
           0,
           0,
           0,
           0,
           0,
           0,
           0,
           0,
           0,
           0,
           0,
           0,
           0,
           0,
           0,
           0,
           0
          ],
          [
           0,
           0,
           0,
           0,
           0,
           0,
           0,
           0,
           20.590884685516357,
           19.28045654296875,
           19.886866569519043,
           19.7554349899292,
           0,
           0,
           0,
           0,
           0,
           0,
           0,
           0,
           0,
           0,
           0,
           0,
           0,
           0,
           0,
           0,
           0,
           0,
           0,
           0,
           0,
           0,
           0,
           0,
           0,
           0,
           0,
           0,
           0,
           0,
           0,
           0
          ],
          [
           0,
           0,
           0,
           0,
           0,
           0,
           0,
           22.740349769592285,
           21.9307861328125,
           20.38187026977539,
           20.19576930999756,
           18.82849884033203,
           17.964698791503906,
           17.415538787841797,
           17.66886329650879,
           0,
           0,
           0,
           0,
           0,
           0,
           0,
           0,
           0,
           0,
           0,
           0,
           0,
           0,
           0,
           0,
           0,
           0,
           0,
           0,
           0,
           0,
           0,
           0,
           0,
           0,
           0,
           0,
           0
          ],
          [
           0,
           0,
           0,
           0,
           0,
           0,
           0,
           24.31020450592041,
           23.403776168823242,
           21.93564796447754,
           20.728659629821777,
           20.057283401489258,
           19.120034217834473,
           18.43960189819336,
           17.961108207702637,
           18.652164459228516,
           0,
           0,
           0,
           0,
           0,
           0,
           0,
           0,
           0,
           0,
           0,
           0,
           0,
           0,
           0,
           0,
           0,
           0,
           0,
           0,
           0,
           0,
           0,
           0,
           0,
           0,
           0,
           0
          ],
          [
           0,
           0,
           0,
           0,
           0,
           0,
           26.774102210998535,
           25.8108868598938,
           24.785537719726562,
           23.36240863800049,
           22.204734802246094,
           21.420884132385254,
           21.016511917114258,
           19.789029121398926,
           19.036200523376465,
           18.81279754638672,
           19.344874382019043,
           15.917384147644043,
           0,
           0,
           12.420000076293945,
           0,
           0,
           0,
           0,
           0,
           0,
           0,
           0,
           0,
           0,
           0,
           0,
           0,
           0,
           0,
           0,
           0,
           0,
           0,
           0,
           0,
           0,
           0
          ],
          [
           0,
           0,
           0,
           0,
           0,
           0,
           28.18337392807007,
           27.449442863464355,
           26.3587589263916,
           24.942091941833496,
           23.55203342437744,
           22.90837287902832,
           21.942070960998535,
           21.16343402862549,
           20.416918754577637,
           19.71168041229248,
           19.004252433776855,
           18.335304260253906,
           17.759126663208008,
           17.277687072753906,
           17.110694885253906,
           0,
           0,
           0,
           0,
           0,
           0,
           0,
           0,
           0,
           0,
           0,
           0,
           0,
           0,
           0,
           0,
           0,
           0,
           0,
           0,
           0,
           0,
           0
          ],
          [
           0,
           0,
           0,
           0,
           0,
           30.81948757171631,
           29.75981903076172,
           28.649898529052734,
           27.927435874938965,
           26.63191795349121,
           25.257123947143555,
           24.556385040283203,
           23.557564735412598,
           22.651777267456055,
           21.923063278198242,
           21.177820205688477,
           20.34930992126465,
           19.640972137451172,
           19.000864028930664,
           18.288469314575195,
           17.813395500183105,
           16.185524940490723,
           0,
           0,
           0,
           0,
           0,
           0,
           0,
           0,
           0,
           0,
           0,
           0,
           0,
           0,
           0,
           0,
           0,
           0,
           0,
           0,
           0,
           0
          ],
          [
           0,
           0,
           0,
           0,
           0,
           32.2247314453125,
           31.485597610473633,
           30.692801475524902,
           29.4857120513916,
           28.082653045654297,
           26.87922191619873,
           26.141321182250977,
           25.08869171142578,
           24.21372699737549,
           23.545896530151367,
           22.608839988708496,
           21.804652214050293,
           21.424187660217285,
           20.323430061340332,
           19.600539207458496,
           18.936016082763672,
           19.667248725891113,
           18.241043090820312,
           17.13896083831787,
           0,
           0,
           11.949999809265137,
           0,
           0,
           0,
           0,
           0,
           0,
           0,
           0,
           0,
           0,
           0,
           0,
           0,
           0,
           0,
           0,
           0
          ],
          [
           0,
           0,
           0,
           0,
           30.286547660827637,
           30.592416763305664,
           31.28346538543701,
           31.7936429977417,
           31.093881607055664,
           29.708672523498535,
           28.339844703674316,
           27.646666526794434,
           26.59365749359131,
           25.682127952575684,
           25.007238388061523,
           24.078031539916992,
           23.273293495178223,
           22.494060516357422,
           21.790072441101074,
           21.01762294769287,
           20.295504570007324,
           19.501394271850586,
           18.85039710998535,
           18.196561813354492,
           17.67805767059326,
           17.12027931213379,
           17.940000534057617,
           0,
           0,
           0,
           0,
           0,
           0,
           0,
           0,
           0,
           0,
           0,
           0,
           0,
           0,
           0,
           0,
           0
          ],
          [
           0,
           0,
           0,
           0,
           28.31296443939209,
           28.9612717628479,
           30.73402690887451,
           30.221796989440918,
           30.874646186828613,
           31.185351371765137,
           29.972938537597656,
           29.31387424468994,
           28.143049240112305,
           27.54927349090576,
           26.472559928894043,
           25.578590393066406,
           24.866371154785156,
           24.014404296875,
           23.259849548339844,
           22.466115951538086,
           21.700571060180664,
           20.967402458190918,
           20.22263813018799,
           19.569588661193848,
           18.777021408081055,
           18.122126579284668,
           18.27678871154785,
           20.33313751220703,
           0,
           0,
           0,
           0,
           0,
           0,
           0,
           0,
           0,
           0,
           0,
           0,
           0,
           0,
           0,
           0
          ],
          [
           0,
           0,
           0,
           26.30693769454956,
           26.813117027282715,
           27.421202659606934,
           27.91638946533203,
           28.50674343109131,
           29.066247940063477,
           29.504206657409668,
           30.15792465209961,
           30.74923038482666,
           29.873135566711426,
           29.006402015686035,
           28.0797176361084,
           27.177355766296387,
           26.29204559326172,
           25.47645378112793,
           24.65402126312256,
           23.9052734375,
           23.159927368164062,
           22.36275577545166,
           21.669055938720703,
           20.975504875183105,
           20.16950225830078,
           19.456549644470215,
           18.99064540863037,
           18.742671012878418,
           12.45907211303711,
           14.3970308303833,
           0,
           16.739999771118164,
           8.629999160766602,
           0,
           0,
           0,
           0,
           0,
           0,
           0,
           0,
           0,
           0,
           0
          ],
          [
           0,
           0,
           0,
           24.674413204193115,
           25.214664459228516,
           25.80532741546631,
           26.375635147094727,
           26.853211402893066,
           27.539525985717773,
           27.861469268798828,
           28.45341682434082,
           29.27813720703125,
           29.863481521606445,
           30.489656448364258,
           29.79669189453125,
           28.785855293273926,
           27.85201072692871,
           26.929101943969727,
           26.107914924621582,
           25.29224681854248,
           24.629840850830078,
           23.820778846740723,
           23.047069549560547,
           22.346925735473633,
           21.613971710205078,
           20.86186122894287,
           20.07284927368164,
           19.31663990020752,
           18.593259811401367,
           18.11269760131836,
           17.536778450012207,
           17.273762702941895,
           0,
           0,
           0,
           0,
           0,
           0,
           0,
           0,
           0,
           0,
           0,
           0
          ],
          [
           0,
           0,
           22.956229209899902,
           23.219884395599365,
           23.666558742523193,
           24.23270034790039,
           24.89232349395752,
           25.27243423461914,
           25.77359104156494,
           26.29518985748291,
           26.680429458618164,
           28.807615280151367,
           28.213644981384277,
           28.998029708862305,
           29.87346839904785,
           30.290583610534668,
           29.44381618499756,
           28.559208869934082,
           28.94162368774414,
           26.833473205566406,
           26.135504722595215,
           26.111943244934082,
           24.488500595092773,
           23.76870059967041,
           23.076529502868652,
           22.495352745056152,
           21.472317695617676,
           20.756959915161133,
           20.92618179321289,
           19.343339920043945,
           18.6697416305542,
           18.044998168945312,
           17.483978271484375,
           13.011398315429688,
           0,
           0,
           0,
           0,
           0,
           0,
           0,
           0,
           0,
           0
          ],
          [
           0,
           0,
           21.31828737258911,
           21.806825160980225,
           22.27216672897339,
           22.81881332397461,
           23.387686729431152,
           23.7976655960083,
           24.405141830444336,
           25.068220138549805,
           25.581453323364258,
           25.967169761657715,
           26.552720069885254,
           27.33643913269043,
           28.199925422668457,
           28.919355392456055,
           29.657036781311035,
           30.14030170440674,
           29.21541690826416,
           28.384628295898438,
           27.531983375549316,
           26.7664737701416,
           25.991671562194824,
           25.161306381225586,
           24.505878448486328,
           23.72233295440674,
           22.961515426635742,
           22.241119384765625,
           21.54750919342041,
           20.792901039123535,
           20.070557594299316,
           19.325254440307617,
           18.628259658813477,
           18.03461456298828,
           19.535141944885254,
           14.156940460205078,
           16.300000190734863,
           16.670000076293945,
           0,
           0,
           0,
           0,
           0,
           0
          ],
          [
           0,
           20.008546352386475,
           19.973318576812744,
           20.572967529296875,
           21.24852466583252,
           21.357298851013184,
           21.952014923095703,
           22.301876068115234,
           22.960668563842773,
           23.40366268157959,
           24.93005084991455,
           24.741734504699707,
           25.353487968444824,
           26.104673385620117,
           26.444680213928223,
           27.148951530456543,
           27.990482330322266,
           28.875128746032715,
           29.809247970581055,
           29.893465995788574,
           29.07828140258789,
           28.228535652160645,
           27.500357627868652,
           26.709209442138672,
           25.96463966369629,
           25.215789794921875,
           24.47683334350586,
           23.728992462158203,
           22.974925994873047,
           22.24102783203125,
           21.458500862121582,
           20.813300132751465,
           20.043017387390137,
           19.3034029006958,
           18.6850004196167,
           18.005488395690918,
           17.389999389648438,
           16.83000087738037,
           0,
           0,
           0,
           0,
           0,
           0
          ],
          [
           0,
           19.169999599456787,
           0,
           16.489516258239746,
           20.497349739074707,
           19.902871131896973,
           20.316697120666504,
           20.836970329284668,
           21.47498893737793,
           21.93245029449463,
           22.541455268859863,
           23.067468643188477,
           23.791149139404297,
           24.476540565490723,
           25.07520580291748,
           25.571328163146973,
           26.248666763305664,
           27.070056915283203,
           27.95307445526123,
           28.72135353088379,
           29.814523696899414,
           29.850075721740723,
           29.078975677490234,
           28.76706600189209,
           27.472142219543457,
           26.66889762878418,
           26.052671432495117,
           25.5177583694458,
           24.47486400604248,
           23.686854362487793,
           23.66833782196045,
           22.219114303588867,
           21.541343688964844,
           20.953737258911133,
           20.00751781463623,
           19.333556175231934,
           18.633429527282715,
           18.02999973297119,
           17.420000076293945,
           6.190000534057617,
           0,
           0,
           0,
           0
          ],
          [
           0,
           0,
           0,
           0,
           0,
           16.74012851715088,
           19.110480308532715,
           19.54264259338379,
           19.88710117340088,
           20.456504821777344,
           21.07673454284668,
           21.553658485412598,
           22.289600372314453,
           22.818618774414062,
           23.519821166992188,
           24.282496452331543,
           24.88353157043457,
           25.465030670166016,
           26.27515411376953,
           27.039358139038086,
           27.969364166259766,
           28.707951545715332,
           29.64760112762451,
           29.884318351745605,
           29.12703800201416,
           28.273825645446777,
           27.44901752471924,
           26.713855743408203,
           26.003857612609863,
           25.224735260009766,
           24.52651882171631,
           23.7606840133667,
           22.917091369628906,
           22.21132469177246,
           21.464184761047363,
           20.75816535949707,
           19.993870735168457,
           19.260000228881836,
           18.660000801086426,
           17.989999771118164,
           21.529998779296875,
           26.999999046325684,
           26.58000087738037,
           0
          ],
          [
           0,
           0,
           0,
           0,
           0,
           0,
           0,
           18.36793613433838,
           19.19310188293457,
           20.712119102478027,
           19.587721824645996,
           20.149718284606934,
           21.536478996276855,
           21.221901893615723,
           21.933713912963867,
           23.510948181152344,
           23.29478168487549,
           24.071736335754395,
           24.796696662902832,
           25.717496871948242,
           26.20467185974121,
           26.975831031799316,
           28.596298217773438,
           28.61555576324463,
           29.481865882873535,
           29.99932289123535,
           29.146634101867676,
           28.338425636291504,
           27.590173721313477,
           26.94367027282715,
           26.083733558654785,
           25.31804370880127,
           24.503947257995605,
           23.74866008758545,
           22.9434232711792,
           22.165207862854004,
           21.41102695465088,
           20.769211769104004,
           20.109999656677246,
           19.670000076293945,
           24.890000343322754,
           28.10999870300293,
           26.56999969482422,
           0
          ],
          [
           0,
           0,
           0,
           0,
           0,
           0,
           11.9399995803833,
           0,
           0,
           15.959315299987793,
           18.42653179168701,
           18.807327270507812,
           19.20709228515625,
           19.812838554382324,
           20.486347198486328,
           21.06851863861084,
           21.724933624267578,
           22.34590435028076,
           23.21611976623535,
           23.946041107177734,
           24.62890338897705,
           25.323792457580566,
           26.103273391723633,
           26.89039707183838,
           27.726758003234863,
           28.562262535095215,
           29.364208221435547,
           29.957865715026855,
           29.18225860595703,
           28.354541778564453,
           27.52409076690674,
           26.792499542236328,
           26.08884620666504,
           25.365342140197754,
           24.518278121948242,
           23.816598892211914,
           23.00196075439453,
           22.272250175476074,
           21.540000915527344,
           20.880000114440918,
           20.609999656677246,
           17.760000228881836,
           12.520000457763672,
           0
          ],
          [
           0,
           0,
           0,
           0,
           0,
           0,
           0,
           0,
           0,
           0,
           0,
           16.54941177368164,
           18.07629108428955,
           18.443851470947266,
           19.007317543029785,
           19.7523775100708,
           20.30061149597168,
           20.917818069458008,
           21.564281463623047,
           22.24271297454834,
           23.072182655334473,
           23.933223724365234,
           24.583948135375977,
           25.29534339904785,
           26.07526206970215,
           26.837233543395996,
           27.691859245300293,
           28.552490234375,
           29.350337028503418,
           29.969035148620605,
           29.171964645385742,
           28.37840747833252,
           27.664347648620605,
           26.921517372131348,
           26.01378059387207,
           25.280160903930664,
           24.477170944213867,
           23.762475967407227,
           23.00884246826172,
           22.359999656677246,
           22.039998054504395,
           0,
           0,
           0
          ],
          [
           0,
           0,
           0,
           0,
           0,
           0,
           0,
           0,
           0,
           0,
           0,
           0,
           17.600000381469727,
           18.033905029296875,
           19.255600929260254,
           19.129382133483887,
           18.841829299926758,
           20.2525634765625,
           21.040632247924805,
           20.676485061645508,
           21.397374153137207,
           22.451587677001953,
           22.95934009552002,
           23.690321922302246,
           24.441913604736328,
           25.26230525970459,
           26.062792778015137,
           26.899965286254883,
           27.648444175720215,
           28.449905395507812,
           29.32987689971924,
           29.966569900512695,
           29.132898330688477,
           28.493450164794922,
           28.542970657348633,
           26.773812294006348,
           26.040115356445312,
           25.695528984069824,
           24.579042434692383,
           23.920001983642578,
           16.299999237060547,
           0,
           0,
           0
          ],
          [
           0,
           0,
           0,
           0,
           0,
           0,
           0,
           0,
           0,
           0,
           0,
           0,
           9.669999122619629,
           0,
           0,
           18.75675392150879,
           17.646645545959473,
           20.554168701171875,
           20.624953269958496,
           19.39556312561035,
           19.916662216186523,
           20.552431106567383,
           21.33750343322754,
           22.205053329467773,
           22.930831909179688,
           23.689579010009766,
           24.592731475830078,
           25.290047645568848,
           26.006415367126465,
           26.72786521911621,
           27.496200561523438,
           28.531733512878418,
           29.327052116394043,
           31.518555641174316,
           31.539976119995117,
           28.38710308074951,
           27.64361000061035,
           26.846077919006348,
           26.242433547973633,
           25.614408493041992,
           0,
           0,
           0,
           0
          ],
          [
           0,
           0,
           0,
           0,
           0,
           0,
           0,
           0,
           0,
           0,
           0,
           0,
           0,
           0,
           0,
           0,
           0,
           24.064224243164062,
           21.799423217773438,
           20.154754638671875,
           18.477051734924316,
           19.20621681213379,
           19.923097610473633,
           20.772549629211426,
           21.395419120788574,
           22.128198623657227,
           23.157755851745605,
           23.73679256439209,
           24.40730571746826,
           25.09585475921631,
           25.882593154907227,
           26.78627586364746,
           27.529955863952637,
           28.618021965026855,
           29.21812152862549,
           29.949506759643555,
           29.24574565887451,
           28.55321502685547,
           27.81908130645752,
           19.01349639892578,
           0,
           0,
           0,
           0
          ],
          [
           0,
           0,
           0,
           0,
           0,
           0,
           0,
           0,
           0,
           0,
           0,
           0,
           0,
           0,
           0,
           0,
           25.710001945495605,
           27.85999870300293,
           27.02999782562256,
           21.11111831665039,
           17.275864601135254,
           17.863637924194336,
           18.677515029907227,
           19.049509048461914,
           19.942964553833008,
           20.644871711730957,
           21.412063598632812,
           22.20449161529541,
           22.76833152770996,
           23.57201385498047,
           24.31224250793457,
           25.158451080322266,
           25.890911102294922,
           26.565897941589355,
           27.4570369720459,
           28.425289154052734,
           29.37077045440674,
           30.110873222351074,
           29.636587142944336,
           0,
           0,
           0,
           0,
           0
          ],
          [
           0,
           0,
           0,
           0,
           0,
           0,
           0,
           0,
           0,
           0,
           0,
           0,
           0,
           0,
           0,
           0,
           25.97000026702881,
           29.18000030517578,
           28.119998931884766,
           16.75,
           0,
           8.0535249710083,
           19.500468254089355,
           18.113759994506836,
           18.38719940185547,
           19.078752517700195,
           19.949387550354004,
           20.609821319580078,
           21.314136505126953,
           22.03687286376953,
           22.83745288848877,
           23.559541702270508,
           24.322489738464355,
           25.009140014648438,
           25.834349632263184,
           26.733243942260742,
           27.64915370941162,
           28.598636627197266,
           27.41476345062256,
           14.449999809265137,
           0,
           0,
           0,
           0
          ],
          [
           0,
           0,
           0,
           0,
           0,
           0,
           0,
           0,
           0,
           0,
           0,
           0,
           0,
           0,
           0,
           0,
           0,
           26.09999942779541,
           3.179999351501465,
           0,
           0,
           0,
           0,
           17.152694702148438,
           17.285231590270996,
           17.86648654937744,
           18.490148544311523,
           19.164451599121094,
           20.62738609313965,
           20.588472366333008,
           21.307246208190918,
           22.06831169128418,
           22.930452346801758,
           23.4984769821167,
           24.26802635192871,
           26.07305145263672,
           26.114495277404785,
           27.25673770904541,
           0,
           0,
           0,
           0,
           0,
           0
          ],
          [
           0,
           0,
           0,
           0,
           0,
           0,
           0,
           0,
           0,
           0,
           0,
           0,
           0,
           0,
           0,
           0,
           0,
           0,
           0,
           0,
           0,
           0,
           0,
           16.6899995803833,
           14.329999923706055,
           15.727319717407227,
           17.269367218017578,
           18.30238914489746,
           19.011656761169434,
           19.121834754943848,
           19.87808132171631,
           20.58692741394043,
           21.309438705444336,
           22.029242515563965,
           22.690011024475098,
           23.56109619140625,
           24.459309577941895,
           9.899999618530273,
           0,
           0,
           0,
           0,
           0,
           0
          ],
          [
           0,
           0,
           0,
           0,
           0,
           0,
           0,
           0,
           0,
           0,
           0,
           0,
           0,
           0,
           0,
           0,
           0,
           0,
           0,
           0,
           0,
           0,
           0,
           0,
           0,
           0,
           0,
           16.476238250732422,
           18.34869384765625,
           17.878015518188477,
           18.3738374710083,
           19.05278968811035,
           19.82451629638672,
           20.679999351501465,
           21.309999465942383,
           22.020000457763672,
           11.9399995803833,
           0,
           0,
           0,
           0,
           0,
           0,
           0
          ],
          [
           0,
           0,
           0,
           0,
           0,
           0,
           0,
           0,
           0,
           0,
           0,
           0,
           0,
           0,
           0,
           0,
           0,
           0,
           0,
           0,
           0,
           0,
           0,
           0,
           0,
           0,
           0,
           0,
           0,
           16.769999504089355,
           17.239999771118164,
           17.680001258850098,
           18.40000057220459,
           19.06999969482422,
           20.040000915527344,
           20.609999656677246,
           6.840000152587891,
           0,
           0,
           0,
           0,
           0,
           0,
           0
          ],
          [
           0,
           0,
           0,
           0,
           0,
           0,
           0,
           0,
           0,
           0,
           0,
           0,
           0,
           0,
           0,
           0,
           0,
           0,
           0,
           0,
           0,
           0,
           0,
           0,
           0,
           0,
           0,
           0,
           0,
           16.269999504089355,
           0,
           15.850000381469727,
           17.1899995803833,
           17.739999771118164,
           23.929999351501465,
           20.070000648498535,
           0,
           0,
           0,
           0,
           0,
           0,
           0,
           0
          ],
          [
           0,
           0,
           0,
           0,
           0,
           0,
           0,
           0,
           0,
           0,
           0,
           0,
           0,
           0,
           0,
           0,
           0,
           0,
           0,
           0,
           0,
           0,
           0,
           0,
           0,
           0,
           0,
           0,
           0,
           0,
           0,
           0,
           0,
           16.969999313354492,
           26.489998817443848,
           27.08000087738037,
           17.389999389648438,
           0,
           0,
           0,
           0,
           0,
           0,
           0
          ],
          [
           0,
           0,
           0,
           0,
           0,
           0,
           0,
           0,
           0,
           0,
           0,
           0,
           0,
           0,
           0,
           0,
           0,
           0,
           0,
           0,
           0,
           0,
           0,
           0,
           0,
           0,
           0,
           0,
           0,
           0,
           0,
           0,
           0,
           0,
           26.66999912261963,
           27.22999858856201,
           0,
           0,
           0,
           0,
           0,
           0,
           0,
           0
          ],
          [
           0,
           0,
           0,
           0,
           0,
           0,
           0,
           0,
           0,
           0,
           0,
           0,
           0,
           0,
           0,
           0,
           0,
           0,
           0,
           0,
           0,
           0,
           0,
           0,
           0,
           0,
           0,
           0,
           0,
           0,
           0,
           0,
           0,
           0,
           0,
           0,
           0,
           0,
           0,
           0,
           0,
           0,
           0,
           0
          ]
         ]
        }
       ],
       "layout": {
        "autosize": false,
        "height": 500,
        "margin": {
         "b": 65,
         "l": 65,
         "r": 50,
         "t": 90
        },
        "template": {
         "data": {
          "bar": [
           {
            "error_x": {
             "color": "#2a3f5f"
            },
            "error_y": {
             "color": "#2a3f5f"
            },
            "marker": {
             "line": {
              "color": "#E5ECF6",
              "width": 0.5
             }
            },
            "type": "bar"
           }
          ],
          "barpolar": [
           {
            "marker": {
             "line": {
              "color": "#E5ECF6",
              "width": 0.5
             }
            },
            "type": "barpolar"
           }
          ],
          "carpet": [
           {
            "aaxis": {
             "endlinecolor": "#2a3f5f",
             "gridcolor": "white",
             "linecolor": "white",
             "minorgridcolor": "white",
             "startlinecolor": "#2a3f5f"
            },
            "baxis": {
             "endlinecolor": "#2a3f5f",
             "gridcolor": "white",
             "linecolor": "white",
             "minorgridcolor": "white",
             "startlinecolor": "#2a3f5f"
            },
            "type": "carpet"
           }
          ],
          "choropleth": [
           {
            "colorbar": {
             "outlinewidth": 0,
             "ticks": ""
            },
            "type": "choropleth"
           }
          ],
          "contour": [
           {
            "colorbar": {
             "outlinewidth": 0,
             "ticks": ""
            },
            "colorscale": [
             [
              0,
              "#0d0887"
             ],
             [
              0.1111111111111111,
              "#46039f"
             ],
             [
              0.2222222222222222,
              "#7201a8"
             ],
             [
              0.3333333333333333,
              "#9c179e"
             ],
             [
              0.4444444444444444,
              "#bd3786"
             ],
             [
              0.5555555555555556,
              "#d8576b"
             ],
             [
              0.6666666666666666,
              "#ed7953"
             ],
             [
              0.7777777777777778,
              "#fb9f3a"
             ],
             [
              0.8888888888888888,
              "#fdca26"
             ],
             [
              1,
              "#f0f921"
             ]
            ],
            "type": "contour"
           }
          ],
          "contourcarpet": [
           {
            "colorbar": {
             "outlinewidth": 0,
             "ticks": ""
            },
            "type": "contourcarpet"
           }
          ],
          "heatmap": [
           {
            "colorbar": {
             "outlinewidth": 0,
             "ticks": ""
            },
            "colorscale": [
             [
              0,
              "#0d0887"
             ],
             [
              0.1111111111111111,
              "#46039f"
             ],
             [
              0.2222222222222222,
              "#7201a8"
             ],
             [
              0.3333333333333333,
              "#9c179e"
             ],
             [
              0.4444444444444444,
              "#bd3786"
             ],
             [
              0.5555555555555556,
              "#d8576b"
             ],
             [
              0.6666666666666666,
              "#ed7953"
             ],
             [
              0.7777777777777778,
              "#fb9f3a"
             ],
             [
              0.8888888888888888,
              "#fdca26"
             ],
             [
              1,
              "#f0f921"
             ]
            ],
            "type": "heatmap"
           }
          ],
          "heatmapgl": [
           {
            "colorbar": {
             "outlinewidth": 0,
             "ticks": ""
            },
            "colorscale": [
             [
              0,
              "#0d0887"
             ],
             [
              0.1111111111111111,
              "#46039f"
             ],
             [
              0.2222222222222222,
              "#7201a8"
             ],
             [
              0.3333333333333333,
              "#9c179e"
             ],
             [
              0.4444444444444444,
              "#bd3786"
             ],
             [
              0.5555555555555556,
              "#d8576b"
             ],
             [
              0.6666666666666666,
              "#ed7953"
             ],
             [
              0.7777777777777778,
              "#fb9f3a"
             ],
             [
              0.8888888888888888,
              "#fdca26"
             ],
             [
              1,
              "#f0f921"
             ]
            ],
            "type": "heatmapgl"
           }
          ],
          "histogram": [
           {
            "marker": {
             "colorbar": {
              "outlinewidth": 0,
              "ticks": ""
             }
            },
            "type": "histogram"
           }
          ],
          "histogram2d": [
           {
            "colorbar": {
             "outlinewidth": 0,
             "ticks": ""
            },
            "colorscale": [
             [
              0,
              "#0d0887"
             ],
             [
              0.1111111111111111,
              "#46039f"
             ],
             [
              0.2222222222222222,
              "#7201a8"
             ],
             [
              0.3333333333333333,
              "#9c179e"
             ],
             [
              0.4444444444444444,
              "#bd3786"
             ],
             [
              0.5555555555555556,
              "#d8576b"
             ],
             [
              0.6666666666666666,
              "#ed7953"
             ],
             [
              0.7777777777777778,
              "#fb9f3a"
             ],
             [
              0.8888888888888888,
              "#fdca26"
             ],
             [
              1,
              "#f0f921"
             ]
            ],
            "type": "histogram2d"
           }
          ],
          "histogram2dcontour": [
           {
            "colorbar": {
             "outlinewidth": 0,
             "ticks": ""
            },
            "colorscale": [
             [
              0,
              "#0d0887"
             ],
             [
              0.1111111111111111,
              "#46039f"
             ],
             [
              0.2222222222222222,
              "#7201a8"
             ],
             [
              0.3333333333333333,
              "#9c179e"
             ],
             [
              0.4444444444444444,
              "#bd3786"
             ],
             [
              0.5555555555555556,
              "#d8576b"
             ],
             [
              0.6666666666666666,
              "#ed7953"
             ],
             [
              0.7777777777777778,
              "#fb9f3a"
             ],
             [
              0.8888888888888888,
              "#fdca26"
             ],
             [
              1,
              "#f0f921"
             ]
            ],
            "type": "histogram2dcontour"
           }
          ],
          "mesh3d": [
           {
            "colorbar": {
             "outlinewidth": 0,
             "ticks": ""
            },
            "type": "mesh3d"
           }
          ],
          "parcoords": [
           {
            "line": {
             "colorbar": {
              "outlinewidth": 0,
              "ticks": ""
             }
            },
            "type": "parcoords"
           }
          ],
          "pie": [
           {
            "automargin": true,
            "type": "pie"
           }
          ],
          "scatter": [
           {
            "marker": {
             "colorbar": {
              "outlinewidth": 0,
              "ticks": ""
             }
            },
            "type": "scatter"
           }
          ],
          "scatter3d": [
           {
            "line": {
             "colorbar": {
              "outlinewidth": 0,
              "ticks": ""
             }
            },
            "marker": {
             "colorbar": {
              "outlinewidth": 0,
              "ticks": ""
             }
            },
            "type": "scatter3d"
           }
          ],
          "scattercarpet": [
           {
            "marker": {
             "colorbar": {
              "outlinewidth": 0,
              "ticks": ""
             }
            },
            "type": "scattercarpet"
           }
          ],
          "scattergeo": [
           {
            "marker": {
             "colorbar": {
              "outlinewidth": 0,
              "ticks": ""
             }
            },
            "type": "scattergeo"
           }
          ],
          "scattergl": [
           {
            "marker": {
             "colorbar": {
              "outlinewidth": 0,
              "ticks": ""
             }
            },
            "type": "scattergl"
           }
          ],
          "scattermapbox": [
           {
            "marker": {
             "colorbar": {
              "outlinewidth": 0,
              "ticks": ""
             }
            },
            "type": "scattermapbox"
           }
          ],
          "scatterpolar": [
           {
            "marker": {
             "colorbar": {
              "outlinewidth": 0,
              "ticks": ""
             }
            },
            "type": "scatterpolar"
           }
          ],
          "scatterpolargl": [
           {
            "marker": {
             "colorbar": {
              "outlinewidth": 0,
              "ticks": ""
             }
            },
            "type": "scatterpolargl"
           }
          ],
          "scatterternary": [
           {
            "marker": {
             "colorbar": {
              "outlinewidth": 0,
              "ticks": ""
             }
            },
            "type": "scatterternary"
           }
          ],
          "surface": [
           {
            "colorbar": {
             "outlinewidth": 0,
             "ticks": ""
            },
            "colorscale": [
             [
              0,
              "#0d0887"
             ],
             [
              0.1111111111111111,
              "#46039f"
             ],
             [
              0.2222222222222222,
              "#7201a8"
             ],
             [
              0.3333333333333333,
              "#9c179e"
             ],
             [
              0.4444444444444444,
              "#bd3786"
             ],
             [
              0.5555555555555556,
              "#d8576b"
             ],
             [
              0.6666666666666666,
              "#ed7953"
             ],
             [
              0.7777777777777778,
              "#fb9f3a"
             ],
             [
              0.8888888888888888,
              "#fdca26"
             ],
             [
              1,
              "#f0f921"
             ]
            ],
            "type": "surface"
           }
          ],
          "table": [
           {
            "cells": {
             "fill": {
              "color": "#EBF0F8"
             },
             "line": {
              "color": "white"
             }
            },
            "header": {
             "fill": {
              "color": "#C8D4E3"
             },
             "line": {
              "color": "white"
             }
            },
            "type": "table"
           }
          ]
         },
         "layout": {
          "annotationdefaults": {
           "arrowcolor": "#2a3f5f",
           "arrowhead": 0,
           "arrowwidth": 1
          },
          "autotypenumbers": "strict",
          "coloraxis": {
           "colorbar": {
            "outlinewidth": 0,
            "ticks": ""
           }
          },
          "colorscale": {
           "diverging": [
            [
             0,
             "#8e0152"
            ],
            [
             0.1,
             "#c51b7d"
            ],
            [
             0.2,
             "#de77ae"
            ],
            [
             0.3,
             "#f1b6da"
            ],
            [
             0.4,
             "#fde0ef"
            ],
            [
             0.5,
             "#f7f7f7"
            ],
            [
             0.6,
             "#e6f5d0"
            ],
            [
             0.7,
             "#b8e186"
            ],
            [
             0.8,
             "#7fbc41"
            ],
            [
             0.9,
             "#4d9221"
            ],
            [
             1,
             "#276419"
            ]
           ],
           "sequential": [
            [
             0,
             "#0d0887"
            ],
            [
             0.1111111111111111,
             "#46039f"
            ],
            [
             0.2222222222222222,
             "#7201a8"
            ],
            [
             0.3333333333333333,
             "#9c179e"
            ],
            [
             0.4444444444444444,
             "#bd3786"
            ],
            [
             0.5555555555555556,
             "#d8576b"
            ],
            [
             0.6666666666666666,
             "#ed7953"
            ],
            [
             0.7777777777777778,
             "#fb9f3a"
            ],
            [
             0.8888888888888888,
             "#fdca26"
            ],
            [
             1,
             "#f0f921"
            ]
           ],
           "sequentialminus": [
            [
             0,
             "#0d0887"
            ],
            [
             0.1111111111111111,
             "#46039f"
            ],
            [
             0.2222222222222222,
             "#7201a8"
            ],
            [
             0.3333333333333333,
             "#9c179e"
            ],
            [
             0.4444444444444444,
             "#bd3786"
            ],
            [
             0.5555555555555556,
             "#d8576b"
            ],
            [
             0.6666666666666666,
             "#ed7953"
            ],
            [
             0.7777777777777778,
             "#fb9f3a"
            ],
            [
             0.8888888888888888,
             "#fdca26"
            ],
            [
             1,
             "#f0f921"
            ]
           ]
          },
          "colorway": [
           "#636efa",
           "#EF553B",
           "#00cc96",
           "#ab63fa",
           "#FFA15A",
           "#19d3f3",
           "#FF6692",
           "#B6E880",
           "#FF97FF",
           "#FECB52"
          ],
          "font": {
           "color": "#2a3f5f"
          },
          "geo": {
           "bgcolor": "white",
           "lakecolor": "white",
           "landcolor": "#E5ECF6",
           "showlakes": true,
           "showland": true,
           "subunitcolor": "white"
          },
          "hoverlabel": {
           "align": "left"
          },
          "hovermode": "closest",
          "mapbox": {
           "style": "light"
          },
          "paper_bgcolor": "white",
          "plot_bgcolor": "#E5ECF6",
          "polar": {
           "angularaxis": {
            "gridcolor": "white",
            "linecolor": "white",
            "ticks": ""
           },
           "bgcolor": "#E5ECF6",
           "radialaxis": {
            "gridcolor": "white",
            "linecolor": "white",
            "ticks": ""
           }
          },
          "scene": {
           "xaxis": {
            "backgroundcolor": "#E5ECF6",
            "gridcolor": "white",
            "gridwidth": 2,
            "linecolor": "white",
            "showbackground": true,
            "ticks": "",
            "zerolinecolor": "white"
           },
           "yaxis": {
            "backgroundcolor": "#E5ECF6",
            "gridcolor": "white",
            "gridwidth": 2,
            "linecolor": "white",
            "showbackground": true,
            "ticks": "",
            "zerolinecolor": "white"
           },
           "zaxis": {
            "backgroundcolor": "#E5ECF6",
            "gridcolor": "white",
            "gridwidth": 2,
            "linecolor": "white",
            "showbackground": true,
            "ticks": "",
            "zerolinecolor": "white"
           }
          },
          "shapedefaults": {
           "line": {
            "color": "#2a3f5f"
           }
          },
          "ternary": {
           "aaxis": {
            "gridcolor": "white",
            "linecolor": "white",
            "ticks": ""
           },
           "baxis": {
            "gridcolor": "white",
            "linecolor": "white",
            "ticks": ""
           },
           "bgcolor": "#E5ECF6",
           "caxis": {
            "gridcolor": "white",
            "linecolor": "white",
            "ticks": ""
           }
          },
          "title": {
           "x": 0.05
          },
          "xaxis": {
           "automargin": true,
           "gridcolor": "white",
           "linecolor": "white",
           "ticks": "",
           "title": {
            "standoff": 15
           },
           "zerolinecolor": "white",
           "zerolinewidth": 2
          },
          "yaxis": {
           "automargin": true,
           "gridcolor": "white",
           "linecolor": "white",
           "ticks": "",
           "title": {
            "standoff": 15
           },
           "zerolinecolor": "white",
           "zerolinewidth": 2
          }
         }
        },
        "title": {
         "text": "House"
        },
        "width": 500
       }
      }
     },
     "metadata": {}
    }
   ],
   "source": [
    "z_data = chm_gdp\n",
    "z = z_data.values\n",
    "sh_0, sh_1 = z.shape\n",
    "x, y = np.linspace(0, 1, sh_0), np.linspace(0, 1, sh_1)\n",
    "fig = go.Figure(data=[go.Surface(z=z, x=x, y=y)])\n",
    "fig.update_layout(title='House', autosize=False,\n",
    "                  width=500, height=500,\n",
    "                  margin=dict(l=65, r=50, b=65, t=90))\n",
    "fig.show()"
   ]
  },
  {
   "cell_type": "code",
   "execution_count": 83,
   "metadata": {},
   "outputs": [
    {
     "output_type": "stream",
     "name": "stdout",
     "text": [
      "Altitude: 32.2247314453125 m\nCoordinates: 152120.51700472087 , 212541.82696551457\n"
     ]
    }
   ],
   "source": [
    "print('Altitude:',np.amax(z),'m')\n",
    "print('Coordinates:',x,',',y)"
   ]
  },
  {
   "cell_type": "code",
   "execution_count": 87,
   "metadata": {},
   "outputs": [],
   "source": [
    "#trying wms geopunt\n",
    "from owslib.wms import WebMapService\n"
   ]
  },
  {
   "cell_type": "code",
   "execution_count": 91,
   "metadata": {},
   "outputs": [],
   "source": [
    "wms = WebMapService('https://geoservices.informatievlaanderen.be/raadpleegdiensten/DHMV/wms?service=WMS&request=getcapabilities')"
   ]
  },
  {
   "cell_type": "code",
   "execution_count": 92,
   "metadata": {},
   "outputs": [
    {
     "output_type": "execute_result",
     "data": {
      "text/plain": [
       "['DHMV',\n",
       " 'DHMVII',\n",
       " 'DHMVII_vdc',\n",
       " 'DHMVII_DSM_1m',\n",
       " 'DHMVII_DTM_1m',\n",
       " 'DHMV_II_HILL_25cm',\n",
       " 'DHMV_II_SVF_25cm',\n",
       " 'DHMVI',\n",
       " 'DHMVI_vdc',\n",
       " 'DHMVI_DTM_5m']"
      ]
     },
     "metadata": {},
     "execution_count": 92
    }
   ],
   "source": [
    "list(wms.contents)"
   ]
  },
  {
   "cell_type": "code",
   "execution_count": 93,
   "metadata": {},
   "outputs": [
    {
     "output_type": "execute_result",
     "data": {
      "text/plain": [
       "'Digitaal Hoogtemodel Vlaanderen II, digitaal oppervlaktemodel 1m'"
      ]
     },
     "metadata": {},
     "execution_count": 93
    }
   ],
   "source": [
    "wms['DHMVII_DSM_1m'].title"
   ]
  },
  {
   "cell_type": "code",
   "execution_count": 95,
   "metadata": {},
   "outputs": [
    {
     "output_type": "execute_result",
     "data": {
      "text/plain": [
       "(2.52, 50.64, 5.94, 51.51, 'EPSG:4258')"
      ]
     },
     "metadata": {},
     "execution_count": 95
    }
   ],
   "source": [
    "wms['DHMVII_DSM_1m'].boundingBox"
   ]
  },
  {
   "cell_type": "code",
   "execution_count": 96,
   "metadata": {},
   "outputs": [
    {
     "output_type": "execute_result",
     "data": {
      "text/plain": [
       "{'default': {'title': 'DHMVII_DSM_1m',\n",
       "  'legend': 'https://geoservices.informatievlaanderen.be/raadpleegdiensten/DHMV/wms?request=GetLegendGraphic%26version=1.3.0%26format=image/png%26layer=DHMVII_DSM_1m'}}"
      ]
     },
     "metadata": {},
     "execution_count": 96
    }
   ],
   "source": [
    "wms['DHMVII_DSM_1m'].styles"
   ]
  },
  {
   "cell_type": "code",
   "execution_count": 97,
   "metadata": {},
   "outputs": [
    {
     "output_type": "execute_result",
     "data": {
      "text/plain": [
       "['GetCapabilities', 'GetMap', 'GetFeatureInfo', 'GetStyles']"
      ]
     },
     "metadata": {},
     "execution_count": 97
    }
   ],
   "source": [
    "[op.name for op in wms.operations]"
   ]
  },
  {
   "cell_type": "code",
   "execution_count": null,
   "metadata": {},
   "outputs": [],
   "source": []
  }
 ],
 "metadata": {
  "kernelspec": {
   "display_name": "Python 3",
   "language": "python",
   "name": "python3"
  },
  "language_info": {
   "codemirror_mode": {
    "name": "ipython",
    "version": 3
   },
   "file_extension": ".py",
   "mimetype": "text/x-python",
   "name": "python",
   "nbconvert_exporter": "python",
   "pygments_lexer": "ipython3",
   "version": "3.8.6-final"
  }
 },
 "nbformat": 4,
 "nbformat_minor": 4
}