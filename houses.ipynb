{
 "cells": [
  {
   "cell_type": "code",
   "execution_count": 61,
   "metadata": {},
   "outputs": [],
   "source": [
    "import requests\n",
    "import json\n",
    "import rasterio as rio\n",
    "import rioxarray as rxr\n",
    "import pandas as pd\n",
    "\n",
    "import matplotlib.pyplot as plt\n",
    "import earthpy.plot as ep\n",
    "from mpl_toolkits.mplot3d import Axes3D\n",
    "import seaborn as sns\n",
    "\n",
    "\n",
    "import plotly.graph_objects as go\n",
    "\n",
    "import numpy as np\n",
    "import zipfile\n"
   ]
  },
  {
   "cell_type": "code",
   "execution_count": 62,
   "metadata": {},
   "outputs": [],
   "source": [
    "street='Zeedijk'\n",
    "number='451'\n",
    "post='8670'"
   ]
  },
  {
   "cell_type": "code",
   "execution_count": 63,
   "metadata": {},
   "outputs": [],
   "source": [
    "polygone=[]"
   ]
  },
  {
   "cell_type": "code",
   "execution_count": 64,
   "metadata": {},
   "outputs": [],
   "source": [
    "def house_info(street, number, post):\n",
    "    a=requests.get('https://api.basisregisters.dev-vlaanderen.be/v1/adressen?'+'straatnaam='+street+'&huisnummer='+number+'&postcode='+post+'&limit=1')\n",
    "    b=a.json()\n",
    "    id1= b['adressen'][0]['identificator']['objectId']\n",
    "    print('Address found: Id1 is',id1)\n",
    "    c=requests.get('https://api.basisregisters.vlaanderen.be/v1/gebouweenheden?adresObjectId='+id1)\n",
    "    d=c.json()\n",
    "    id2= d['gebouweenheden'][0]['identificator']['objectId']\n",
    "    print('Building units found: Id2 is',id2)\n",
    "    e=requests.get('https://api.basisregisters.vlaanderen.be/v1/gebouweenheden/'+id2)\n",
    "    f=e.json()\n",
    "    id3= f['gebouw']['objectId']\n",
    "    print('Building found: Id3 is',id3)\n",
    "    g=requests.get('https://api.basisregisters.vlaanderen.be/v1/gebouwen/'+id3)\n",
    "    h=g.json()\n",
    "    poly=h['geometriePolygoon']['polygon']['coordinates'][0]\n",
    "    polygone.append(poly)"
   ]
  },
  {
   "cell_type": "code",
   "execution_count": 65,
   "metadata": {},
   "outputs": [
    {
     "output_type": "stream",
     "name": "stdout",
     "text": [
      "Address found: Id1 is 1945410\n",
      "Building units found: Id2 is 15857401\n",
      "Building found: Id3 is 15856569\n"
     ]
    }
   ],
   "source": [
    "house_info(street, number, post)"
   ]
  },
  {
   "cell_type": "code",
   "execution_count": 66,
   "metadata": {},
   "outputs": [],
   "source": [
    "x=polygone[0][0][0]\n",
    "y=polygone[0][0][1]\n"
   ]
  },
  {
   "cell_type": "code",
   "execution_count": 67,
   "metadata": {},
   "outputs": [],
   "source": [
    "dtm_df= pd.read_csv('dtm_info.csv')\n",
    "dtm_df.set_index('file', inplace=True)"
   ]
  },
  {
   "cell_type": "code",
   "execution_count": 68,
   "metadata": {},
   "outputs": [],
   "source": [
    "dsm_df= pd.read_csv('dsm_info.csv')\n",
    "dsm_df.set_index('file', inplace=True)"
   ]
  },
  {
   "cell_type": "code",
   "execution_count": 69,
   "metadata": {},
   "outputs": [],
   "source": [
    "file_dsm_selected = dsm_df.loc[\n",
    "    (x < dsm_df.xmax) & (x > dsm_df.xmin) & (y < dsm_df.ymax) & (y > dsm_df.ymin)\n",
    "]\n",
    "\n",
    "dsm_selected = file_dsm_selected.index.format()[0]\n"
   ]
  },
  {
   "cell_type": "code",
   "execution_count": 70,
   "metadata": {},
   "outputs": [],
   "source": [
    "file_dtm_selected = dtm_df.loc[\n",
    "    (x < dtm_df.xmax) & (x > dtm_df.xmin) & (y < dtm_df.ymax) & (y > dtm_df.ymin)\n",
    "]\n",
    "dtm_selected = file_dtm_selected.index.format()[0]"
   ]
  },
  {
   "cell_type": "code",
   "execution_count": 71,
   "metadata": {},
   "outputs": [],
   "source": [
    "post_link_dtm= dtm_selected.split('.')[0]+'.zip'\n",
    "post_link_dsm= dsm_selected.split('.')[0]+'.zip'"
   ]
  },
  {
   "cell_type": "code",
   "execution_count": 72,
   "metadata": {},
   "outputs": [],
   "source": [
    "base_url_dtm=\"https://downloadagiv.blob.core.windows.net/dhm-vlaanderen-ii-dtm-raster-1m/\"\n",
    "base_url_dsm=\"https://downloadagiv.blob.core.windows.net/dhm-vlaanderen-ii-dsm-raster-1m/\""
   ]
  },
  {
   "cell_type": "code",
   "execution_count": 73,
   "metadata": {},
   "outputs": [],
   "source": [
    "url_dtm=base_url_dtm+post_link_dtm\n",
    "url_dsm=base_url_dsm+post_link_dsm"
   ]
  },
  {
   "cell_type": "code",
   "execution_count": 74,
   "metadata": {},
   "outputs": [],
   "source": [
    "def download_dtm(url_dtm):\n",
    "    filename=url_dtm.split('/')[-1]\n",
    "    r=requests.get(url_dtm, stream=True)\n",
    "    if r.ok:\n",
    "        with open(filename, 'wb') as file:\n",
    "            for chunk in r.iter_content(1024*100):\n",
    "                file.write(chunk)\n",
    "    else:\n",
    "        print('error')"
   ]
  },
  {
   "cell_type": "code",
   "execution_count": 75,
   "metadata": {},
   "outputs": [],
   "source": [
    "def download_dsm(url_dsm):\n",
    "    filename=url_dsm.split('/')[-1]\n",
    "    r=requests.get(url_dsm, stream=True)\n",
    "    if r.ok:\n",
    "        with open(filename, 'wb') as file:\n",
    "            for chunk in r.iter_content(1024*100):\n",
    "                file.write(chunk)\n",
    "    else:\n",
    "        print('error')"
   ]
  },
  {
   "cell_type": "code",
   "execution_count": 76,
   "metadata": {},
   "outputs": [],
   "source": [
    "download_dtm(url_dtm)\n",
    "download_dsm(url_dsm)"
   ]
  },
  {
   "cell_type": "code",
   "execution_count": 77,
   "metadata": {},
   "outputs": [],
   "source": [
    "targetdtm=url_dtm.split('/')[-1]\n",
    "targetdsm=url_dsm.split('/')[-1]"
   ]
  },
  {
   "cell_type": "code",
   "execution_count": 78,
   "metadata": {},
   "outputs": [],
   "source": [
    "handledtm = zipfile.ZipFile(targetdtm)\n",
    "handledsm = zipfile.ZipFile(targetdsm)"
   ]
  },
  {
   "cell_type": "code",
   "execution_count": 79,
   "metadata": {},
   "outputs": [
    {
     "output_type": "execute_result",
     "data": {
      "text/plain": [
       "'c:\\\\Users\\\\Daniel\\\\Documents\\\\BeCode_Projects\\\\houses3d\\\\GeoTIFF\\\\DHMVIIDSMRAS1m_k11.tif'"
      ]
     },
     "metadata": {},
     "execution_count": 79
    }
   ],
   "source": [
    "handledtm.extract('GeoTIFF/'+dtm_selected)\n",
    "handledsm.extract('GeoTIFF/'+dsm_selected)"
   ]
  },
  {
   "cell_type": "code",
   "execution_count": 80,
   "metadata": {},
   "outputs": [],
   "source": [
    "geometries = [\n",
    "    {\n",
    "        'type': 'Polygon',\n",
    "        'coordinates': polygone\n",
    "    }\n",
    "]"
   ]
  },
  {
   "cell_type": "code",
   "execution_count": 81,
   "metadata": {},
   "outputs": [],
   "source": [
    "read_dsm = rxr.open_rasterio(\"GeoTIFF/\" + dsm_selected).rio.clip(geometries, from_disk=True)\n",
    "read_dtm = rxr.open_rasterio(\"GeoTIFF/\" + dtm_selected).rio.clip(geometries, from_disk=True)"
   ]
  },
  {
   "cell_type": "code",
   "execution_count": 82,
   "metadata": {},
   "outputs": [],
   "source": [
    "canopy =  read_dsm - read_dtm"
   ]
  },
  {
   "cell_type": "code",
   "execution_count": 83,
   "metadata": {},
   "outputs": [],
   "source": [
    "canopy.rio.to_raster(\"clipped.tif\")"
   ]
  },
  {
   "cell_type": "code",
   "execution_count": 84,
   "metadata": {},
   "outputs": [],
   "source": [
    "with rio.open(\"clipped.tif\") as img:\n",
    "    chm = img.read(1)"
   ]
  },
  {
   "cell_type": "code",
   "execution_count": 85,
   "metadata": {},
   "outputs": [
    {
     "output_type": "display_data",
     "data": {
      "text/plain": "<Figure size 720x432 with 2 Axes>",
      "image/svg+xml": "<?xml version=\"1.0\" encoding=\"utf-8\" standalone=\"no\"?>\r\n<!DOCTYPE svg PUBLIC \"-//W3C//DTD SVG 1.1//EN\"\r\n  \"http://www.w3.org/Graphics/SVG/1.1/DTD/svg11.dtd\">\r\n<!-- Created with matplotlib (https://matplotlib.org/) -->\r\n<svg height=\"361.557031pt\" version=\"1.1\" viewBox=\"0 0 248.593139 361.557031\" width=\"248.593139pt\" xmlns=\"http://www.w3.org/2000/svg\" xmlns:xlink=\"http://www.w3.org/1999/xlink\">\r\n <metadata>\r\n  <rdf:RDF xmlns:cc=\"http://creativecommons.org/ns#\" xmlns:dc=\"http://purl.org/dc/elements/1.1/\" xmlns:rdf=\"http://www.w3.org/1999/02/22-rdf-syntax-ns#\">\r\n   <cc:Work>\r\n    <dc:type rdf:resource=\"http://purl.org/dc/dcmitype/StillImage\"/>\r\n    <dc:date>2021-02-25T13:23:21.844816</dc:date>\r\n    <dc:format>image/svg+xml</dc:format>\r\n    <dc:creator>\r\n     <cc:Agent>\r\n      <dc:title>Matplotlib v3.3.4, https://matplotlib.org/</dc:title>\r\n     </cc:Agent>\r\n    </dc:creator>\r\n   </cc:Work>\r\n  </rdf:RDF>\r\n </metadata>\r\n <defs>\r\n  <style type=\"text/css\">*{stroke-linecap:butt;stroke-linejoin:round;}</style>\r\n </defs>\r\n <g id=\"figure_1\">\r\n  <g id=\"patch_1\">\r\n   <path d=\"M 0 361.557031 \r\nL 248.593139 361.557031 \r\nL 248.593139 0 \r\nL 0 0 \r\nz\r\n\" style=\"fill:none;\"/>\r\n  </g>\r\n  <g id=\"axes_1\">\r\n   <g id=\"patch_2\">\r\n    <path d=\"M 10.7 348.478125 \r\nL 209.232174 348.478125 \r\nL 209.232174 22.318125 \r\nL 10.7 22.318125 \r\nz\r\n\" style=\"fill:#ffffff;\"/>\r\n   </g>\r\n   <g clip-path=\"url(#pb27bd420e3)\">\r\n    <image height=\"327\" id=\"image8411686652\" transform=\"scale(1 -1)translate(0 -327)\" width=\"199\" x=\"11\" xlink:href=\"data:image/png;base64,\r\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\" y=\"-21.557031\"/>\r\n   </g>\r\n   <g id=\"matplotlib.axis_1\"/>\r\n   <g id=\"matplotlib.axis_2\"/>\r\n   <g id=\"patch_3\">\r\n    <path d=\"M 10.7 348.478125 \r\nL 10.7 22.318125 \r\n\" style=\"fill:none;stroke:#000000;stroke-linecap:square;stroke-linejoin:miter;stroke-width:0.8;\"/>\r\n   </g>\r\n   <g id=\"patch_4\">\r\n    <path d=\"M 209.232174 348.478125 \r\nL 209.232174 22.318125 \r\n\" style=\"fill:none;stroke:#000000;stroke-linecap:square;stroke-linejoin:miter;stroke-width:0.8;\"/>\r\n   </g>\r\n   <g id=\"patch_5\">\r\n    <path d=\"M 10.7 348.478125 \r\nL 209.232174 348.478125 \r\n\" style=\"fill:none;stroke:#000000;stroke-linecap:square;stroke-linejoin:miter;stroke-width:0.8;\"/>\r\n   </g>\r\n   <g id=\"patch_6\">\r\n    <path d=\"M 10.7 22.318125 \r\nL 209.232174 22.318125 \r\n\" style=\"fill:none;stroke:#000000;stroke-linecap:square;stroke-linejoin:miter;stroke-width:0.8;\"/>\r\n   </g>\r\n   <g id=\"text_1\">\r\n    <!-- Overlay Hillshade &amp; DSM -->\r\n    <g transform=\"translate(35.013899 16.318125)scale(0.12 -0.12)\">\r\n     <defs>\r\n      <path d=\"M 39.40625 66.21875 \r\nQ 28.65625 66.21875 22.328125 58.203125 \r\nQ 16.015625 50.203125 16.015625 36.375 \r\nQ 16.015625 22.609375 22.328125 14.59375 \r\nQ 28.65625 6.59375 39.40625 6.59375 \r\nQ 50.140625 6.59375 56.421875 14.59375 \r\nQ 62.703125 22.609375 62.703125 36.375 \r\nQ 62.703125 50.203125 56.421875 58.203125 \r\nQ 50.140625 66.21875 39.40625 66.21875 \r\nz\r\nM 39.40625 74.21875 \r\nQ 54.734375 74.21875 63.90625 63.9375 \r\nQ 73.09375 53.65625 73.09375 36.375 \r\nQ 73.09375 19.140625 63.90625 8.859375 \r\nQ 54.734375 -1.421875 39.40625 -1.421875 \r\nQ 24.03125 -1.421875 14.8125 8.828125 \r\nQ 5.609375 19.09375 5.609375 36.375 \r\nQ 5.609375 53.65625 14.8125 63.9375 \r\nQ 24.03125 74.21875 39.40625 74.21875 \r\nz\r\n\" id=\"DejaVuSans-79\"/>\r\n      <path d=\"M 2.984375 54.6875 \r\nL 12.5 54.6875 \r\nL 29.59375 8.796875 \r\nL 46.6875 54.6875 \r\nL 56.203125 54.6875 \r\nL 35.6875 0 \r\nL 23.484375 0 \r\nz\r\n\" id=\"DejaVuSans-118\"/>\r\n      <path d=\"M 56.203125 29.59375 \r\nL 56.203125 25.203125 \r\nL 14.890625 25.203125 \r\nQ 15.484375 15.921875 20.484375 11.0625 \r\nQ 25.484375 6.203125 34.421875 6.203125 \r\nQ 39.59375 6.203125 44.453125 7.46875 \r\nQ 49.3125 8.734375 54.109375 11.28125 \r\nL 54.109375 2.78125 \r\nQ 49.265625 0.734375 44.1875 -0.34375 \r\nQ 39.109375 -1.421875 33.890625 -1.421875 \r\nQ 20.796875 -1.421875 13.15625 6.1875 \r\nQ 5.515625 13.8125 5.515625 26.8125 \r\nQ 5.515625 40.234375 12.765625 48.109375 \r\nQ 20.015625 56 32.328125 56 \r\nQ 43.359375 56 49.78125 48.890625 \r\nQ 56.203125 41.796875 56.203125 29.59375 \r\nz\r\nM 47.21875 32.234375 \r\nQ 47.125 39.59375 43.09375 43.984375 \r\nQ 39.0625 48.390625 32.421875 48.390625 \r\nQ 24.90625 48.390625 20.390625 44.140625 \r\nQ 15.875 39.890625 15.1875 32.171875 \r\nz\r\n\" id=\"DejaVuSans-101\"/>\r\n      <path d=\"M 41.109375 46.296875 \r\nQ 39.59375 47.171875 37.8125 47.578125 \r\nQ 36.03125 48 33.890625 48 \r\nQ 26.265625 48 22.1875 43.046875 \r\nQ 18.109375 38.09375 18.109375 28.8125 \r\nL 18.109375 0 \r\nL 9.078125 0 \r\nL 9.078125 54.6875 \r\nL 18.109375 54.6875 \r\nL 18.109375 46.1875 \r\nQ 20.953125 51.171875 25.484375 53.578125 \r\nQ 30.03125 56 36.53125 56 \r\nQ 37.453125 56 38.578125 55.875 \r\nQ 39.703125 55.765625 41.0625 55.515625 \r\nz\r\n\" id=\"DejaVuSans-114\"/>\r\n      <path d=\"M 9.421875 75.984375 \r\nL 18.40625 75.984375 \r\nL 18.40625 0 \r\nL 9.421875 0 \r\nz\r\n\" id=\"DejaVuSans-108\"/>\r\n      <path d=\"M 34.28125 27.484375 \r\nQ 23.390625 27.484375 19.1875 25 \r\nQ 14.984375 22.515625 14.984375 16.5 \r\nQ 14.984375 11.71875 18.140625 8.90625 \r\nQ 21.296875 6.109375 26.703125 6.109375 \r\nQ 34.1875 6.109375 38.703125 11.40625 \r\nQ 43.21875 16.703125 43.21875 25.484375 \r\nL 43.21875 27.484375 \r\nz\r\nM 52.203125 31.203125 \r\nL 52.203125 0 \r\nL 43.21875 0 \r\nL 43.21875 8.296875 \r\nQ 40.140625 3.328125 35.546875 0.953125 \r\nQ 30.953125 -1.421875 24.3125 -1.421875 \r\nQ 15.921875 -1.421875 10.953125 3.296875 \r\nQ 6 8.015625 6 15.921875 \r\nQ 6 25.140625 12.171875 29.828125 \r\nQ 18.359375 34.515625 30.609375 34.515625 \r\nL 43.21875 34.515625 \r\nL 43.21875 35.40625 \r\nQ 43.21875 41.609375 39.140625 45 \r\nQ 35.0625 48.390625 27.6875 48.390625 \r\nQ 23 48.390625 18.546875 47.265625 \r\nQ 14.109375 46.140625 10.015625 43.890625 \r\nL 10.015625 52.203125 \r\nQ 14.9375 54.109375 19.578125 55.046875 \r\nQ 24.21875 56 28.609375 56 \r\nQ 40.484375 56 46.34375 49.84375 \r\nQ 52.203125 43.703125 52.203125 31.203125 \r\nz\r\n\" id=\"DejaVuSans-97\"/>\r\n      <path d=\"M 32.171875 -5.078125 \r\nQ 28.375 -14.84375 24.75 -17.8125 \r\nQ 21.140625 -20.796875 15.09375 -20.796875 \r\nL 7.90625 -20.796875 \r\nL 7.90625 -13.28125 \r\nL 13.1875 -13.28125 \r\nQ 16.890625 -13.28125 18.9375 -11.515625 \r\nQ 21 -9.765625 23.484375 -3.21875 \r\nL 25.09375 0.875 \r\nL 2.984375 54.6875 \r\nL 12.5 54.6875 \r\nL 29.59375 11.921875 \r\nL 46.6875 54.6875 \r\nL 56.203125 54.6875 \r\nz\r\n\" id=\"DejaVuSans-121\"/>\r\n      <path id=\"DejaVuSans-32\"/>\r\n      <path d=\"M 9.8125 72.90625 \r\nL 19.671875 72.90625 \r\nL 19.671875 43.015625 \r\nL 55.515625 43.015625 \r\nL 55.515625 72.90625 \r\nL 65.375 72.90625 \r\nL 65.375 0 \r\nL 55.515625 0 \r\nL 55.515625 34.71875 \r\nL 19.671875 34.71875 \r\nL 19.671875 0 \r\nL 9.8125 0 \r\nz\r\n\" id=\"DejaVuSans-72\"/>\r\n      <path d=\"M 9.421875 54.6875 \r\nL 18.40625 54.6875 \r\nL 18.40625 0 \r\nL 9.421875 0 \r\nz\r\nM 9.421875 75.984375 \r\nL 18.40625 75.984375 \r\nL 18.40625 64.59375 \r\nL 9.421875 64.59375 \r\nz\r\n\" id=\"DejaVuSans-105\"/>\r\n      <path d=\"M 44.28125 53.078125 \r\nL 44.28125 44.578125 \r\nQ 40.484375 46.53125 36.375 47.5 \r\nQ 32.28125 48.484375 27.875 48.484375 \r\nQ 21.1875 48.484375 17.84375 46.4375 \r\nQ 14.5 44.390625 14.5 40.28125 \r\nQ 14.5 37.15625 16.890625 35.375 \r\nQ 19.28125 33.59375 26.515625 31.984375 \r\nL 29.59375 31.296875 \r\nQ 39.15625 29.25 43.1875 25.515625 \r\nQ 47.21875 21.78125 47.21875 15.09375 \r\nQ 47.21875 7.46875 41.1875 3.015625 \r\nQ 35.15625 -1.421875 24.609375 -1.421875 \r\nQ 20.21875 -1.421875 15.453125 -0.5625 \r\nQ 10.6875 0.296875 5.421875 2 \r\nL 5.421875 11.28125 \r\nQ 10.40625 8.6875 15.234375 7.390625 \r\nQ 20.0625 6.109375 24.8125 6.109375 \r\nQ 31.15625 6.109375 34.5625 8.28125 \r\nQ 37.984375 10.453125 37.984375 14.40625 \r\nQ 37.984375 18.0625 35.515625 20.015625 \r\nQ 33.0625 21.96875 24.703125 23.78125 \r\nL 21.578125 24.515625 \r\nQ 13.234375 26.265625 9.515625 29.90625 \r\nQ 5.8125 33.546875 5.8125 39.890625 \r\nQ 5.8125 47.609375 11.28125 51.796875 \r\nQ 16.75 56 26.8125 56 \r\nQ 31.78125 56 36.171875 55.265625 \r\nQ 40.578125 54.546875 44.28125 53.078125 \r\nz\r\n\" id=\"DejaVuSans-115\"/>\r\n      <path d=\"M 54.890625 33.015625 \r\nL 54.890625 0 \r\nL 45.90625 0 \r\nL 45.90625 32.71875 \r\nQ 45.90625 40.484375 42.875 44.328125 \r\nQ 39.84375 48.1875 33.796875 48.1875 \r\nQ 26.515625 48.1875 22.3125 43.546875 \r\nQ 18.109375 38.921875 18.109375 30.90625 \r\nL 18.109375 0 \r\nL 9.078125 0 \r\nL 9.078125 75.984375 \r\nL 18.109375 75.984375 \r\nL 18.109375 46.1875 \r\nQ 21.34375 51.125 25.703125 53.5625 \r\nQ 30.078125 56 35.796875 56 \r\nQ 45.21875 56 50.046875 50.171875 \r\nQ 54.890625 44.34375 54.890625 33.015625 \r\nz\r\n\" id=\"DejaVuSans-104\"/>\r\n      <path d=\"M 45.40625 46.390625 \r\nL 45.40625 75.984375 \r\nL 54.390625 75.984375 \r\nL 54.390625 0 \r\nL 45.40625 0 \r\nL 45.40625 8.203125 \r\nQ 42.578125 3.328125 38.25 0.953125 \r\nQ 33.9375 -1.421875 27.875 -1.421875 \r\nQ 17.96875 -1.421875 11.734375 6.484375 \r\nQ 5.515625 14.40625 5.515625 27.296875 \r\nQ 5.515625 40.1875 11.734375 48.09375 \r\nQ 17.96875 56 27.875 56 \r\nQ 33.9375 56 38.25 53.625 \r\nQ 42.578125 51.265625 45.40625 46.390625 \r\nz\r\nM 14.796875 27.296875 \r\nQ 14.796875 17.390625 18.875 11.75 \r\nQ 22.953125 6.109375 30.078125 6.109375 \r\nQ 37.203125 6.109375 41.296875 11.75 \r\nQ 45.40625 17.390625 45.40625 27.296875 \r\nQ 45.40625 37.203125 41.296875 42.84375 \r\nQ 37.203125 48.484375 30.078125 48.484375 \r\nQ 22.953125 48.484375 18.875 42.84375 \r\nQ 14.796875 37.203125 14.796875 27.296875 \r\nz\r\n\" id=\"DejaVuSans-100\"/>\r\n      <path d=\"M 24.3125 39.203125 \r\nQ 19.875 35.25 17.796875 31.3125 \r\nQ 15.71875 27.390625 15.71875 23.09375 \r\nQ 15.71875 15.96875 20.890625 11.234375 \r\nQ 26.078125 6.5 33.890625 6.5 \r\nQ 38.53125 6.5 42.578125 8.03125 \r\nQ 46.625 9.578125 50.203125 12.703125 \r\nz\r\nM 31.203125 44.671875 \r\nL 56 19.28125 \r\nQ 58.890625 23.640625 60.5 28.59375 \r\nQ 62.109375 33.546875 62.40625 39.109375 \r\nL 71.484375 39.109375 \r\nQ 70.90625 32.671875 68.359375 26.359375 \r\nQ 65.828125 20.0625 61.28125 13.921875 \r\nL 74.90625 0 \r\nL 62.59375 0 \r\nL 55.609375 7.171875 \r\nQ 50.53125 2.828125 44.96875 0.703125 \r\nQ 39.40625 -1.421875 33.015625 -1.421875 \r\nQ 21.234375 -1.421875 13.765625 5.296875 \r\nQ 6.296875 12.015625 6.296875 22.515625 \r\nQ 6.296875 28.765625 9.5625 34.25 \r\nQ 12.84375 39.75 19.390625 44.578125 \r\nQ 17.046875 47.65625 15.8125 50.703125 \r\nQ 14.59375 53.765625 14.59375 56.6875 \r\nQ 14.59375 64.59375 20.015625 69.40625 \r\nQ 25.4375 74.21875 34.421875 74.21875 \r\nQ 38.484375 74.21875 42.5 73.34375 \r\nQ 46.53125 72.46875 50.6875 70.703125 \r\nL 50.6875 61.8125 \r\nQ 46.4375 64.109375 42.578125 65.296875 \r\nQ 38.71875 66.5 35.40625 66.5 \r\nQ 30.28125 66.5 27.078125 63.78125 \r\nQ 23.875 61.078125 23.875 56.78125 \r\nQ 23.875 54.296875 25.3125 51.78125 \r\nQ 26.765625 49.265625 31.203125 44.671875 \r\nz\r\n\" id=\"DejaVuSans-38\"/>\r\n      <path d=\"M 19.671875 64.796875 \r\nL 19.671875 8.109375 \r\nL 31.59375 8.109375 \r\nQ 46.6875 8.109375 53.6875 14.9375 \r\nQ 60.6875 21.78125 60.6875 36.53125 \r\nQ 60.6875 51.171875 53.6875 57.984375 \r\nQ 46.6875 64.796875 31.59375 64.796875 \r\nz\r\nM 9.8125 72.90625 \r\nL 30.078125 72.90625 \r\nQ 51.265625 72.90625 61.171875 64.09375 \r\nQ 71.09375 55.28125 71.09375 36.53125 \r\nQ 71.09375 17.671875 61.125 8.828125 \r\nQ 51.171875 0 30.078125 0 \r\nL 9.8125 0 \r\nz\r\n\" id=\"DejaVuSans-68\"/>\r\n      <path d=\"M 53.515625 70.515625 \r\nL 53.515625 60.890625 \r\nQ 47.90625 63.578125 42.921875 64.890625 \r\nQ 37.9375 66.21875 33.296875 66.21875 \r\nQ 25.25 66.21875 20.875 63.09375 \r\nQ 16.5 59.96875 16.5 54.203125 \r\nQ 16.5 49.359375 19.40625 46.890625 \r\nQ 22.3125 44.4375 30.421875 42.921875 \r\nL 36.375 41.703125 \r\nQ 47.40625 39.59375 52.65625 34.296875 \r\nQ 57.90625 29 57.90625 20.125 \r\nQ 57.90625 9.515625 50.796875 4.046875 \r\nQ 43.703125 -1.421875 29.984375 -1.421875 \r\nQ 24.8125 -1.421875 18.96875 -0.25 \r\nQ 13.140625 0.921875 6.890625 3.21875 \r\nL 6.890625 13.375 \r\nQ 12.890625 10.015625 18.65625 8.296875 \r\nQ 24.421875 6.59375 29.984375 6.59375 \r\nQ 38.421875 6.59375 43.015625 9.90625 \r\nQ 47.609375 13.234375 47.609375 19.390625 \r\nQ 47.609375 24.75 44.3125 27.78125 \r\nQ 41.015625 30.8125 33.5 32.328125 \r\nL 27.484375 33.5 \r\nQ 16.453125 35.6875 11.515625 40.375 \r\nQ 6.59375 45.0625 6.59375 53.421875 \r\nQ 6.59375 63.09375 13.40625 68.65625 \r\nQ 20.21875 74.21875 32.171875 74.21875 \r\nQ 37.3125 74.21875 42.625 73.28125 \r\nQ 47.953125 72.359375 53.515625 70.515625 \r\nz\r\n\" id=\"DejaVuSans-83\"/>\r\n      <path d=\"M 9.8125 72.90625 \r\nL 24.515625 72.90625 \r\nL 43.109375 23.296875 \r\nL 61.8125 72.90625 \r\nL 76.515625 72.90625 \r\nL 76.515625 0 \r\nL 66.890625 0 \r\nL 66.890625 64.015625 \r\nL 48.09375 14.015625 \r\nL 38.1875 14.015625 \r\nL 19.390625 64.015625 \r\nL 19.390625 0 \r\nL 9.8125 0 \r\nz\r\n\" id=\"DejaVuSans-77\"/>\r\n     </defs>\r\n     <use xlink:href=\"#DejaVuSans-79\"/>\r\n     <use x=\"78.710938\" xlink:href=\"#DejaVuSans-118\"/>\r\n     <use x=\"137.890625\" xlink:href=\"#DejaVuSans-101\"/>\r\n     <use x=\"199.414062\" xlink:href=\"#DejaVuSans-114\"/>\r\n     <use x=\"240.527344\" xlink:href=\"#DejaVuSans-108\"/>\r\n     <use x=\"268.310547\" xlink:href=\"#DejaVuSans-97\"/>\r\n     <use x=\"329.589844\" xlink:href=\"#DejaVuSans-121\"/>\r\n     <use x=\"388.769531\" xlink:href=\"#DejaVuSans-32\"/>\r\n     <use x=\"420.556641\" xlink:href=\"#DejaVuSans-72\"/>\r\n     <use x=\"495.751953\" xlink:href=\"#DejaVuSans-105\"/>\r\n     <use x=\"523.535156\" xlink:href=\"#DejaVuSans-108\"/>\r\n     <use x=\"551.318359\" xlink:href=\"#DejaVuSans-108\"/>\r\n     <use x=\"579.101562\" xlink:href=\"#DejaVuSans-115\"/>\r\n     <use x=\"631.201172\" xlink:href=\"#DejaVuSans-104\"/>\r\n     <use x=\"694.580078\" xlink:href=\"#DejaVuSans-97\"/>\r\n     <use x=\"755.859375\" xlink:href=\"#DejaVuSans-100\"/>\r\n     <use x=\"819.335938\" xlink:href=\"#DejaVuSans-101\"/>\r\n     <use x=\"880.859375\" xlink:href=\"#DejaVuSans-32\"/>\r\n     <use x=\"912.646484\" xlink:href=\"#DejaVuSans-38\"/>\r\n     <use x=\"990.625\" xlink:href=\"#DejaVuSans-32\"/>\r\n     <use x=\"1022.412109\" xlink:href=\"#DejaVuSans-68\"/>\r\n     <use x=\"1099.414062\" xlink:href=\"#DejaVuSans-83\"/>\r\n     <use x=\"1162.890625\" xlink:href=\"#DejaVuSans-77\"/>\r\n    </g>\r\n   </g>\r\n  </g>\r\n  <g id=\"axes_2\">\r\n   <g id=\"patch_7\">\r\n    <path clip-path=\"url(#peee820b82e)\" d=\"M 215.712174 348.478125 \r\nL 215.712174 347.204062 \r\nL 215.712174 23.592187 \r\nL 215.712174 22.318125 \r\nL 221.668139 22.318125 \r\nL 221.668139 23.592187 \r\nL 221.668139 347.204062 \r\nL 221.668139 348.478125 \r\nz\r\n\" style=\"fill:#ffffff;stroke:#ffffff;stroke-linejoin:miter;stroke-width:0.01;\"/>\r\n   </g>\r\n   <image height=\"326\" id=\"image1181167df6\" transform=\"scale(1 -1)translate(0 -326)\" width=\"6\" x=\"216\" xlink:href=\"data:image/png;base64,\r\niVBORw0KGgoAAAANSUhEUgAAAAYAAAFGCAYAAABJ4+6QAAABCklEQVR4nO2YaxLDIAiERb1RTturthPtBVin61CIJv1Zgh/LwxmR43j1pPxqL0X7P9WWs25AHvrntowJ+FoMeNREdi/JeNrnn4z9S5vKSTKSvIEhI0MhPQZwyIBRecBZgymDVe4hcJvsinx0QxUh4chjYGCPMoXzjFD4UkmEUfnAA0u7/XyEltZjPu5b2u2vvtDSXvTqk66+9FNtJzI00mPwlPFgsEc5wZtRVHfOrotAq0KFCtynfeDgBAq8anYtBepp94EHXkvLtQ+aD0E7spzZPVxGe7gMGfSuz44xJZDMFR/ujHIPBhb4tE8EnFf+zMevjKnsrjQfoe3jA48VSPeu2XxI7/rLHcK/xk8LhqpsLVAAAAAASUVORK5CYII=\" y=\"-22\"/>\r\n   <g id=\"matplotlib.axis_3\"/>\r\n   <g id=\"matplotlib.axis_4\">\r\n    <g id=\"ytick_1\">\r\n     <g id=\"line2d_1\">\r\n      <defs>\r\n       <path d=\"M 0 0 \r\nL 3.5 0 \r\n\" id=\"mb701f8afa8\" style=\"stroke:#000000;stroke-width:0.8;\"/>\r\n      </defs>\r\n      <g>\r\n       <use style=\"stroke:#000000;stroke-width:0.8;\" x=\"221.668139\" xlink:href=\"#mb701f8afa8\" y=\"348.478125\"/>\r\n      </g>\r\n     </g>\r\n     <g id=\"text_2\">\r\n      <!-- 0 -->\r\n      <g transform=\"translate(228.668139 352.277344)scale(0.1 -0.1)\">\r\n       <defs>\r\n        <path d=\"M 31.78125 66.40625 \r\nQ 24.171875 66.40625 20.328125 58.90625 \r\nQ 16.5 51.421875 16.5 36.375 \r\nQ 16.5 21.390625 20.328125 13.890625 \r\nQ 24.171875 6.390625 31.78125 6.390625 \r\nQ 39.453125 6.390625 43.28125 13.890625 \r\nQ 47.125 21.390625 47.125 36.375 \r\nQ 47.125 51.421875 43.28125 58.90625 \r\nQ 39.453125 66.40625 31.78125 66.40625 \r\nz\r\nM 31.78125 74.21875 \r\nQ 44.046875 74.21875 50.515625 64.515625 \r\nQ 56.984375 54.828125 56.984375 36.375 \r\nQ 56.984375 17.96875 50.515625 8.265625 \r\nQ 44.046875 -1.421875 31.78125 -1.421875 \r\nQ 19.53125 -1.421875 13.0625 8.265625 \r\nQ 6.59375 17.96875 6.59375 36.375 \r\nQ 6.59375 54.828125 13.0625 64.515625 \r\nQ 19.53125 74.21875 31.78125 74.21875 \r\nz\r\n\" id=\"DejaVuSans-48\"/>\r\n       </defs>\r\n       <use xlink:href=\"#DejaVuSans-48\"/>\r\n      </g>\r\n     </g>\r\n    </g>\r\n    <g id=\"ytick_2\">\r\n     <g id=\"line2d_2\">\r\n      <g>\r\n       <use style=\"stroke:#000000;stroke-width:0.8;\" x=\"221.668139\" xlink:href=\"#mb701f8afa8\" y=\"290.018083\"/>\r\n      </g>\r\n     </g>\r\n     <g id=\"text_3\">\r\n      <!-- 5 -->\r\n      <g transform=\"translate(228.668139 293.817301)scale(0.1 -0.1)\">\r\n       <defs>\r\n        <path d=\"M 10.796875 72.90625 \r\nL 49.515625 72.90625 \r\nL 49.515625 64.59375 \r\nL 19.828125 64.59375 \r\nL 19.828125 46.734375 \r\nQ 21.96875 47.46875 24.109375 47.828125 \r\nQ 26.265625 48.1875 28.421875 48.1875 \r\nQ 40.625 48.1875 47.75 41.5 \r\nQ 54.890625 34.8125 54.890625 23.390625 \r\nQ 54.890625 11.625 47.5625 5.09375 \r\nQ 40.234375 -1.421875 26.90625 -1.421875 \r\nQ 22.3125 -1.421875 17.546875 -0.640625 \r\nQ 12.796875 0.140625 7.71875 1.703125 \r\nL 7.71875 11.625 \r\nQ 12.109375 9.234375 16.796875 8.0625 \r\nQ 21.484375 6.890625 26.703125 6.890625 \r\nQ 35.15625 6.890625 40.078125 11.328125 \r\nQ 45.015625 15.765625 45.015625 23.390625 \r\nQ 45.015625 31 40.078125 35.4375 \r\nQ 35.15625 39.890625 26.703125 39.890625 \r\nQ 22.75 39.890625 18.8125 39.015625 \r\nQ 14.890625 38.140625 10.796875 36.28125 \r\nz\r\n\" id=\"DejaVuSans-53\"/>\r\n       </defs>\r\n       <use xlink:href=\"#DejaVuSans-53\"/>\r\n      </g>\r\n     </g>\r\n    </g>\r\n    <g id=\"ytick_3\">\r\n     <g id=\"line2d_3\">\r\n      <g>\r\n       <use style=\"stroke:#000000;stroke-width:0.8;\" x=\"221.668139\" xlink:href=\"#mb701f8afa8\" y=\"231.55804\"/>\r\n      </g>\r\n     </g>\r\n     <g id=\"text_4\">\r\n      <!-- 10 -->\r\n      <g transform=\"translate(228.668139 235.357259)scale(0.1 -0.1)\">\r\n       <defs>\r\n        <path d=\"M 12.40625 8.296875 \r\nL 28.515625 8.296875 \r\nL 28.515625 63.921875 \r\nL 10.984375 60.40625 \r\nL 10.984375 69.390625 \r\nL 28.421875 72.90625 \r\nL 38.28125 72.90625 \r\nL 38.28125 8.296875 \r\nL 54.390625 8.296875 \r\nL 54.390625 0 \r\nL 12.40625 0 \r\nz\r\n\" id=\"DejaVuSans-49\"/>\r\n       </defs>\r\n       <use xlink:href=\"#DejaVuSans-49\"/>\r\n       <use x=\"63.623047\" xlink:href=\"#DejaVuSans-48\"/>\r\n      </g>\r\n     </g>\r\n    </g>\r\n    <g id=\"ytick_4\">\r\n     <g id=\"line2d_4\">\r\n      <g>\r\n       <use style=\"stroke:#000000;stroke-width:0.8;\" x=\"221.668139\" xlink:href=\"#mb701f8afa8\" y=\"173.097998\"/>\r\n      </g>\r\n     </g>\r\n     <g id=\"text_5\">\r\n      <!-- 15 -->\r\n      <g transform=\"translate(228.668139 176.897216)scale(0.1 -0.1)\">\r\n       <use xlink:href=\"#DejaVuSans-49\"/>\r\n       <use x=\"63.623047\" xlink:href=\"#DejaVuSans-53\"/>\r\n      </g>\r\n     </g>\r\n    </g>\r\n    <g id=\"ytick_5\">\r\n     <g id=\"line2d_5\">\r\n      <g>\r\n       <use style=\"stroke:#000000;stroke-width:0.8;\" x=\"221.668139\" xlink:href=\"#mb701f8afa8\" y=\"114.637955\"/>\r\n      </g>\r\n     </g>\r\n     <g id=\"text_6\">\r\n      <!-- 20 -->\r\n      <g transform=\"translate(228.668139 118.437174)scale(0.1 -0.1)\">\r\n       <defs>\r\n        <path d=\"M 19.1875 8.296875 \r\nL 53.609375 8.296875 \r\nL 53.609375 0 \r\nL 7.328125 0 \r\nL 7.328125 8.296875 \r\nQ 12.9375 14.109375 22.625 23.890625 \r\nQ 32.328125 33.6875 34.8125 36.53125 \r\nQ 39.546875 41.84375 41.421875 45.53125 \r\nQ 43.3125 49.21875 43.3125 52.78125 \r\nQ 43.3125 58.59375 39.234375 62.25 \r\nQ 35.15625 65.921875 28.609375 65.921875 \r\nQ 23.96875 65.921875 18.8125 64.3125 \r\nQ 13.671875 62.703125 7.8125 59.421875 \r\nL 7.8125 69.390625 \r\nQ 13.765625 71.78125 18.9375 73 \r\nQ 24.125 74.21875 28.421875 74.21875 \r\nQ 39.75 74.21875 46.484375 68.546875 \r\nQ 53.21875 62.890625 53.21875 53.421875 \r\nQ 53.21875 48.921875 51.53125 44.890625 \r\nQ 49.859375 40.875 45.40625 35.40625 \r\nQ 44.1875 33.984375 37.640625 27.21875 \r\nQ 31.109375 20.453125 19.1875 8.296875 \r\nz\r\n\" id=\"DejaVuSans-50\"/>\r\n       </defs>\r\n       <use xlink:href=\"#DejaVuSans-50\"/>\r\n       <use x=\"63.623047\" xlink:href=\"#DejaVuSans-48\"/>\r\n      </g>\r\n     </g>\r\n    </g>\r\n    <g id=\"ytick_6\">\r\n     <g id=\"line2d_6\">\r\n      <g>\r\n       <use style=\"stroke:#000000;stroke-width:0.8;\" x=\"221.668139\" xlink:href=\"#mb701f8afa8\" y=\"56.177913\"/>\r\n      </g>\r\n     </g>\r\n     <g id=\"text_7\">\r\n      <!-- 25 -->\r\n      <g transform=\"translate(228.668139 59.977132)scale(0.1 -0.1)\">\r\n       <use xlink:href=\"#DejaVuSans-50\"/>\r\n       <use x=\"63.623047\" xlink:href=\"#DejaVuSans-53\"/>\r\n      </g>\r\n     </g>\r\n    </g>\r\n   </g>\r\n   <g id=\"patch_8\">\r\n    <path d=\"M 215.712174 348.478125 \r\nL 215.712174 347.204062 \r\nL 215.712174 23.592187 \r\nL 215.712174 22.318125 \r\nL 221.668139 22.318125 \r\nL 221.668139 23.592187 \r\nL 221.668139 347.204062 \r\nL 221.668139 348.478125 \r\nz\r\n\" style=\"fill:none;stroke:#000000;stroke-linejoin:miter;stroke-width:0.8;\"/>\r\n   </g>\r\n  </g>\r\n </g>\r\n <defs>\r\n  <clipPath id=\"pb27bd420e3\">\r\n   <rect height=\"326.16\" width=\"198.532174\" x=\"10.7\" y=\"22.318125\"/>\r\n  </clipPath>\r\n  <clipPath id=\"peee820b82e\">\r\n   <rect height=\"326.16\" width=\"5.955965\" x=\"215.712174\" y=\"22.318125\"/>\r\n  </clipPath>\r\n </defs>\r\n</svg>\r\n",
      "image/png": "[encoded data removed]"
     },
     "metadata": {
      "needs_background": "light"
     }
    }
   ],
   "source": [
    "fig, ax = plt.subplots(figsize=(10, 6))\n",
    "ep.plot_bands(\n",
    "    chm, ax=ax, cmap=\"terrain\", title=\"Overlay Hillshade & DSM\",\n",
    ")\n",
    "ax.imshow(chm, cmap=\"Greys\", alpha=0.5)\n",
    "plt.show()\n"
   ]
  },
  {
   "cell_type": "code",
   "execution_count": 86,
   "metadata": {},
   "outputs": [
    {
     "output_type": "display_data",
     "data": {
      "application/vnd.plotly.v1+json": {
       "config": {
        "plotlyServerURL": "https://plot.ly"
       },
       "data": [
        {
         "type": "surface",
         "x": [
          0,
          0.045454545454545456,
          0.09090909090909091,
          0.13636363636363635,
          0.18181818181818182,
          0.2272727272727273,
          0.2727272727272727,
          0.3181818181818182,
          0.36363636363636365,
          0.4090909090909091,
          0.4545454545454546,
          0.5,
          0.5454545454545454,
          0.5909090909090909,
          0.6363636363636364,
          0.6818181818181819,
          0.7272727272727273,
          0.7727272727272727,
          0.8181818181818182,
          0.8636363636363636,
          0.9090909090909092,
          0.9545454545454546,
          1
         ],
         "y": [
          0,
          0.07692307692307693,
          0.15384615384615385,
          0.23076923076923078,
          0.3076923076923077,
          0.38461538461538464,
          0.46153846153846156,
          0.5384615384615385,
          0.6153846153846154,
          0.6923076923076923,
          0.7692307692307693,
          0.8461538461538463,
          0.9230769230769231,
          1
         ],
         "z": [
          [
           0,
           0,
           0,
           0,
           0,
           0,
           0,
           0,
           0,
           0,
           0,
           0,
           0,
           0
          ],
          [
           0,
           0,
           0,
           2.359999656677246,
           3.1800003051757812,
           0,
           0,
           0,
           0,
           0,
           0,
           0,
           0,
           0
          ],
          [
           0,
           1.869999885559082,
           2.880000114440918,
           3.3000001907348633,
           3.84999942779541,
           0,
           0,
           0,
           0,
           0,
           0,
           0,
           0,
           0
          ],
          [
           0,
           3.0799999237060547,
           3.109999656677246,
           3.1399993896484375,
           3.1499996185302734,
           3.0500001907348633,
           0,
           0,
           0,
           0,
           0,
           0,
           0,
           0
          ],
          [
           0,
           3.109999656677246,
           3.130000114440918,
           3.1499996185302734,
           3.1800003051757812,
           3.7894105911254883,
           0,
           0,
           0,
           0,
           0,
           0,
           0,
           0
          ],
          [
           0,
           0,
           3.880000114440918,
           3.1700000762939453,
           10.968454360961914,
           9.98584270477295,
           20.365753173828125,
           0,
           0,
           0,
           0,
           0,
           0,
           0
          ],
          [
           0,
           0,
           14.319999694824219,
           22.56612777709961,
           20.203216552734375,
           22.781291961669922,
           22.770015716552734,
           0,
           0,
           0,
           0,
           0,
           0,
           0
          ],
          [
           0,
           0,
           13.296854019165039,
           22.766637802124023,
           22.750652313232422,
           22.755157470703125,
           22.75446128845215,
           23.738983154296875,
           0,
           0,
           0,
           0,
           0,
           0
          ],
          [
           0,
           23.75722312927246,
           22.73398208618164,
           22.724403381347656,
           22.727346420288086,
           22.752153396606445,
           24.151107788085938,
           25.945465087890625,
           0,
           0,
           0,
           0,
           0,
           0
          ],
          [
           0,
           0,
           22.731121063232422,
           22.720962524414062,
           22.707061767578125,
           25.951278686523438,
           24.54596710205078,
           25.540084838867188,
           25.92782211303711,
           0,
           0,
           0,
           0,
           0
          ],
          [
           0,
           0,
           23.320268630981445,
           25.907838821411133,
           25.585063934326172,
           25.556236267089844,
           25.557086944580078,
           25.533836364746094,
           25.526681900024414,
           0,
           0,
           0,
           0,
           0
          ],
          [
           0,
           0,
           0,
           25.574871063232422,
           25.566272735595703,
           25.554460525512695,
           25.545093536376953,
           25.51534652709961,
           25.515485763549805,
           0,
           0,
           0,
           0,
           0
          ],
          [
           0,
           0,
           0,
           26.00151824951172,
           25.57720947265625,
           25.573850631713867,
           25.536304473876953,
           25.49310302734375,
           25.487112045288086,
           26.633817672729492,
           0,
           0,
           0,
           0
          ],
          [
           0,
           0,
           0,
           0,
           25.708160400390625,
           25.58322525024414,
           25.545848846435547,
           25.515300750732422,
           25.50548553466797,
           25.671070098876953,
           0,
           0,
           0,
           0
          ],
          [
           0,
           0,
           0,
           0,
           26.75444793701172,
           27.38256072998047,
           25.545251846313477,
           25.533668518066406,
           25.64581298828125,
           25.664691925048828,
           25.82767105102539,
           0,
           0,
           0
          ],
          [
           0,
           0,
           0,
           0,
           27.895977020263672,
           27.371864318847656,
           27.35460090637207,
           25.78549575805664,
           25.645788192749023,
           25.651443481445312,
           25.671600341796875,
           0,
           0,
           0
          ],
          [
           0,
           0,
           0,
           0,
           0,
           27.407752990722656,
           27.433597564697266,
           25.628358840942383,
           25.64730453491211,
           25.620973587036133,
           25.635536193847656,
           25.882160186767578,
           0,
           0
          ],
          [
           0,
           0,
           0,
           0,
           0,
           26.191200256347656,
           25.659515380859375,
           25.622699737548828,
           25.645267486572266,
           25.611892700195312,
           25.753686904907227,
           23.436782836914062,
           0,
           0
          ],
          [
           0,
           0,
           0,
           0,
           0,
           0,
           25.668886184692383,
           25.63393783569336,
           25.984575271606445,
           22.640850067138672,
           23.419376373291016,
           23.411237716674805,
           25.066970825195312,
           0
          ],
          [
           0,
           0,
           0,
           0,
           0,
           0,
           25.95589828491211,
           24.491588592529297,
           23.001070022583008,
           23.030092239379883,
           23.48604965209961,
           22.92532730102539,
           23.22864532470703,
           0
          ],
          [
           0,
           0,
           0,
           0,
           0,
           0,
           0,
           23.670000076293945,
           23.047252655029297,
           23.0405330657959,
           22.74170684814453,
           11.210000038146973,
           0,
           0
          ],
          [
           0,
           0,
           0,
           0,
           0,
           0,
           0,
           24.21435546875,
           22.793354034423828,
           3.9600000381469727,
           0,
           0,
           0,
           0
          ],
          [
           0,
           0,
           0,
           0,
           0,
           0,
           0,
           0,
           0,
           0,
           0,
           0,
           0,
           0
          ]
         ]
        }
       ],
       "layout": {
        "autosize": false,
        "height": 500,
        "margin": {
         "b": 65,
         "l": 65,
         "r": 50,
         "t": 90
        },
        "template": {
         "data": {
          "bar": [
           {
            "error_x": {
             "color": "#2a3f5f"
            },
            "error_y": {
             "color": "#2a3f5f"
            },
            "marker": {
             "line": {
              "color": "#E5ECF6",
              "width": 0.5
             }
            },
            "type": "bar"
           }
          ],
          "barpolar": [
           {
            "marker": {
             "line": {
              "color": "#E5ECF6",
              "width": 0.5
             }
            },
            "type": "barpolar"
           }
          ],
          "carpet": [
           {
            "aaxis": {
             "endlinecolor": "#2a3f5f",
             "gridcolor": "white",
             "linecolor": "white",
             "minorgridcolor": "white",
             "startlinecolor": "#2a3f5f"
            },
            "baxis": {
             "endlinecolor": "#2a3f5f",
             "gridcolor": "white",
             "linecolor": "white",
             "minorgridcolor": "white",
             "startlinecolor": "#2a3f5f"
            },
            "type": "carpet"
           }
          ],
          "choropleth": [
           {
            "colorbar": {
             "outlinewidth": 0,
             "ticks": ""
            },
            "type": "choropleth"
           }
          ],
          "contour": [
           {
            "colorbar": {
             "outlinewidth": 0,
             "ticks": ""
            },
            "colorscale": [
             [
              0,
              "#0d0887"
             ],
             [
              0.1111111111111111,
              "#46039f"
             ],
             [
              0.2222222222222222,
              "#7201a8"
             ],
             [
              0.3333333333333333,
              "#9c179e"
             ],
             [
              0.4444444444444444,
              "#bd3786"
             ],
             [
              0.5555555555555556,
              "#d8576b"
             ],
             [
              0.6666666666666666,
              "#ed7953"
             ],
             [
              0.7777777777777778,
              "#fb9f3a"
             ],
             [
              0.8888888888888888,
              "#fdca26"
             ],
             [
              1,
              "#f0f921"
             ]
            ],
            "type": "contour"
           }
          ],
          "contourcarpet": [
           {
            "colorbar": {
             "outlinewidth": 0,
             "ticks": ""
            },
            "type": "contourcarpet"
           }
          ],
          "heatmap": [
           {
            "colorbar": {
             "outlinewidth": 0,
             "ticks": ""
            },
            "colorscale": [
             [
              0,
              "#0d0887"
             ],
             [
              0.1111111111111111,
              "#46039f"
             ],
             [
              0.2222222222222222,
              "#7201a8"
             ],
             [
              0.3333333333333333,
              "#9c179e"
             ],
             [
              0.4444444444444444,
              "#bd3786"
             ],
             [
              0.5555555555555556,
              "#d8576b"
             ],
             [
              0.6666666666666666,
              "#ed7953"
             ],
             [
              0.7777777777777778,
              "#fb9f3a"
             ],
             [
              0.8888888888888888,
              "#fdca26"
             ],
             [
              1,
              "#f0f921"
             ]
            ],
            "type": "heatmap"
           }
          ],
          "heatmapgl": [
           {
            "colorbar": {
             "outlinewidth": 0,
             "ticks": ""
            },
            "colorscale": [
             [
              0,
              "#0d0887"
             ],
             [
              0.1111111111111111,
              "#46039f"
             ],
             [
              0.2222222222222222,
              "#7201a8"
             ],
             [
              0.3333333333333333,
              "#9c179e"
             ],
             [
              0.4444444444444444,
              "#bd3786"
             ],
             [
              0.5555555555555556,
              "#d8576b"
             ],
             [
              0.6666666666666666,
              "#ed7953"
             ],
             [
              0.7777777777777778,
              "#fb9f3a"
             ],
             [
              0.8888888888888888,
              "#fdca26"
             ],
             [
              1,
              "#f0f921"
             ]
            ],
            "type": "heatmapgl"
           }
          ],
          "histogram": [
           {
            "marker": {
             "colorbar": {
              "outlinewidth": 0,
              "ticks": ""
             }
            },
            "type": "histogram"
           }
          ],
          "histogram2d": [
           {
            "colorbar": {
             "outlinewidth": 0,
             "ticks": ""
            },
            "colorscale": [
             [
              0,
              "#0d0887"
             ],
             [
              0.1111111111111111,
              "#46039f"
             ],
             [
              0.2222222222222222,
              "#7201a8"
             ],
             [
              0.3333333333333333,
              "#9c179e"
             ],
             [
              0.4444444444444444,
              "#bd3786"
             ],
             [
              0.5555555555555556,
              "#d8576b"
             ],
             [
              0.6666666666666666,
              "#ed7953"
             ],
             [
              0.7777777777777778,
              "#fb9f3a"
             ],
             [
              0.8888888888888888,
              "#fdca26"
             ],
             [
              1,
              "#f0f921"
             ]
            ],
            "type": "histogram2d"
           }
          ],
          "histogram2dcontour": [
           {
            "colorbar": {
             "outlinewidth": 0,
             "ticks": ""
            },
            "colorscale": [
             [
              0,
              "#0d0887"
             ],
             [
              0.1111111111111111,
              "#46039f"
             ],
             [
              0.2222222222222222,
              "#7201a8"
             ],
             [
              0.3333333333333333,
              "#9c179e"
             ],
             [
              0.4444444444444444,
              "#bd3786"
             ],
             [
              0.5555555555555556,
              "#d8576b"
             ],
             [
              0.6666666666666666,
              "#ed7953"
             ],
             [
              0.7777777777777778,
              "#fb9f3a"
             ],
             [
              0.8888888888888888,
              "#fdca26"
             ],
             [
              1,
              "#f0f921"
             ]
            ],
            "type": "histogram2dcontour"
           }
          ],
          "mesh3d": [
           {
            "colorbar": {
             "outlinewidth": 0,
             "ticks": ""
            },
            "type": "mesh3d"
           }
          ],
          "parcoords": [
           {
            "line": {
             "colorbar": {
              "outlinewidth": 0,
              "ticks": ""
             }
            },
            "type": "parcoords"
           }
          ],
          "pie": [
           {
            "automargin": true,
            "type": "pie"
           }
          ],
          "scatter": [
           {
            "marker": {
             "colorbar": {
              "outlinewidth": 0,
              "ticks": ""
             }
            },
            "type": "scatter"
           }
          ],
          "scatter3d": [
           {
            "line": {
             "colorbar": {
              "outlinewidth": 0,
              "ticks": ""
             }
            },
            "marker": {
             "colorbar": {
              "outlinewidth": 0,
              "ticks": ""
             }
            },
            "type": "scatter3d"
           }
          ],
          "scattercarpet": [
           {
            "marker": {
             "colorbar": {
              "outlinewidth": 0,
              "ticks": ""
             }
            },
            "type": "scattercarpet"
           }
          ],
          "scattergeo": [
           {
            "marker": {
             "colorbar": {
              "outlinewidth": 0,
              "ticks": ""
             }
            },
            "type": "scattergeo"
           }
          ],
          "scattergl": [
           {
            "marker": {
             "colorbar": {
              "outlinewidth": 0,
              "ticks": ""
             }
            },
            "type": "scattergl"
           }
          ],
          "scattermapbox": [
           {
            "marker": {
             "colorbar": {
              "outlinewidth": 0,
              "ticks": ""
             }
            },
            "type": "scattermapbox"
           }
          ],
          "scatterpolar": [
           {
            "marker": {
             "colorbar": {
              "outlinewidth": 0,
              "ticks": ""
             }
            },
            "type": "scatterpolar"
           }
          ],
          "scatterpolargl": [
           {
            "marker": {
             "colorbar": {
              "outlinewidth": 0,
              "ticks": ""
             }
            },
            "type": "scatterpolargl"
           }
          ],
          "scatterternary": [
           {
            "marker": {
             "colorbar": {
              "outlinewidth": 0,
              "ticks": ""
             }
            },
            "type": "scatterternary"
           }
          ],
          "surface": [
           {
            "colorbar": {
             "outlinewidth": 0,
             "ticks": ""
            },
            "colorscale": [
             [
              0,
              "#0d0887"
             ],
             [
              0.1111111111111111,
              "#46039f"
             ],
             [
              0.2222222222222222,
              "#7201a8"
             ],
             [
              0.3333333333333333,
              "#9c179e"
             ],
             [
              0.4444444444444444,
              "#bd3786"
             ],
             [
              0.5555555555555556,
              "#d8576b"
             ],
             [
              0.6666666666666666,
              "#ed7953"
             ],
             [
              0.7777777777777778,
              "#fb9f3a"
             ],
             [
              0.8888888888888888,
              "#fdca26"
             ],
             [
              1,
              "#f0f921"
             ]
            ],
            "type": "surface"
           }
          ],
          "table": [
           {
            "cells": {
             "fill": {
              "color": "#EBF0F8"
             },
             "line": {
              "color": "white"
             }
            },
            "header": {
             "fill": {
              "color": "#C8D4E3"
             },
             "line": {
              "color": "white"
             }
            },
            "type": "table"
           }
          ]
         },
         "layout": {
          "annotationdefaults": {
           "arrowcolor": "#2a3f5f",
           "arrowhead": 0,
           "arrowwidth": 1
          },
          "autotypenumbers": "strict",
          "coloraxis": {
           "colorbar": {
            "outlinewidth": 0,
            "ticks": ""
           }
          },
          "colorscale": {
           "diverging": [
            [
             0,
             "#8e0152"
            ],
            [
             0.1,
             "#c51b7d"
            ],
            [
             0.2,
             "#de77ae"
            ],
            [
             0.3,
             "#f1b6da"
            ],
            [
             0.4,
             "#fde0ef"
            ],
            [
             0.5,
             "#f7f7f7"
            ],
            [
             0.6,
             "#e6f5d0"
            ],
            [
             0.7,
             "#b8e186"
            ],
            [
             0.8,
             "#7fbc41"
            ],
            [
             0.9,
             "#4d9221"
            ],
            [
             1,
             "#276419"
            ]
           ],
           "sequential": [
            [
             0,
             "#0d0887"
            ],
            [
             0.1111111111111111,
             "#46039f"
            ],
            [
             0.2222222222222222,
             "#7201a8"
            ],
            [
             0.3333333333333333,
             "#9c179e"
            ],
            [
             0.4444444444444444,
             "#bd3786"
            ],
            [
             0.5555555555555556,
             "#d8576b"
            ],
            [
             0.6666666666666666,
             "#ed7953"
            ],
            [
             0.7777777777777778,
             "#fb9f3a"
            ],
            [
             0.8888888888888888,
             "#fdca26"
            ],
            [
             1,
             "#f0f921"
            ]
           ],
           "sequentialminus": [
            [
             0,
             "#0d0887"
            ],
            [
             0.1111111111111111,
             "#46039f"
            ],
            [
             0.2222222222222222,
             "#7201a8"
            ],
            [
             0.3333333333333333,
             "#9c179e"
            ],
            [
             0.4444444444444444,
             "#bd3786"
            ],
            [
             0.5555555555555556,
             "#d8576b"
            ],
            [
             0.6666666666666666,
             "#ed7953"
            ],
            [
             0.7777777777777778,
             "#fb9f3a"
            ],
            [
             0.8888888888888888,
             "#fdca26"
            ],
            [
             1,
             "#f0f921"
            ]
           ]
          },
          "colorway": [
           "#636efa",
           "#EF553B",
           "#00cc96",
           "#ab63fa",
           "#FFA15A",
           "#19d3f3",
           "#FF6692",
           "#B6E880",
           "#FF97FF",
           "#FECB52"
          ],
          "font": {
           "color": "#2a3f5f"
          },
          "geo": {
           "bgcolor": "white",
           "lakecolor": "white",
           "landcolor": "#E5ECF6",
           "showlakes": true,
           "showland": true,
           "subunitcolor": "white"
          },
          "hoverlabel": {
           "align": "left"
          },
          "hovermode": "closest",
          "mapbox": {
           "style": "light"
          },
          "paper_bgcolor": "white",
          "plot_bgcolor": "#E5ECF6",
          "polar": {
           "angularaxis": {
            "gridcolor": "white",
            "linecolor": "white",
            "ticks": ""
           },
           "bgcolor": "#E5ECF6",
           "radialaxis": {
            "gridcolor": "white",
            "linecolor": "white",
            "ticks": ""
           }
          },
          "scene": {
           "xaxis": {
            "backgroundcolor": "#E5ECF6",
            "gridcolor": "white",
            "gridwidth": 2,
            "linecolor": "white",
            "showbackground": true,
            "ticks": "",
            "zerolinecolor": "white"
           },
           "yaxis": {
            "backgroundcolor": "#E5ECF6",
            "gridcolor": "white",
            "gridwidth": 2,
            "linecolor": "white",
            "showbackground": true,
            "ticks": "",
            "zerolinecolor": "white"
           },
           "zaxis": {
            "backgroundcolor": "#E5ECF6",
            "gridcolor": "white",
            "gridwidth": 2,
            "linecolor": "white",
            "showbackground": true,
            "ticks": "",
            "zerolinecolor": "white"
           }
          },
          "shapedefaults": {
           "line": {
            "color": "#2a3f5f"
           }
          },
          "ternary": {
           "aaxis": {
            "gridcolor": "white",
            "linecolor": "white",
            "ticks": ""
           },
           "baxis": {
            "gridcolor": "white",
            "linecolor": "white",
            "ticks": ""
           },
           "bgcolor": "#E5ECF6",
           "caxis": {
            "gridcolor": "white",
            "linecolor": "white",
            "ticks": ""
           }
          },
          "title": {
           "x": 0.05
          },
          "xaxis": {
           "automargin": true,
           "gridcolor": "white",
           "linecolor": "white",
           "ticks": "",
           "title": {
            "standoff": 15
           },
           "zerolinecolor": "white",
           "zerolinewidth": 2
          },
          "yaxis": {
           "automargin": true,
           "gridcolor": "white",
           "linecolor": "white",
           "ticks": "",
           "title": {
            "standoff": 15
           },
           "zerolinecolor": "white",
           "zerolinewidth": 2
          }
         }
        },
        "title": {
         "text": "House"
        },
        "width": 500
       }
      }
     },
     "metadata": {}
    }
   ],
   "source": [
    "\n",
    "z = chm\n",
    "sh_0, sh_1 = z.shape\n",
    "x, y = np.linspace(0, 1, sh_0), np.linspace(0, 1, sh_1)\n",
    "fig = go.Figure(data=[go.Surface(z=z, x=x, y=y)])\n",
    "fig.update_layout(title='House', autosize=False,\n",
    "                  width=500, height=500,\n",
    "                  margin=dict(l=65, r=50, b=65, t=90))\n",
    "fig.show()"
   ]
  },
  {
   "cell_type": "code",
   "execution_count": 87,
   "metadata": {},
   "outputs": [
    {
     "output_type": "stream",
     "name": "stdout",
     "text": [
      "Altitude: 27.895977 m\nCoordinates: 31264.32709718496 , 203900.1499035433\n"
     ]
    }
   ],
   "source": [
    "print('Altitude:',np.amax(z),'m')\n",
    "print('Coordinates:',polygone[0][0][0],',',polygone[0][0][1])"
   ]
  }
 ],
 "metadata": {
  "kernelspec": {
   "display_name": "Python 3",
   "language": "python",
   "name": "python3"
  },
  "language_info": {
   "codemirror_mode": {
    "name": "ipython",
    "version": 3
   },
   "file_extension": ".py",
   "mimetype": "text/x-python",
   "name": "python",
   "nbconvert_exporter": "python",
   "pygments_lexer": "ipython3",
   "version": "3.8.6-final"
  }
 },
 "nbformat": 4,
 "nbformat_minor": 4
}