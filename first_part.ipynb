{
 "metadata": {
  "language_info": {
   "codemirror_mode": {
    "name": "ipython",
    "version": 3
   },
   "file_extension": ".py",
   "mimetype": "text/x-python",
   "name": "python",
   "nbconvert_exporter": "python",
   "pygments_lexer": "ipython3",
   "version": "3.8.6-final"
  },
  "orig_nbformat": 2,
  "kernelspec": {
   "name": "python3",
   "display_name": "Python 3.8.6 64-bit ('maps_env': conda)",
   "metadata": {
    "interpreter": {
     "hash": "835460a5a53b7de835beab5a12ef9ce0e6feab786c68abd0099c4703ceac1391"
    }
   }
  }
 },
 "nbformat": 4,
 "nbformat_minor": 2,
 "cells": [
  {
   "cell_type": "code",
   "execution_count": 2,
   "metadata": {},
   "outputs": [],
   "source": [
    "import os\n",
    "import requests"
   ]
  },
  {
   "cell_type": "code",
   "execution_count": 5,
   "metadata": {},
   "outputs": [],
   "source": [
    "import rasterio as rio\n",
    "import rioxarray as rxr"
   ]
  },
  {
   "cell_type": "code",
   "execution_count": 16,
   "metadata": {},
   "outputs": [],
   "source": [
    "import pandas as pd"
   ]
  },
  {
   "cell_type": "code",
   "execution_count": 50,
   "metadata": {},
   "outputs": [],
   "source": [
    "lst_files=os.listdir('DSM')"
   ]
  },
  {
   "cell_type": "code",
   "execution_count": 51,
   "metadata": {},
   "outputs": [
    {
     "output_type": "execute_result",
     "data": {
      "text/plain": [
       "18"
      ]
     },
     "metadata": {},
     "execution_count": 51
    }
   ],
   "source": [
    "len(lst_files)"
   ]
  },
  {
   "cell_type": "code",
   "execution_count": 52,
   "metadata": {},
   "outputs": [
    {
     "output_type": "stream",
     "name": "stdout",
     "text": [
      "[['DHMVIIDSMRAS1m_k01.tif', 145000.0, 238000.0, 162000.0, 247000.0], ['DHMVIIDSMRAS1m_k02.tif', 162000.0, 238000.0, 194000.0, 250000.0], ['DHMVIIDSMRAS1m_k03.tif', 194000.0, 238000.0, 206000.0, 248000.0], ['DHMVIIDSMRAS1m_k04.tif', 53000.0, 218000.0, 66000.0, 225500.0], ['DHMVIIDSMRAS1m_k05.tif', 66000.0, 218000.0, 98000.0, 232000.0], ['DHMVIIDSMRAS1m_k06.tif', 98000.0, 218000.0, 130000.0, 227000.0], ['DHMVIIDSMRAS1m_k10.tif', 226000.0, 218000.0, 238000.0, 227000.0], ['DHMVIIDSMRAS1m_k11.tif', 18500.0, 198000.0, 34000.0, 206500.0], ['DHMVIIDSMRAS1m_k14.tif', 98000.0, 198000.0, 130000.0, 218000.0], ['DHMVIIDSMRAS1m_k15.tif', 130000.0, 198000.0, 162000.0, 218000.0], ['DHMVIIDSMRAS1m_k17.tif', 194000.0, 198000.0, 226000.0, 218000.0], ['DHMVIIDSMRAS1m_k18.tif', 226000.0, 198000.0, 258000.0, 218000.0], ['DHMVIIDSMRAS1m_k19.tif', 17000.0, 178000.0, 34000.0, 198000.0], ['DHMVIIDSMRAS1m_k20.tif', 34000.0, 178000.0, 66000.0, 198000.0], ['DHMVIIDSMRAS1m_k21.tif', 66000.0, 178000.0, 98000.0, 198000.0], ['DHMVIIDSMRAS1m_k22.tif', 98000.0, 178000.0, 130000.0, 198000.0], ['DHMVIIDSMRAS1m_k23.tif', 130000.0, 178000.0, 162000.0, 198000.0], ['DHMVIIDSMRAS1m_k35.tif', 258000.0, 158000.0, 264000.0, 169000.0]]\n"
     ]
    }
   ],
   "source": [
    "bounds_lst=[]\n",
    "for lst in lst_files:\n",
    "    lidar_dmt_xr = rxr.open_rasterio('DSM/'+lst, masked=True).squeeze()\n",
    "    bounds=lidar_dmt_xr.rio.bounds()\n",
    "    bounds_lst.append([lst, bounds[0], bounds[1], bounds[2], bounds[3]])\n",
    "print(bounds_lst)"
   ]
  },
  {
   "cell_type": "code",
   "execution_count": 63,
   "metadata": {},
   "outputs": [],
   "source": [
    "bounds_df=pd.DataFrame(bounds_lst, columns=[\"file\", \"xmin\", \"ymin\", \"xmax\", \"ymax\"])"
   ]
  },
  {
   "cell_type": "code",
   "execution_count": 64,
   "metadata": {},
   "outputs": [],
   "source": [
    "bounds_df.set_index('file', inplace=True)"
   ]
  },
  {
   "cell_type": "code",
   "execution_count": 65,
   "metadata": {},
   "outputs": [
    {
     "output_type": "execute_result",
     "data": {
      "text/plain": [
       "                            xmin      ymin      xmax      ymax\n",
       "file                                                          \n",
       "DHMVIIDSMRAS1m_k01.tif  145000.0  238000.0  162000.0  247000.0\n",
       "DHMVIIDSMRAS1m_k02.tif  162000.0  238000.0  194000.0  250000.0\n",
       "DHMVIIDSMRAS1m_k03.tif  194000.0  238000.0  206000.0  248000.0\n",
       "DHMVIIDSMRAS1m_k04.tif   53000.0  218000.0   66000.0  225500.0\n",
       "DHMVIIDSMRAS1m_k05.tif   66000.0  218000.0   98000.0  232000.0\n",
       "DHMVIIDSMRAS1m_k06.tif   98000.0  218000.0  130000.0  227000.0\n",
       "DHMVIIDSMRAS1m_k10.tif  226000.0  218000.0  238000.0  227000.0\n",
       "DHMVIIDSMRAS1m_k11.tif   18500.0  198000.0   34000.0  206500.0\n",
       "DHMVIIDSMRAS1m_k14.tif   98000.0  198000.0  130000.0  218000.0\n",
       "DHMVIIDSMRAS1m_k15.tif  130000.0  198000.0  162000.0  218000.0\n",
       "DHMVIIDSMRAS1m_k17.tif  194000.0  198000.0  226000.0  218000.0\n",
       "DHMVIIDSMRAS1m_k18.tif  226000.0  198000.0  258000.0  218000.0\n",
       "DHMVIIDSMRAS1m_k19.tif   17000.0  178000.0   34000.0  198000.0\n",
       "DHMVIIDSMRAS1m_k20.tif   34000.0  178000.0   66000.0  198000.0\n",
       "DHMVIIDSMRAS1m_k21.tif   66000.0  178000.0   98000.0  198000.0\n",
       "DHMVIIDSMRAS1m_k22.tif   98000.0  178000.0  130000.0  198000.0\n",
       "DHMVIIDSMRAS1m_k23.tif  130000.0  178000.0  162000.0  198000.0\n",
       "DHMVIIDSMRAS1m_k35.tif  258000.0  158000.0  264000.0  169000.0"
      ],
      "text/html": "<div>\n<style scoped>\n    .dataframe tbody tr th:only-of-type {\n        vertical-align: middle;\n    }\n\n    .dataframe tbody tr th {\n        vertical-align: top;\n    }\n\n    .dataframe thead th {\n        text-align: right;\n    }\n</style>\n<table border=\"1\" class=\"dataframe\">\n  <thead>\n    <tr style=\"text-align: right;\">\n      <th></th>\n      <th>xmin</th>\n      <th>ymin</th>\n      <th>xmax</th>\n      <th>ymax</th>\n    </tr>\n    <tr>\n      <th>file</th>\n      <th></th>\n      <th></th>\n      <th></th>\n      <th></th>\n    </tr>\n  </thead>\n  <tbody>\n    <tr>\n      <th>DHMVIIDSMRAS1m_k01.tif</th>\n      <td>145000.0</td>\n      <td>238000.0</td>\n      <td>162000.0</td>\n      <td>247000.0</td>\n    </tr>\n    <tr>\n      <th>DHMVIIDSMRAS1m_k02.tif</th>\n      <td>162000.0</td>\n      <td>238000.0</td>\n      <td>194000.0</td>\n      <td>250000.0</td>\n    </tr>\n    <tr>\n      <th>DHMVIIDSMRAS1m_k03.tif</th>\n      <td>194000.0</td>\n      <td>238000.0</td>\n      <td>206000.0</td>\n      <td>248000.0</td>\n    </tr>\n    <tr>\n      <th>DHMVIIDSMRAS1m_k04.tif</th>\n      <td>53000.0</td>\n      <td>218000.0</td>\n      <td>66000.0</td>\n      <td>225500.0</td>\n    </tr>\n    <tr>\n      <th>DHMVIIDSMRAS1m_k05.tif</th>\n      <td>66000.0</td>\n      <td>218000.0</td>\n      <td>98000.0</td>\n      <td>232000.0</td>\n    </tr>\n    <tr>\n      <th>DHMVIIDSMRAS1m_k06.tif</th>\n      <td>98000.0</td>\n      <td>218000.0</td>\n      <td>130000.0</td>\n      <td>227000.0</td>\n    </tr>\n    <tr>\n      <th>DHMVIIDSMRAS1m_k10.tif</th>\n      <td>226000.0</td>\n      <td>218000.0</td>\n      <td>238000.0</td>\n      <td>227000.0</td>\n    </tr>\n    <tr>\n      <th>DHMVIIDSMRAS1m_k11.tif</th>\n      <td>18500.0</td>\n      <td>198000.0</td>\n      <td>34000.0</td>\n      <td>206500.0</td>\n    </tr>\n    <tr>\n      <th>DHMVIIDSMRAS1m_k14.tif</th>\n      <td>98000.0</td>\n      <td>198000.0</td>\n      <td>130000.0</td>\n      <td>218000.0</td>\n    </tr>\n    <tr>\n      <th>DHMVIIDSMRAS1m_k15.tif</th>\n      <td>130000.0</td>\n      <td>198000.0</td>\n      <td>162000.0</td>\n      <td>218000.0</td>\n    </tr>\n    <tr>\n      <th>DHMVIIDSMRAS1m_k17.tif</th>\n      <td>194000.0</td>\n      <td>198000.0</td>\n      <td>226000.0</td>\n      <td>218000.0</td>\n    </tr>\n    <tr>\n      <th>DHMVIIDSMRAS1m_k18.tif</th>\n      <td>226000.0</td>\n      <td>198000.0</td>\n      <td>258000.0</td>\n      <td>218000.0</td>\n    </tr>\n    <tr>\n      <th>DHMVIIDSMRAS1m_k19.tif</th>\n      <td>17000.0</td>\n      <td>178000.0</td>\n      <td>34000.0</td>\n      <td>198000.0</td>\n    </tr>\n    <tr>\n      <th>DHMVIIDSMRAS1m_k20.tif</th>\n      <td>34000.0</td>\n      <td>178000.0</td>\n      <td>66000.0</td>\n      <td>198000.0</td>\n    </tr>\n    <tr>\n      <th>DHMVIIDSMRAS1m_k21.tif</th>\n      <td>66000.0</td>\n      <td>178000.0</td>\n      <td>98000.0</td>\n      <td>198000.0</td>\n    </tr>\n    <tr>\n      <th>DHMVIIDSMRAS1m_k22.tif</th>\n      <td>98000.0</td>\n      <td>178000.0</td>\n      <td>130000.0</td>\n      <td>198000.0</td>\n    </tr>\n    <tr>\n      <th>DHMVIIDSMRAS1m_k23.tif</th>\n      <td>130000.0</td>\n      <td>178000.0</td>\n      <td>162000.0</td>\n      <td>198000.0</td>\n    </tr>\n    <tr>\n      <th>DHMVIIDSMRAS1m_k35.tif</th>\n      <td>258000.0</td>\n      <td>158000.0</td>\n      <td>264000.0</td>\n      <td>169000.0</td>\n    </tr>\n  </tbody>\n</table>\n</div>"
     },
     "metadata": {},
     "execution_count": 65
    }
   ],
   "source": [
    "bounds_df"
   ]
  },
  {
   "cell_type": "code",
   "execution_count": 66,
   "metadata": {},
   "outputs": [],
   "source": [
    "x= 262771.7562103644\n",
    "y= 159236.0080049839"
   ]
  },
  {
   "cell_type": "code",
   "execution_count": 83,
   "metadata": {},
   "outputs": [],
   "source": [
    "tiff_selected = bounds_df.loc[(x<bounds_df.xmax) & (x > bounds_df.xmin) & (y > bounds_df.ymin) & (y > bounds_df.ymin) ]"
   ]
  },
  {
   "cell_type": "code",
   "execution_count": 88,
   "metadata": {},
   "outputs": [],
   "source": [
    "file_selected= tiff_selected.index.format()[0]"
   ]
  },
  {
   "cell_type": "code",
   "execution_count": 90,
   "metadata": {},
   "outputs": [
    {
     "output_type": "execute_result",
     "data": {
      "text/plain": [
       "'DHMVIIDSMRAS1m_k35.tif'"
      ]
     },
     "metadata": {},
     "execution_count": 90
    }
   ],
   "source": [
    "file_selected"
   ]
  },
  {
   "cell_type": "code",
   "execution_count": 91,
   "metadata": {},
   "outputs": [],
   "source": [
    "#to get the adress\n",
    "belgium= pd.read_csv('belgium.csv')"
   ]
  },
  {
   "cell_type": "code",
   "execution_count": 92,
   "metadata": {},
   "outputs": [
    {
     "output_type": "execute_result",
     "data": {
      "text/plain": [
       "        LON        LAT NUMBER                     STREET  UNIT  \\\n",
       "0  4.349066  50.875993     18                 Rue Ketels   NaN   \n",
       "1  4.349304  50.875669      2                 Rue Ketels   NaN   \n",
       "2  4.348664  50.876226    207  Boulevard Emile Bockstael   NaN   \n",
       "3  4.327375  50.852499     21       Rue Henri De Saegher   NaN   \n",
       "4  4.340312  50.827043     44           Rue de la Perche   NaN   \n",
       "\n",
       "                   CITY  DISTRICT  REGION  POSTCODE  ID              HASH  \n",
       "0             Bruxelles       NaN     NaN    1020.0 NaN  907a3f8ce426511a  \n",
       "1             Bruxelles       NaN     NaN    1020.0 NaN  c344bf265f143269  \n",
       "2             Bruxelles       NaN     NaN    1020.0 NaN  beaf5e1885a7adde  \n",
       "3  Molenbeek-Saint-Jean       NaN     NaN    1080.0 NaN  dac65b997dd700eb  \n",
       "4          Saint-Gilles       NaN     NaN    1060.0 NaN  b5533ebd16bd4ea7  "
      ],
      "text/html": "<div>\n<style scoped>\n    .dataframe tbody tr th:only-of-type {\n        vertical-align: middle;\n    }\n\n    .dataframe tbody tr th {\n        vertical-align: top;\n    }\n\n    .dataframe thead th {\n        text-align: right;\n    }\n</style>\n<table border=\"1\" class=\"dataframe\">\n  <thead>\n    <tr style=\"text-align: right;\">\n      <th></th>\n      <th>LON</th>\n      <th>LAT</th>\n      <th>NUMBER</th>\n      <th>STREET</th>\n      <th>UNIT</th>\n      <th>CITY</th>\n      <th>DISTRICT</th>\n      <th>REGION</th>\n      <th>POSTCODE</th>\n      <th>ID</th>\n      <th>HASH</th>\n    </tr>\n  </thead>\n  <tbody>\n    <tr>\n      <th>0</th>\n      <td>4.349066</td>\n      <td>50.875993</td>\n      <td>18</td>\n      <td>Rue Ketels</td>\n      <td>NaN</td>\n      <td>Bruxelles</td>\n      <td>NaN</td>\n      <td>NaN</td>\n      <td>1020.0</td>\n      <td>NaN</td>\n      <td>907a3f8ce426511a</td>\n    </tr>\n    <tr>\n      <th>1</th>\n      <td>4.349304</td>\n      <td>50.875669</td>\n      <td>2</td>\n      <td>Rue Ketels</td>\n      <td>NaN</td>\n      <td>Bruxelles</td>\n      <td>NaN</td>\n      <td>NaN</td>\n      <td>1020.0</td>\n      <td>NaN</td>\n      <td>c344bf265f143269</td>\n    </tr>\n    <tr>\n      <th>2</th>\n      <td>4.348664</td>\n      <td>50.876226</td>\n      <td>207</td>\n      <td>Boulevard Emile Bockstael</td>\n      <td>NaN</td>\n      <td>Bruxelles</td>\n      <td>NaN</td>\n      <td>NaN</td>\n      <td>1020.0</td>\n      <td>NaN</td>\n      <td>beaf5e1885a7adde</td>\n    </tr>\n    <tr>\n      <th>3</th>\n      <td>4.327375</td>\n      <td>50.852499</td>\n      <td>21</td>\n      <td>Rue Henri De Saegher</td>\n      <td>NaN</td>\n      <td>Molenbeek-Saint-Jean</td>\n      <td>NaN</td>\n      <td>NaN</td>\n      <td>1080.0</td>\n      <td>NaN</td>\n      <td>dac65b997dd700eb</td>\n    </tr>\n    <tr>\n      <th>4</th>\n      <td>4.340312</td>\n      <td>50.827043</td>\n      <td>44</td>\n      <td>Rue de la Perche</td>\n      <td>NaN</td>\n      <td>Saint-Gilles</td>\n      <td>NaN</td>\n      <td>NaN</td>\n      <td>1060.0</td>\n      <td>NaN</td>\n      <td>b5533ebd16bd4ea7</td>\n    </tr>\n  </tbody>\n</table>\n</div>"
     },
     "metadata": {},
     "execution_count": 92
    }
   ],
   "source": [
    "belgium.head()"
   ]
  },
  {
   "cell_type": "code",
   "execution_count": 116,
   "metadata": {},
   "outputs": [],
   "source": [
    "NUMBER='21'\n",
    "STREET='Rue Henri De Saegher'\n",
    "CITY='Molenbeek-Saint-Jean'\n",
    "POSTCODE=1080\n"
   ]
  },
  {
   "cell_type": "code",
   "execution_count": 122,
   "metadata": {},
   "outputs": [],
   "source": [
    "address_selected = belgium.loc[(belgium.NUMBER == NUMBER)&(belgium.STREET == STREET)&(belgium.CITY == CITY)&(belgium.POSTCODE == POSTCODE)]"
   ]
  },
  {
   "cell_type": "code",
   "execution_count": 123,
   "metadata": {},
   "outputs": [
    {
     "output_type": "execute_result",
     "data": {
      "text/plain": [
       "        LON        LAT NUMBER                STREET  UNIT  \\\n",
       "3  4.327375  50.852499     21  Rue Henri De Saegher   NaN   \n",
       "\n",
       "                   CITY  DISTRICT  REGION  POSTCODE  ID              HASH  \n",
       "3  Molenbeek-Saint-Jean       NaN     NaN    1080.0 NaN  dac65b997dd700eb  "
      ],
      "text/html": "<div>\n<style scoped>\n    .dataframe tbody tr th:only-of-type {\n        vertical-align: middle;\n    }\n\n    .dataframe tbody tr th {\n        vertical-align: top;\n    }\n\n    .dataframe thead th {\n        text-align: right;\n    }\n</style>\n<table border=\"1\" class=\"dataframe\">\n  <thead>\n    <tr style=\"text-align: right;\">\n      <th></th>\n      <th>LON</th>\n      <th>LAT</th>\n      <th>NUMBER</th>\n      <th>STREET</th>\n      <th>UNIT</th>\n      <th>CITY</th>\n      <th>DISTRICT</th>\n      <th>REGION</th>\n      <th>POSTCODE</th>\n      <th>ID</th>\n      <th>HASH</th>\n    </tr>\n  </thead>\n  <tbody>\n    <tr>\n      <th>3</th>\n      <td>4.327375</td>\n      <td>50.852499</td>\n      <td>21</td>\n      <td>Rue Henri De Saegher</td>\n      <td>NaN</td>\n      <td>Molenbeek-Saint-Jean</td>\n      <td>NaN</td>\n      <td>NaN</td>\n      <td>1080.0</td>\n      <td>NaN</td>\n      <td>dac65b997dd700eb</td>\n    </tr>\n  </tbody>\n</table>\n</div>"
     },
     "metadata": {},
     "execution_count": 123
    }
   ],
   "source": [
    "address_selected"
   ]
  },
  {
   "cell_type": "code",
   "execution_count": 144,
   "metadata": {},
   "outputs": [],
   "source": [
    "new_y=address_selected['LON'].values[0]\n",
    "new_x=address_selected['LAT'].values[0]"
   ]
  },
  {
   "cell_type": "code",
   "execution_count": 146,
   "metadata": {},
   "outputs": [
    {
     "output_type": "execute_result",
     "data": {
      "text/plain": [
       "(50.8524989, 4.3273749)"
      ]
     },
     "metadata": {},
     "execution_count": 146
    }
   ],
   "source": [
    "new_x, new_y"
   ]
  },
  {
   "cell_type": "code",
   "execution_count": null,
   "metadata": {},
   "outputs": [],
   "source": []
  }
 ]
}