{
 "metadata": {
  "language_info": {
   "codemirror_mode": {
    "name": "ipython",
    "version": 3
   },
   "file_extension": ".py",
   "mimetype": "text/x-python",
   "name": "python",
   "nbconvert_exporter": "python",
   "pygments_lexer": "ipython3",
   "version": "3.8.6-final"
  },
  "orig_nbformat": 2,
  "kernelspec": {
   "name": "python3",
   "display_name": "Python 3.8.6 64-bit ('maps_env': conda)",
   "metadata": {
    "interpreter": {
     "hash": "835460a5a53b7de835beab5a12ef9ce0e6feab786c68abd0099c4703ceac1391"
    }
   }
  }
 },
 "nbformat": 4,
 "nbformat_minor": 2,
 "cells": [
  {
   "source": [
    "This file was used to prepare the files dsm_info.csv and dtm_info.csv Both files contain the minimum and maximum coordinates of each tiff file available in the database. To prepare both files it would be necessary to download all the fiff files, read with rasterio each file to obtain its limit coordinates (called \"bounds\").\n",
    "This file is only published to show how the csv files were obtained.\n"
   ],
   "cell_type": "markdown",
   "metadata": {}
  },
  {
   "cell_type": "code",
   "execution_count": 7,
   "metadata": {},
   "outputs": [
    {
     "output_type": "execute_result",
     "data": {
      "text/plain": [
       "' Prepare files\\n    1. Make a dataframe with the bounds per tiff file, so que can use a loc mehtod to select only \\n    the desired file'"
      ]
     },
     "metadata": {},
     "execution_count": 7
    }
   ],
   "source": [
    "import os\n",
    "import requests\n",
    "import rasterio as rio\n",
    "import rioxarray as rxr\n",
    "import pandas as pd\n",
    "\n",
    "\"\"\" Prepare files\n",
    "    1. Make a dataframe with the bounds per tiff file, so que can use a loc mehtod to select only \n",
    "    the desired file\"\"\""
   ]
  },
  {
   "cell_type": "code",
   "execution_count": 2,
   "metadata": {},
   "outputs": [],
   "source": [
    "\"\"\" 1.A: Files for DSM\"\"\"\n",
    "dsm_files = os.listdir(\"DSM\")\n",
    "dsm_bounds_lst = []\n",
    "for lst in dsm_files:\n",
    "    file = rxr.open_rasterio(\"DSM/\" + lst, masked=True).squeeze()\n",
    "    dsm_bounds = file.rio.bounds()\n",
    "    dsm_bounds_lst.append(\n",
    "        [lst, dsm_bounds[0], dsm_bounds[1], dsm_bounds[2], dsm_bounds[3]]\n",
    "    )\n",
    "\n",
    "dsm_df = pd.DataFrame(dsm_bounds_lst, columns=[\"file\", \"xmin\", \"ymin\", \"xmax\", \"ymax\"])\n",
    "\n",
    "dsm_df.set_index(\"file\", inplace=True)"
   ]
  },
  {
   "cell_type": "code",
   "execution_count": 10,
   "metadata": {},
   "outputs": [],
   "source": [
    "\"\"\" 1.B: Files for DTM\"\"\"\n",
    "dtm_files = os.listdir(\"DTM\")\n",
    "dtm_bounds_lst = []\n",
    "for lst in dtm_files:\n",
    "    file = rxr.open_rasterio(\"DTM/\" + lst, masked=True).squeeze()\n",
    "    dtm_bounds = file.rio.bounds()\n",
    "    dtm_bounds_lst.append(\n",
    "        [lst, dtm_bounds[0], dtm_bounds[1], dtm_bounds[2], dtm_bounds[3]]\n",
    "    )\n",
    "\n",
    "dtm_df = pd.DataFrame(dtm_bounds_lst, columns=[\"file\", \"xmin\", \"ymin\", \"xmax\", \"ymax\"])\n",
    "\n",
    "dtm_df.set_index(\"file\", inplace=True)"
   ]
  },
  {
   "cell_type": "code",
   "execution_count": 11,
   "metadata": {},
   "outputs": [],
   "source": [
    "dtm_df.to_csv('dtm_info.csv')\n",
    "dsm_df.to_csv('dsm_info.csv')"
   ]
  }
 ]
}